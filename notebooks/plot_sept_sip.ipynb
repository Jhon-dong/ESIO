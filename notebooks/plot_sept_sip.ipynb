{
 "cells": [
  {
   "cell_type": "code",
   "execution_count": 1,
   "metadata": {},
   "outputs": [],
   "source": [
    "'''\n",
    "\n",
    "This code is part of the SIPN2 project focused on improving sub-seasonal to seasonal predictions of Arctic Sea Ice. \n",
    "If you use this code for a publication or presentation, please cite the reference in the README.md on the\n",
    "main page (https://github.com/NicWayand/ESIO). \n",
    "\n",
    "Questions or comments should be addressed to nicway@uw.edu\n",
    "\n",
    "Copyright (c) 2018 Nic Wayand\n",
    "\n",
    "GNU General Public License v3.0\n",
    "\n",
    "\n",
    "'''\n",
    "\n",
    "'''\n",
    "Plot forecast maps with all available models.\n",
    "'''\n",
    "\n",
    "%matplotlib inline\n",
    "%load_ext autoreload\n",
    "%autoreload\n",
    "import matplotlib\n",
    "#matplotlib.use('Agg')\n",
    "import matplotlib.pyplot as plt\n",
    "from collections import OrderedDict\n",
    "import itertools\n",
    "import numpy as np\n",
    "import timeit\n",
    "import numpy.ma as ma\n",
    "import pandas as pd\n",
    "import struct\n",
    "import os\n",
    "import xarray as xr\n",
    "import xesmf as xe\n",
    "import glob\n",
    "import datetime\n",
    "import cartopy.crs as ccrs\n",
    "from cartopy.mpl.gridliner import LONGITUDE_FORMATTER, LATITUDE_FORMATTER\n",
    "import seaborn as sns\n",
    "np.seterr(divide='ignore', invalid='ignore')\n",
    "import warnings\n",
    "warnings.simplefilter(action='ignore', category=FutureWarning)\n",
    "\n",
    "from esio import EsioData as ed\n",
    "from esio import ice_plot\n",
    "from esio import import_data\n",
    "\n",
    "\n",
    "import dask\n",
    "#dask.set_options(get=dask.threaded.get)\n",
    "\n",
    "\n",
    "# General plotting settings\n",
    "sns.set_style('ticks')\n",
    "sns.set_context(\"talk\", font_scale=.8, rc={\"lines.linewidth\": 2.5})"
   ]
  },
  {
   "cell_type": "code",
   "execution_count": 2,
   "metadata": {},
   "outputs": [],
   "source": [
    "E = ed.EsioData.load()\n",
    "# Directories\n",
    "all_models=['rasmesrl']\n",
    "runType='forecast'\n",
    "updateall = False"
   ]
  },
  {
   "cell_type": "code",
   "execution_count": 3,
   "metadata": {},
   "outputs": [],
   "source": [
    "# Plotting Info\n",
    "runType = 'forecast'\n",
    "variables = ['sic']\n",
    "metrics_all = {'sic':['SIP']}\n",
    "#metrics_all = {'sic':['SIP']}\n",
    "updateAll = True\n",
    "# Some models are terrible/have serious issues, so don't include in MME\n",
    "MME_NO = ['hcmr']"
   ]
  },
  {
   "cell_type": "code",
   "execution_count": 4,
   "metadata": {},
   "outputs": [],
   "source": [
    "# Target time range\n",
    "valid_start = np.datetime64('2018-09-01')\n",
    "valid_end = np.datetime64('2018-09-30')"
   ]
  },
  {
   "cell_type": "code",
   "execution_count": 5,
   "metadata": {},
   "outputs": [],
   "source": [
    "# Define custom mod names\n",
    "custom_names = {'usnavysipn':'NESM','gfdlsipn':'GFDL/NOAA','noaasipn':'NOAA CPC','uclsipn':'UCL','ukmetofficesipn':'Met Office','ecmwfsipn':'ECMWF'}"
   ]
  },
  {
   "cell_type": "code",
   "execution_count": 6,
   "metadata": {},
   "outputs": [
    {
     "data": {
      "text/plain": [
       "['gfdlsipn',\n",
       " 'yopp',\n",
       " 'ukmetofficesipn',\n",
       " 'ecmwfsipn',\n",
       " 'ecmwf',\n",
       " 'metreofr',\n",
       " 'ukmo',\n",
       " 'kma',\n",
       " 'ncep',\n",
       " 'usnavysipn',\n",
       " 'usnavyncep',\n",
       " 'rasmesrl',\n",
       " 'noaasipn',\n",
       " 'noaasipn_ext',\n",
       " 'uclsipn',\n",
       " 'szapirosipn']"
      ]
     },
     "execution_count": 6,
     "metadata": {},
     "output_type": "execute_result"
    }
   ],
   "source": [
    "# Define models to plot\n",
    "models_2_plot = list(E.model.keys())\n",
    "models_2_plot = [x for x in models_2_plot if np.any(x not in ['piomas','MME','modcansipns_3','modcansipns_4']) ] # remove some models\n",
    "models_2_plot = [x for x in models_2_plot if E.icePredicted[x]] # Only predictive models\n",
    "models_2_plot"
   ]
  },
  {
   "cell_type": "code",
   "execution_count": 7,
   "metadata": {},
   "outputs": [],
   "source": [
    "stero_grid_file = E.obs['NSIDC_0051']['grid']\n",
    "obs_grid = import_data.load_grid_info(stero_grid_file, model='NSIDC')\n",
    "# Ensure latitude is within bounds (-90 to 90)\n",
    "# Have to do this because grid file has 90.000001\n",
    "obs_grid['lat_b'] = obs_grid.lat_b.where(obs_grid.lat_b < 90, other = 90)"
   ]
  },
  {
   "cell_type": "code",
   "execution_count": 8,
   "metadata": {},
   "outputs": [],
   "source": [
    "# Regridding Options\n",
    "method='nearest_s2d' # ['bilinear', 'conservative', 'nearest_s2d', 'nearest_d2s', 'patch']"
   ]
  },
  {
   "cell_type": "markdown",
   "metadata": {},
   "source": [
    "### Load in User submited SIP data"
   ]
  },
  {
   "cell_type": "code",
   "execution_count": 16,
   "metadata": {},
   "outputs": [],
   "source": [
    "user_sip = [] # Dictionary to store user submitted (regridded) SIP data"
   ]
  },
  {
   "cell_type": "markdown",
   "metadata": {},
   "source": [
    "### npssipn (RASM)"
   ]
  },
  {
   "cell_type": "code",
   "execution_count": 17,
   "metadata": {},
   "outputs": [],
   "source": [
    "cmod = 'RASM'\n",
    "sip_f = '/home/disk/sipn/upload/npssipn/forecast/Forecast/RASM_Sep2018_Junreportdata.nc'\n",
    "# Open\n",
    "ds_user = xr.open_dataset(sip_f)\n",
    "#ds_user.SIP_ID.plot()\n",
    "# Regrid/format to sipn\n",
    "ds_user.rename({'lat':'nj', 'long':'ni','longitude':'lon','latitude':'lat'}, inplace=True);\n",
    "ds_user.set_coords(['lat','lon'], inplace=True)\n",
    "# Select SIP\n",
    "da_in = ds_user.SIP_ID\n",
    "mask = ds_user.Grid_Area.notnull()\n",
    "da_in = da_in.where(mask)"
   ]
  },
  {
   "cell_type": "code",
   "execution_count": null,
   "metadata": {},
   "outputs": [],
   "source": []
  },
  {
   "cell_type": "code",
   "execution_count": 18,
   "metadata": {},
   "outputs": [
    {
     "name": "stdout",
     "output_type": "stream",
     "text": [
      "Create weight file: nearest_s2d_720x1280_304x448.nc\n",
      "Remove file nearest_s2d_720x1280_304x448.nc\n"
     ]
    }
   ],
   "source": [
    "# Calculate regridding matrix\n",
    "regridder = xe.Regridder(da_in, obs_grid, method, periodic=False)\n",
    "# Regrid \n",
    "da_out = regridder(da_in)\n",
    "# Remove weight file\n",
    "regridder.clean_weight_file() \n",
    "# da_in.plot()\n",
    "# plt.figure()\n",
    "# da_out.plot()"
   ]
  },
  {
   "cell_type": "code",
   "execution_count": 19,
   "metadata": {},
   "outputs": [],
   "source": [
    "# Store in dict of user submited SIP\n",
    "da_out.coords['model'] = cmod\n",
    "user_sip.append(da_out)"
   ]
  },
  {
   "cell_type": "markdown",
   "metadata": {},
   "source": [
    "### cansips (Mod CanSIPS)"
   ]
  },
  {
   "cell_type": "code",
   "execution_count": 20,
   "metadata": {},
   "outputs": [],
   "source": [
    "cmod = 'Mod CanSIPS'\n",
    "sip_f = '/home/disk/sipn/upload/ecsipn/Modified_CanSIPS_Sep2018_JuneInit_SIP.nc'\n",
    "ds_user = xr.open_dataset(sip_f)\n",
    "ds_user.rename({'lat':'nj', 'lon':'ni','longitude':'lon','latitude':'lat'}, inplace=True);\n",
    "ds_user.set_coords(['lat','lon'], inplace=True)\n",
    "# Select SIP\n",
    "da_in = ds_user.sip.isel(time=0)"
   ]
  },
  {
   "cell_type": "code",
   "execution_count": 21,
   "metadata": {},
   "outputs": [
    {
     "name": "stdout",
     "output_type": "stream",
     "text": [
      "Create weight file: nearest_s2d_45x360_304x448.nc\n",
      "Remove file nearest_s2d_45x360_304x448.nc\n"
     ]
    }
   ],
   "source": [
    "# Calculate regridding matrix\n",
    "regridder = xe.Regridder(da_in, obs_grid, method, periodic=False)\n",
    "# Regrid \n",
    "da_out = regridder(da_in)\n",
    "# Remove weight file\n",
    "regridder.clean_weight_file() \n",
    "# da_in.plot()\n",
    "# plt.figure()\n",
    "# da_out.plot()\n",
    "# Store in dict of user submited SIP\n",
    "da_out.coords['model'] = cmod\n",
    "user_sip.append(da_out)"
   ]
  },
  {
   "cell_type": "markdown",
   "metadata": {},
   "source": [
    "### nrlsipn (NESM)"
   ]
  },
  {
   "cell_type": "code",
   "execution_count": 23,
   "metadata": {},
   "outputs": [],
   "source": [
    "cmod = 'NESM'\n",
    "sip_f = '/home/disk/sipn/nicway/data/model/usnavysipn/forecast/metrics_from_nrl/NESM_Sep2018_Maydata_SIP_common.nc'\n",
    "ds_user = xr.open_dataset(sip_f)\n",
    "ds_user.rename({'Longitude':'lon','Latitude':'lat'}, inplace=True);\n",
    "# Select SIP\n",
    "da_in = ds_user.SIP.isel(MT=0)\n",
    "da_in = da_in / 100 # scale to 0-1"
   ]
  },
  {
   "cell_type": "code",
   "execution_count": 24,
   "metadata": {},
   "outputs": [
    {
     "name": "stdout",
     "output_type": "stream",
     "text": [
      "Create weight file: nearest_s2d_31x360_304x448.nc\n",
      "Remove file nearest_s2d_31x360_304x448.nc\n",
      "Not adding User submited NESM here, Joe wanted us to use our own calculated one\n"
     ]
    }
   ],
   "source": [
    "# Calculate regridding matrix\n",
    "regridder = xe.Regridder(da_in, obs_grid, method, periodic=False)\n",
    "# Regrid \n",
    "da_out = regridder(da_in)\n",
    "# Remove weight file\n",
    "regridder.clean_weight_file() \n",
    "# da_in.plot()\n",
    "# plt.figure()\n",
    "# da_out.plot()\n",
    "# Store in dict of user submited SIP\n",
    "da_out.coords['model'] = cmod\n",
    "print(\"Not adding User submited NESM here, Joe wanted us to use our own calculated one\")\n",
    "#user_sip.append(da_out)"
   ]
  },
  {
   "cell_type": "code",
   "execution_count": null,
   "metadata": {},
   "outputs": [],
   "source": []
  },
  {
   "cell_type": "code",
   "execution_count": 25,
   "metadata": {},
   "outputs": [],
   "source": [
    "# # Test plot\n",
    "# da_in.plot()\n",
    "# plt.figure()\n",
    "# da_out.plot()"
   ]
  },
  {
   "cell_type": "markdown",
   "metadata": {},
   "source": [
    "### Sean H."
   ]
  },
  {
   "cell_type": "code",
   "execution_count": 26,
   "metadata": {},
   "outputs": [],
   "source": [
    "cmod = 'BBGLM'\n",
    "sip_f = '/home/disk/sipn/upload/seansipn/forecast/2018_it_June_vt_Sept.nc'\n",
    "ds_user = xr.open_dataset(sip_f)\n",
    "da_in = ds_user.mean(dim='valid_time').SIP"
   ]
  },
  {
   "cell_type": "code",
   "execution_count": 27,
   "metadata": {},
   "outputs": [
    {
     "name": "stdout",
     "output_type": "stream",
     "text": [
      "Create weight file: nearest_s2d_448x304_304x448.nc\n",
      "Remove file nearest_s2d_448x304_304x448.nc\n"
     ]
    }
   ],
   "source": [
    "# Calculate regridding matrix\n",
    "regridder = xe.Regridder(da_in, obs_grid, method, periodic=False)\n",
    "# Regrid \n",
    "da_out = regridder(da_in)\n",
    "# Remove weight file\n",
    "regridder.clean_weight_file() \n",
    "# da_in.plot()\n",
    "# plt.figure()\n",
    "# da_out.plot()\n",
    "# Store in dict of user submited SIP\n",
    "da_out.coords['model'] = cmod\n",
    "user_sip.append(da_out)"
   ]
  },
  {
   "cell_type": "code",
   "execution_count": 28,
   "metadata": {},
   "outputs": [],
   "source": [
    "## Merge"
   ]
  },
  {
   "cell_type": "code",
   "execution_count": 29,
   "metadata": {},
   "outputs": [
    {
     "data": {
      "text/plain": [
       "<xarray.DataArray 'SIP' (model: 3, x: 304, y: 448)>\n",
       "array([[[ 0.,  0., ...,  0.,  0.],\n",
       "        [ 0.,  0., ...,  0.,  0.],\n",
       "        ...,\n",
       "        [ 0.,  0., ...,  0.,  0.],\n",
       "        [ 0.,  0., ..., nan,  0.]],\n",
       "\n",
       "       [[ 0.,  0., ..., nan, nan],\n",
       "        [ 0.,  0., ..., nan, nan],\n",
       "        ...,\n",
       "        [nan, nan, ...,  0.,  0.],\n",
       "        [nan, nan, ...,  0.,  0.]],\n",
       "\n",
       "       [[ 0.,  0., ..., nan, nan],\n",
       "        [ 0.,  0., ..., nan, nan],\n",
       "        ...,\n",
       "        [nan, nan, ...,  0.,  0.],\n",
       "        [nan, nan, ...,  0.,  0.]]])\n",
       "Coordinates:\n",
       "    lon      (x, y) float64 168.3 168.4 168.5 168.7 168.8 168.9 169.0 169.1 ...\n",
       "    lat      (x, y) float64 31.1 31.25 31.4 31.55 31.69 31.84 31.99 32.13 ...\n",
       "  * model    (model) <U11 'RASM' 'Mod CanSIPS' 'BBGLM'\n",
       "Dimensions without coordinates: x, y\n",
       "Attributes:\n",
       "    regrid_method:  nearest_s2d"
      ]
     },
     "execution_count": 29,
     "metadata": {},
     "output_type": "execute_result"
    }
   ],
   "source": [
    "usr_SIP = xr.concat(user_sip, dim='model')\n",
    "usr_SIP = usr_SIP.rename({'nj':'x', 'ni':'y'})\n",
    "usr_SIP.name = 'SIP'\n",
    "usr_SIP"
   ]
  },
  {
   "cell_type": "markdown",
   "metadata": {},
   "source": [
    "### Loop through SIPN SIC data and plot those models that have forecasts through target month\n",
    "- Use most recent init_time (if multiple)\n",
    "- Use monthly sept mean SIC for each ensemble member to calculate SIP"
   ]
  },
  {
   "cell_type": "code",
   "execution_count": 30,
   "metadata": {},
   "outputs": [],
   "source": [
    "cyear = '2018'\n",
    "cmonth = 'June'"
   ]
  },
  {
   "cell_type": "code",
   "execution_count": 31,
   "metadata": {},
   "outputs": [
    {
     "name": "stdout",
     "output_type": "stream",
     "text": [
      "Starting plots...\n",
      "gfdlsipn\n",
      "Loading took   0.005536082837109765  minutes.\n"
     ]
    },
    {
     "name": "stderr",
     "output_type": "stream",
     "text": [
      "/home/disk/sipn/nicway/anaconda3/envs/esio/lib/python3.6/site-packages/dask/array/numpy_compat.py:28: RuntimeWarning: invalid value encountered in true_divide\n",
      "  x = np.divide(x1, x2, out)\n"
     ]
    },
    {
     "name": "stdout",
     "output_type": "stream",
     "text": [
      "Calc metric took   0.02820291541672001  minutes.\n",
      "Added  gfdlsipn  to MME.\n",
      "yopp\n",
      "Loading took   0.05310363871976733  minutes.\n",
      "no fore_time found for target period.\n",
      "ukmetofficesipn\n"
     ]
    },
    {
     "name": "stderr",
     "output_type": "stream",
     "text": [
      "/home/disk/sipn/nicway/anaconda3/envs/esio/lib/python3.6/site-packages/dask/array/core.py:2187: UserWarning: Increasing number of chunks by factor of 26\n",
      "  (nparts / max_parts))\n",
      "/home/disk/sipn/nicway/anaconda3/envs/esio/lib/python3.6/site-packages/dask/array/core.py:2187: UserWarning: Increasing number of chunks by factor of 28\n",
      "  (nparts / max_parts))\n",
      "/home/disk/sipn/nicway/anaconda3/envs/esio/lib/python3.6/site-packages/dask/array/core.py:2187: UserWarning: Increasing number of chunks by factor of 31\n",
      "  (nparts / max_parts))\n",
      "/home/disk/sipn/nicway/anaconda3/envs/esio/lib/python3.6/site-packages/dask/array/core.py:2187: UserWarning: Increasing number of chunks by factor of 30\n",
      "  (nparts / max_parts))\n"
     ]
    },
    {
     "name": "stdout",
     "output_type": "stream",
     "text": [
      "Loading took   0.06637582221689324  minutes.\n"
     ]
    },
    {
     "name": "stderr",
     "output_type": "stream",
     "text": [
      "/home/disk/sipn/nicway/anaconda3/envs/esio/lib/python3.6/site-packages/dask/array/numpy_compat.py:28: RuntimeWarning: invalid value encountered in true_divide\n",
      "  x = np.divide(x1, x2, out)\n"
     ]
    },
    {
     "name": "stdout",
     "output_type": "stream",
     "text": [
      "Calc metric took   0.0133032304700464  minutes.\n",
      "Added  ukmetofficesipn  to MME.\n",
      "ecmwfsipn\n",
      "Loading took   0.26515471884825575  minutes.\n"
     ]
    },
    {
     "name": "stderr",
     "output_type": "stream",
     "text": [
      "/home/disk/sipn/nicway/anaconda3/envs/esio/lib/python3.6/site-packages/dask/array/numpy_compat.py:28: RuntimeWarning: invalid value encountered in true_divide\n",
      "  x = np.divide(x1, x2, out)\n"
     ]
    },
    {
     "name": "stdout",
     "output_type": "stream",
     "text": [
      "Calc metric took   0.1476004533547287  minutes.\n",
      "Added  ecmwfsipn  to MME.\n",
      "ecmwf\n",
      "Loading took   0.029326735126475493  minutes.\n",
      "no fore_time found for target period.\n",
      "metreofr\n",
      "Loading took   0.01811154712922871  minutes.\n",
      "no fore_time found for target period.\n",
      "ukmo\n",
      "Loading took   0.024936270752611258  minutes.\n",
      "no fore_time found for target period.\n",
      "kma\n",
      "Loading took   0.01788314989923189  minutes.\n",
      "no fore_time found for target period.\n",
      "ncep\n",
      "Loading took   0.03049647380442669  minutes.\n",
      "no fore_time found for target period.\n",
      "usnavysipn\n",
      "Loading took   1.6645816351364677  minutes.\n",
      "usnavysipn  uses a lagged ensemble, so using average\n"
     ]
    },
    {
     "name": "stderr",
     "output_type": "stream",
     "text": [
      "/home/disk/sipn/nicway/anaconda3/envs/esio/lib/python3.6/site-packages/dask/array/numpy_compat.py:28: RuntimeWarning: invalid value encountered in true_divide\n",
      "  x = np.divide(x1, x2, out)\n"
     ]
    },
    {
     "name": "stdout",
     "output_type": "stream",
     "text": [
      "Calc metric took   0.08071182953814665  minutes.\n",
      "Added  usnavysipn  to MME.\n",
      "usnavyncep\n",
      "Loading took   0.014269401893640558  minutes.\n",
      "no fore_time found for target period.\n",
      "rasmesrl\n",
      "Loading took   1.0482866504617656  minutes.\n",
      "no fore_time found for target period.\n",
      "noaasipn\n",
      "Loading took   0.0005402115018417438  minutes.\n"
     ]
    },
    {
     "name": "stderr",
     "output_type": "stream",
     "text": [
      "/home/disk/sipn/nicway/anaconda3/envs/esio/lib/python3.6/site-packages/dask/array/numpy_compat.py:28: RuntimeWarning: invalid value encountered in true_divide\n",
      "  x = np.divide(x1, x2, out)\n"
     ]
    },
    {
     "name": "stdout",
     "output_type": "stream",
     "text": [
      "Calc metric took   0.008617282682098448  minutes.\n",
      "Added  noaasipn  to MME.\n",
      "noaasipn_ext\n",
      "uclsipn\n",
      "Loading took   0.039907641848549245  minutes.\n"
     ]
    },
    {
     "name": "stderr",
     "output_type": "stream",
     "text": [
      "/home/disk/sipn/nicway/anaconda3/envs/esio/lib/python3.6/site-packages/dask/array/numpy_compat.py:28: RuntimeWarning: invalid value encountered in true_divide\n",
      "  x = np.divide(x1, x2, out)\n"
     ]
    },
    {
     "name": "stdout",
     "output_type": "stream",
     "text": [
      "Calc metric took   0.013794501754455268  minutes.\n",
      "Added  uclsipn  to MME.\n",
      "szapirosipn\n",
      "Loading took   0.0006745967703560989  minutes.\n",
      "Calc metric took   0.007575695100240409  minutes.\n",
      "Added  szapirosipn  to MME.\n",
      "Took  0.007588528096675873  minutes.\n"
     ]
    },
    {
     "name": "stderr",
     "output_type": "stream",
     "text": [
      "/home/disk/sipn/nicway/anaconda3/envs/esio/lib/python3.6/site-packages/dask/array/numpy_compat.py:28: RuntimeWarning: invalid value encountered in true_divide\n",
      "  x = np.divide(x1, x2, out)\n"
     ]
    }
   ],
   "source": [
    "for cvar in variables:\n",
    "    \n",
    "    # Define fig dir and make if doesn't exist\n",
    "    fig_dir = os.path.join(E.fig_dir, 'model', 'SIO_Reports', cyear, cmonth)\n",
    "    if not os.path.exists(fig_dir):\n",
    "        os.makedirs(fig_dir)\n",
    "       \n",
    "    print(\"Starting plots...\")\n",
    "\n",
    "    # Loop through variable of interest + any metrics (i.e. SIP) based on that\n",
    "    for metric in metrics_all[cvar]:\n",
    "\n",
    "\n",
    "\n",
    "        MME_list = []      \n",
    "    \n",
    "\n",
    "        # For each model\n",
    "        for (i, cmod) in enumerate(models_2_plot):\n",
    "            print(cmod)\n",
    "\n",
    "            # Load in Model\n",
    "            model_forecast = os.path.join(E.model[cmod][runType]['sipn_nc'], '*.nc') \n",
    "\n",
    "            # Check we have files \n",
    "            files = glob.glob(model_forecast)\n",
    "            if not files:\n",
    "                #print(\"Skipping model\", cmod, \"no forecast files found.\")\n",
    "                continue # Skip this model\n",
    "\n",
    "            start_time = timeit.default_timer()\n",
    "            ds_model = xr.open_mfdataset(model_forecast, \n",
    "                        chunks={'fore_time': 1, 'init_time': 1, 'nj': 304, 'ni': 448}, \n",
    "                                         concat_dim='init_time', autoclose=True, parallel=True)\n",
    "            ds_model.rename({'nj':'x', 'ni':'y'}, inplace=True)\n",
    "            print(\"Loading took  \", (timeit.default_timer() - start_time)/60, \" minutes.\")\n",
    "\n",
    "            # Select var of interest (if available)\n",
    "            if cvar in ds_model.variables:\n",
    "#                     print('found ',cvar)\n",
    "                ds_model = ds_model[cvar]\n",
    "            else:\n",
    "                print('cvar not found.')\n",
    "                continue\n",
    "                  \n",
    "            # Get most recent init_time\n",
    "            if cmod == 'usnavysipn': # Uses a lagged ensemble... so grab all inits and make them ensembles\n",
    "                print(cmod, \" uses a lagged ensemble, so using average\")\n",
    "                temp_init = ds_model.init_time[0].values\n",
    "                ds_model = ds_model.isel(ensemble=0).rename({'init_time':'ensemble'})\n",
    "                ds_model.coords['ensemble'] = np.arange(0,ds_model.ensemble.size)\n",
    "                ds_model.coords['init_time'] = temp_init\n",
    "            else:\n",
    "                ds_model = ds_model.isel(init_time=ds_model.init_time.size-1)      \n",
    "                  \n",
    "            # Get Valid time\n",
    "            ds_model = import_data.get_valid_time(ds_model.expand_dims('init_time'))\n",
    "                  \n",
    "            # Check if we have any valid times in range of target dates\n",
    "            ds_model = ds_model.where((ds_model.valid_time>=valid_start) & (ds_model.valid_time<=valid_end), drop=True) \n",
    "            if ds_model.fore_time.size == 0:\n",
    "                print(\"no fore_time found for target period.\")\n",
    "                continue\n",
    "                 \n",
    "            # Average over for_time\n",
    "            ds_model = ds_model.mean(dim='fore_time')\n",
    "            \n",
    "            start_time = timeit.default_timer()\n",
    "#                 print(\"Found data for model \", cmod, \". Plotting...\")    \n",
    "            if metric=='mean': # Calc ensemble mean\n",
    "                ds_model = ds_model.mean(dim='ensemble')\n",
    "            elif metric=='SIP': # Calc probability\n",
    "                # Issue of some ensemble members having missing data\n",
    "#                         ds_model = ds_model.where(ds_model>=0.15, other=0).mean(dim='ensemble')\n",
    "                ok_ens = ((ds_model.notnull().sum(dim='x').sum(dim='y'))>0) # select ensemble members with any data\n",
    "                ds_model = ((ds_model.where(ok_ens, drop=True)>=0.15) ).mean(dim='ensemble').where(ds_model.isel(ensemble=0).notnull())\n",
    "            elif metric=='anomaly': # Calc anomaly in reference to mean observed 1980-2010\n",
    "                ds_model = ds_model.mean(dim='ensemble') - da_obs_mean\n",
    "                # Add back lat/long (get dropped because of round off differences)\n",
    "                ds_model['lat'] = da_obs_mean.lat\n",
    "                ds_model['lon'] = da_obs_mean.lon\n",
    "            else:\n",
    "                raise ValueError('metric not implemented')\n",
    "            print(\"Calc metric took  \", (timeit.default_timer() - start_time)/60, \" minutes.\")\n",
    "\n",
    "            # Build MME\n",
    "            if 'ensemble' in ds_model:\n",
    "                ds_model = ds_model.drop('ensemble')\n",
    "            if cmod not in MME_NO: # Exclude some models (bad) from MME\n",
    "                ds_model.coords['model'] = cmod\n",
    "                MME_list.append(ds_model)\n",
    "                print('Added ',cmod,' to MME.')\n",
    "\n",
    "# Done with current it\n",
    "print(\"Took \", (timeit.default_timer() - start_time)/60, \" minutes.\")\n",
    "\n",
    "# Concat over all models\n",
    "ds_MME = xr.concat(MME_list, dim='model')\n",
    "ds_MME.name = 'SIP'"
   ]
  },
  {
   "cell_type": "code",
   "execution_count": 32,
   "metadata": {},
   "outputs": [
    {
     "data": {
      "text/plain": [
       "<xarray.DataArray 'SIP' (model: 7, x: 304, y: 448)>\n",
       "dask.array<shape=(7, 304, 448), dtype=float64, chunksize=(1, 304, 448)>\n",
       "Coordinates:\n",
       "    lon      (x, y) float64 168.3 168.4 168.5 168.7 168.8 168.9 169.0 169.1 ...\n",
       "    lat      (x, y) float64 31.1 31.25 31.4 31.55 31.69 31.84 31.99 32.13 ...\n",
       "  * model    (model) <U15 'gfdlsipn' 'ukmetofficesipn' 'ecmwfsipn' ...\n",
       "Dimensions without coordinates: x, y"
      ]
     },
     "execution_count": 32,
     "metadata": {},
     "output_type": "execute_result"
    }
   ],
   "source": [
    "# Take mean over init_time (different models init different times. mean doesn't change values)\n",
    "ds_MME = ds_MME.mean(dim='init_time')\n",
    "ds_MME"
   ]
  },
  {
   "cell_type": "code",
   "execution_count": 35,
   "metadata": {},
   "outputs": [],
   "source": [
    "# Merge user SIP with SPIN SIP\n",
    "ds_SIP_All = xr.concat([ds_MME,usr_SIP], dim='model')"
   ]
  },
  {
   "cell_type": "code",
   "execution_count": 36,
   "metadata": {},
   "outputs": [
    {
     "name": "stderr",
     "output_type": "stream",
     "text": [
      "/home/disk/sipn/nicway/anaconda3/envs/esio/lib/python3.6/site-packages/dask/array/numpy_compat.py:28: RuntimeWarning: invalid value encountered in true_divide\n",
      "  x = np.divide(x1, x2, out)\n",
      "/home/disk/sipn/nicway/anaconda3/envs/esio/lib/python3.6/site-packages/dask/local.py:271: RuntimeWarning: invalid value encountered in greater_equal\n",
      "  return func(*args2)\n"
     ]
    },
    {
     "data": {
      "text/plain": [
       "<xarray.DataArray 'SIP' (model: 10, x: 304, y: 448)>\n",
       "array([[[ 0.,  0., ..., nan, nan],\n",
       "        [ 0.,  0., ..., nan, nan],\n",
       "        ...,\n",
       "        [nan, nan, ...,  0.,  0.],\n",
       "        [nan, nan, ...,  0.,  0.]],\n",
       "\n",
       "       [[ 0.,  0., ..., nan, nan],\n",
       "        [ 0.,  0., ..., nan, nan],\n",
       "        ...,\n",
       "        [nan, nan, ...,  0.,  0.],\n",
       "        [nan, nan, ...,  0.,  0.]],\n",
       "\n",
       "       ...,\n",
       "\n",
       "       [[ 0.,  0., ..., nan, nan],\n",
       "        [ 0.,  0., ..., nan, nan],\n",
       "        ...,\n",
       "        [nan, nan, ...,  0.,  0.],\n",
       "        [nan, nan, ...,  0.,  0.]],\n",
       "\n",
       "       [[ 0.,  0., ..., nan, nan],\n",
       "        [ 0.,  0., ..., nan, nan],\n",
       "        ...,\n",
       "        [nan, nan, ...,  0.,  0.],\n",
       "        [nan, nan, ...,  0.,  0.]]])\n",
       "Coordinates:\n",
       "    lon      (x, y) float64 168.3 168.4 168.5 168.7 168.8 168.9 169.0 169.1 ...\n",
       "    lat      (x, y) float64 31.1 31.25 31.4 31.55 31.69 31.84 31.99 32.13 ...\n",
       "  * model    (model) object 'gfdlsipn' 'ukmetofficesipn' 'ecmwfsipn' ...\n",
       "Dimensions without coordinates: x, y"
      ]
     },
     "execution_count": 36,
     "metadata": {},
     "output_type": "execute_result"
    }
   ],
   "source": [
    "# Load into memory\n",
    "ds_SIP_All.load()"
   ]
  },
  {
   "cell_type": "code",
   "execution_count": 38,
   "metadata": {},
   "outputs": [],
   "source": [
    "ds_MME_avg = ds_SIP_All.mean(dim='model')\n",
    "ds_MME_std = ds_SIP_All.std(dim='model')"
   ]
  },
  {
   "cell_type": "code",
   "execution_count": 39,
   "metadata": {},
   "outputs": [
    {
     "name": "stdout",
     "output_type": "stream",
     "text": [
      "gfdlsipn\n",
      "ukmetofficesipn\n",
      "ecmwfsipn\n",
      "usnavysipn\n",
      "noaasipn\n",
      "uclsipn\n",
      "szapirosipn\n",
      "RASM\n",
      "Mod CanSIPS\n",
      "BBGLM\n",
      "saved  /home/disk/sipn/nicway/public_html/sipn/figures/model/SIO_Reports/2018/June/panArctic_SIP_forecast_2018_June.png\n"
     ]
    },
    {
     "data": {
      "image/png": "[encoded data removed]",
      "text/plain": [
       "<Figure size 432x432 with 13 Axes>"
      ]
     },
     "metadata": {},
     "output_type": "display_data"
    }
   ],
   "source": [
    "# Set up plotting info\n",
    "if cvar=='sic':\n",
    "    if metric=='mean':\n",
    "        cmap_c = matplotlib.colors.ListedColormap(sns.color_palette(\"Blues_r\", 10))\n",
    "        cmap_c.set_bad(color = 'lightgrey')\n",
    "        c_label = 'Sea Ice Concentration (-)'\n",
    "        c_vmin = 0\n",
    "        c_vmax = 1\n",
    "    elif metric=='SIP':\n",
    "        cmap_c = matplotlib.colors.LinearSegmentedColormap.from_list(\"\", [\"white\",\"orange\",\"red\",\"#990000\"], N=10)\n",
    "        #cmap_c = plt.get_cmap('jet') \n",
    "        cmap_c.set_bad(color = 'lightgrey')\n",
    "        c_label = 'Sea Ice Probability (-)'\n",
    "        c_vmin = 0\n",
    "        c_vmax = 1\n",
    "    elif metric=='anomaly':\n",
    "#                         cmap_c = matplotlib.colors.ListedColormap(sns.color_palette(\"coolwarm\", 9))\n",
    "        cmap_c = matplotlib.colors.LinearSegmentedColormap.from_list(\"\", [\"red\",\"white\",\"blue\"])\n",
    "        cmap_c.set_bad(color = 'lightgrey')\n",
    "        c_label = 'SIC Anomaly to 1980-2010 Mean'\n",
    "        c_vmin = -1\n",
    "        c_vmax = 1\n",
    "\n",
    "elif cvar=='hi':\n",
    "    if metric=='mean':\n",
    "        cmap_c = matplotlib.colors.ListedColormap(sns.color_palette(\"Reds_r\", 10))\n",
    "        cmap_c.set_bad(color = 'lightgrey')\n",
    "        c_label = 'Sea Ice Thickness (m)'\n",
    "        c_vmin = 0\n",
    "        c_vmax = None\n",
    "else:\n",
    "    raise ValueError(\"cvar not found.\") \n",
    "\n",
    "\n",
    "    \n",
    "def add_subplot_title(cmod, custom_names, E, ax=None):\n",
    "    if cmod in custom_names:\n",
    "        ax.set_title(custom_names[cmod])\n",
    "    elif cmod in E.model.keys():\n",
    "        ax.set_title(E.model[cmod]['model_label'])\n",
    "    else:\n",
    "        ax.set_title(cmod)\n",
    "\n",
    "# New Plot\n",
    "central_extent = [-3850000*0.6, 3725000*0.6, -5325000*0.45, 5850000*0.45] # (x0, x1, y0, y1\n",
    "(f, axes) = ice_plot.multi_polar_axis(ncols=4, nrows=3, Nplots=20, extent=central_extent, central_longitude=0)\n",
    "\n",
    "for (i, cmod) in enumerate(ds_SIP_All.model.values):\n",
    "    print(cmod)\n",
    "    # Plot\n",
    "    add_subplot_title(cmod, custom_names, E, ax=axes[i])\n",
    "    p = ds_SIP_All.sel(model=cmod).plot.pcolormesh(ax=axes[i], x='lon', y='lat', \n",
    "                          transform=ccrs.PlateCarree(),\n",
    "                          add_colorbar=False,\n",
    "                          cmap=cmap_c,\n",
    "                          vmin=c_vmin, vmax=c_vmax)\n",
    "    add_subplot_title(cmod, custom_names, E, ax=axes[i])\n",
    "\n",
    "\n",
    "# MME Mean\n",
    "i = i + 1\n",
    "\n",
    "\n",
    "pmme = ds_MME_avg.plot.pcolormesh(ax=axes[i], x='lon', y='lat', \n",
    "                                  transform=ccrs.PlateCarree(),\n",
    "                                  add_colorbar=False, \n",
    "                                  cmap=cmap_c,vmin=c_vmin, vmax=c_vmax)\n",
    "axes[i].set_title('Mean')\n",
    "\n",
    "\n",
    "# MME Standard deviation\n",
    "i = i + 1\n",
    "\n",
    "\n",
    "pmme = ds_MME_std.plot.pcolormesh(ax=axes[i], x='lon', y='lat', \n",
    "                                  transform=ccrs.PlateCarree(),\n",
    "                                  add_colorbar=False, \n",
    "                                  cmap=cmap_c,vmin=c_vmin, vmax=c_vmax)\n",
    "axes[i].set_title('σ')\n",
    "    \n",
    "\n",
    "# Make pretty\n",
    "f.subplots_adjust(bottom=0.05)\n",
    "# cbar_ax = f.add_axes([0.85, 0.15, 0.05, 0.7])\n",
    "cbar_ax = f.add_axes([0.25, 0.001, .5, 0.04]) #  [left, bottom, width, height] w\n",
    "if p:\n",
    "    cbar = f.colorbar(p, cax=cbar_ax, label=c_label, orientation='horizontal')\n",
    "    if metric=='anomaly':\n",
    "        cbar.set_ticks(np.arange(-1,1.1,0.2))\n",
    "    else:\n",
    "        cbar.set_ticks(np.arange(0,1.1,0.2))\n",
    "\n",
    "# Save to file\n",
    "f_out = os.path.join(fig_dir,'panArctic_'+metric+'_'+runType+'_'+cyear+'_'+cmonth+'.png')\n",
    "f.savefig(f_out,bbox_inches='tight', dpi=200)\n",
    "print(\"saved \", f_out)"
   ]
  }
 ],
 "metadata": {
  "kernelspec": {
   "display_name": "3.6.4 esio",
   "language": "python",
   "name": "esio"
  },
  "language_info": {
   "codemirror_mode": {
    "name": "ipython",
    "version": 3
   },
   "file_extension": ".py",
   "mimetype": "text/x-python",
   "name": "python",
   "nbconvert_exporter": "python",
   "pygments_lexer": "ipython3",
   "version": "3.6.4"
  }
 },
 "nbformat": 4,
 "nbformat_minor": 2
}
