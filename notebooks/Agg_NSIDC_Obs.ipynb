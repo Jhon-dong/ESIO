{
 "cells": [
  {
   "cell_type": "code",
   "execution_count": 1,
   "metadata": {},
   "outputs": [],
   "source": [
    "'''\n",
    "\n",
    "This code is part of the SIPN2 project focused on improving sub-seasonal to seasonal predictions of Arctic Sea Ice. \n",
    "If you use this code for a publication or presentation, please cite the reference in the README.md on the\n",
    "main page (https://github.com/NicWayand/ESIO). \n",
    "\n",
    "Questions or comments should be addressed to nicway@uw.edu\n",
    "\n",
    "Copyright (c) 2018 Nic Wayand\n",
    "\n",
    "GNU General Public License v3.0\n",
    "\n",
    "\n",
    "'''\n",
    "\n",
    "import numpy as np\n",
    "import numpy.ma as ma\n",
    "import os\n",
    "import xarray as xr\n",
    "import glob\n",
    "import datetime\n",
    "\n",
    "from esio import EsioData as ed\n",
    "\n",
    "import dask\n",
    "# from dask.distributed import Client"
   ]
  },
  {
   "cell_type": "code",
   "execution_count": 2,
   "metadata": {},
   "outputs": [],
   "source": [
    "\n",
    "# c = Client()\n",
    "# c"
   ]
  },
  {
   "cell_type": "code",
   "execution_count": null,
   "metadata": {},
   "outputs": [],
   "source": []
  },
  {
   "cell_type": "code",
   "execution_count": 3,
   "metadata": {},
   "outputs": [
    {
     "name": "stdout",
     "output_type": "stream",
     "text": [
      "Aggregating  NSIDC_0081 ...\n",
      "2018\n",
      "Finished  NSIDC_0081\n",
      "\n"
     ]
    }
   ],
   "source": [
    "# Dirs\n",
    "E = ed.EsioData.load()\n",
    "data_dir = E.obs_dir\n",
    "\n",
    "# Flags\n",
    "UpdateAll = False\n",
    "\n",
    "# Products to import\n",
    "product_list = ['NSIDC_0081', 'NSIDC_0079', 'NSIDC_0051']\n",
    "\n",
    "cy = datetime.datetime.now().year\n",
    "\n",
    "# Loop through each product\n",
    "for c_product in product_list:\n",
    "    print('Aggregating ', c_product, '...')\n",
    "\n",
    "    for cyear in np.arange(1979,cy+1,1):\n",
    "        #print(cyear)\n",
    "        \n",
    "        cyear_str = str(cyear)\n",
    "        \n",
    "        out_dir = os.path.join(data_dir, c_product, 'sipn_nc_yearly')\n",
    "        if not os.path.exists(out_dir):\n",
    "                os.makedirs(out_dir)\n",
    "                \n",
    "        nc_out = os.path.join(out_dir, cyear_str+'.nc')\n",
    "        # Don't update file if exits, unless current year\n",
    "        if (os.path.isfile(nc_out)) & (cyear!=cy):\n",
    "            #print(\"File already exists\")\n",
    "            continue\n",
    "\n",
    "        # Load in Obs\n",
    "        c_files = sorted(glob.glob(E.obs[c_product]['sipn_nc']+'/*_'+cyear_str+'*.nc'))\n",
    "        if len(c_files)==0:\n",
    "            #print(\"No files found for current year\")\n",
    "            continue\n",
    "        ds_year = xr.open_mfdataset(c_files, \n",
    "                                      concat_dim='time', autoclose=True, parallel=True)\n",
    "\n",
    "        \n",
    "        ds_year.to_netcdf(nc_out)\n",
    "        print(cyear)\n",
    "      \n",
    "    # For each Product\n",
    "    print(\"Finished \", c_product)\n",
    "    print(\"\")"
   ]
  },
  {
   "cell_type": "code",
   "execution_count": 4,
   "metadata": {},
   "outputs": [],
   "source": [
    "ds_year = None"
   ]
  },
  {
   "cell_type": "code",
   "execution_count": null,
   "metadata": {},
   "outputs": [],
   "source": []
  },
  {
   "cell_type": "code",
   "execution_count": null,
   "metadata": {},
   "outputs": [],
   "source": []
  }
 ],
 "metadata": {
  "kernelspec": {
   "display_name": "3.6.4 esio",
   "language": "python",
   "name": "esio"
  },
  "language_info": {
   "codemirror_mode": {
    "name": "ipython",
    "version": 3
   },
   "file_extension": ".py",
   "mimetype": "text/x-python",
   "name": "python",
   "nbconvert_exporter": "python",
   "pygments_lexer": "ipython3",
   "version": "3.6.4"
  }
 },
 "nbformat": 4,
 "nbformat_minor": 2
}
