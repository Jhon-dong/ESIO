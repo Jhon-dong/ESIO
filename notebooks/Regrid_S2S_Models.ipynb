{
 "cells": [
  {
   "cell_type": "code",
   "execution_count": 1,
   "metadata": {},
   "outputs": [],
   "source": [
    "# S2S Model Regrid\n",
    "\n",
    "# - Loads in all daily forecasts of sea ice extent\n",
    "# - Regrids to polar stereographic,\n",
    "# - Saves to netcdf files grouped by year"
   ]
  },
  {
   "cell_type": "code",
   "execution_count": 2,
   "metadata": {},
   "outputs": [],
   "source": [
    "# Standard Imports\n",
    "%matplotlib inline\n",
    "%load_ext autoreload\n",
    "%autoreload\n",
    "import matplotlib\n",
    "import scipy\n",
    "import matplotlib.pyplot as plt\n",
    "import datetime\n",
    "import cartopy.crs as ccrs\n",
    "from cartopy.mpl.gridliner import LONGITUDE_FORMATTER, LATITUDE_FORMATTER\n",
    "import numpy as np\n",
    "import pandas as pd\n",
    "import xarray as xr\n",
    "import xesmf as xe\n",
    "import os\n",
    "import glob\n",
    "import seaborn as sns\n",
    "import warnings\n",
    "\n",
    "# ESIO Imports\n",
    "import esio\n",
    "import esiodata as ed"
   ]
  },
  {
   "cell_type": "code",
   "execution_count": 3,
   "metadata": {
    "collapsed": true
   },
   "outputs": [],
   "source": [
    "# General plotting settings\n",
    "sns.set_style('whitegrid')\n",
    "sns.set_context(\"talk\", font_scale=1.5, rc={\"lines.linewidth\": 2.5})"
   ]
  },
  {
   "cell_type": "code",
   "execution_count": 4,
   "metadata": {
    "collapsed": true
   },
   "outputs": [],
   "source": [
    "E = ed.esiodata.load()\n",
    "# Directories\n",
    "all_models = ['ukmetofficesipn', 'ecmwfsipn', 'bom', 'ncep', 'ukmo', 'eccc', 'kma', 'cma', 'ecmwf', 'hcmr', 'isaccnr',\n",
    "         'jma', 'metreofr']\n",
    "runType='forecast'\n",
    "updateall = False\n",
    "\n",
    "stero_grid_file = E.obs['NSIDC_0051']['grid']"
   ]
  },
  {
   "cell_type": "code",
   "execution_count": 5,
   "metadata": {
    "collapsed": true
   },
   "outputs": [],
   "source": [
    "obs_grid = esio.load_grid_info(stero_grid_file, model='NSIDC')\n",
    "# Ensure latitude is within bounds (-90 to 90)\n",
    "# Have to do this because grid file has 90.000001\n",
    "obs_grid['lat_b'] = obs_grid.lat_b.where(obs_grid.lat_b < 90, other = 90)"
   ]
  },
  {
   "cell_type": "code",
   "execution_count": 6,
   "metadata": {
    "collapsed": true
   },
   "outputs": [],
   "source": [
    "# Regridding Options\n",
    "method='bilinear' # ['bilinear', 'conservative', 'nearest_s2d', 'nearest_d2s', 'patch']"
   ]
  },
  {
   "cell_type": "code",
   "execution_count": 17,
   "metadata": {},
   "outputs": [],
   "source": [
    "# Store dictionary to convert each model variable names to sipn syntax\n",
    "var_dic = {}\n",
    "\n",
    "var_dic['cma'] = {'initial_time0_hours':'init_time',\n",
    "                 'lat_0':'lat', 'lon_0':'lon',\n",
    "                 'forecast_time0':'fore_time',\n",
    "                 'ICEC_P11_L1_GLL0_avg24h':'sic'}\n",
    "# guess it looks like cma\n",
    "for model in all_models:\n",
    "    var_dic[model] = var_dic['cma']\n",
    "# Set models that are different\n",
    "var_dic['bom'] = {'initial_time0_hours':'init_time',\n",
    "                 'lat_0':'lat', 'lon_0':'lon',\n",
    "                 'forecast_time0':'fore_time',\n",
    "                 'ICEC_P11_L1_GGA0_avg24h':'sic'}\n",
    "\n",
    "# C3S models\n",
    "var_dic['ukmetofficesipn'] = {'initial_time1_hours':'init_time',\n",
    "                 'g0_lat_3':'lat', 'g0_lon_4':'lon',\n",
    "                 'forecast_time2':'fore_time',\n",
    "                 'ensemble0':'ensemble',\n",
    "                 'CI_GDS0_SFC':'sic'}\n",
    "var_dic['ecmwfsipn'] = {'initial_time1_hours':'init_time',\n",
    "                 'g0_lat_2':'lat', 'g0_lon_3':'lon',\n",
    "                 'forecast_time1':'fore_time',\n",
    "                 'ensemble0':'ensemble',\n",
    "                 'CI_GDS0_SFC':'sic'}\n",
    "# list of models that have month init times\n",
    "monthly_init_model = ['ecmwfsipn']"
   ]
  },
  {
   "cell_type": "code",
   "execution_count": 18,
   "metadata": {},
   "outputs": [],
   "source": [
    "## TODO\n",
    "# - Get mask\n",
    "# - Get lat lon bounds "
   ]
  },
  {
   "cell_type": "code",
   "execution_count": null,
   "metadata": {},
   "outputs": [],
   "source": []
  },
  {
   "cell_type": "code",
   "execution_count": 19,
   "metadata": {},
   "outputs": [],
   "source": [
    "def test_plot():\n",
    "    # Set up plotting info\n",
    "    cmap_sic = matplotlib.colors.ListedColormap(sns.color_palette(\"Blues\", 10))\n",
    "    cmap_sic.set_bad(color = 'red')\n",
    "\n",
    "    # Plot original projection\n",
    "    plt.figure(figsize=(20,10))\n",
    "    ax1 = plt.axes(projection=ccrs.PlateCarree())\n",
    "    ds_p = ds.sic.isel(init_time=0).isel(fore_time=0)\n",
    "    ds_p.plot.pcolormesh(ax=ax1, x='lon', y='lat', \n",
    "                                     vmin=0, vmax=1,\n",
    "                                     cmap=matplotlib.colors.ListedColormap(sns.color_palette(\"Blues\", 10)),\n",
    "                        transform=ccrs.PlateCarree());\n",
    "    ax1.set_extent([-180, 180, -90, 90], crs=ccrs.PlateCarree())\n",
    "    gl = ax1.gridlines(crs=ccrs.PlateCarree(), linestyle='-')\n",
    "    gl.xlabels_bottom = True\n",
    "    gl.ylabels_left = True\n",
    "    gl.xformatter = LONGITUDE_FORMATTER\n",
    "    gl.yformatter = LATITUDE_FORMATTER\n",
    "    ax1.coastlines(linewidth=0.75, color='black', resolution='50m');\n",
    "    plt.title(model)\n",
    "\n",
    "    # Plot SIC on target projection\n",
    "    (f, ax1) = esio.polar_axis()\n",
    "    ds_p2 = var_out.isel(init_time=0).isel(fore_time=0).isel(ensemble=0)\n",
    "    ds_p2.plot.pcolormesh(ax=ax1, x='lon', y='lat', \n",
    "                                         transform=ccrs.PlateCarree(),\n",
    "                                         cmap=cmap_sic)\n",
    "    ax1.set_title('Target Grid')\n"
   ]
  },
  {
   "cell_type": "code",
   "execution_count": 20,
   "metadata": {},
   "outputs": [
    {
     "name": "stdout",
     "output_type": "stream",
     "text": [
      "Regridding  ukmetofficesipn ...\n",
      "Found  6  files.\n",
      "Updating all files...\n",
      "Found empty file:  /home/disk/sipn/nicway/data/model/ukmetofficesipn/forecast/native/ukmetofficesipn_1993_01.grib . Consider deleting or redownloading.\n",
      "Found empty file:  /home/disk/sipn/nicway/data/model/ukmetofficesipn/forecast/native/ukmetofficesipn_1993_02.grib . Consider deleting or redownloading.\n",
      "Found empty file:  /home/disk/sipn/nicway/data/model/ukmetofficesipn/forecast/native/ukmetofficesipn_1993_03.grib . Consider deleting or redownloading.\n",
      "Found empty file:  /home/disk/sipn/nicway/data/model/ukmetofficesipn/forecast/native/ukmetofficesipn_1993_04.grib . Consider deleting or redownloading.\n",
      "initial_time... not found in file:  /home/disk/sipn/nicway/data/model/ukmetofficesipn/forecast/native/ukmetofficesipn_2018_03.grib  Skipping it, need to FIX!!!!!!!!\n",
      "Overwrite existing file: bilinear_180x360_304x448_peri.nc \n",
      " You can set reuse_weights=True to save computing time.\n",
      "Saved  /home/disk/sipn/nicway/data/model/ukmetofficesipn/forecast/sipn_nc/ukmetofficesipn_2018_02_Stereo.nc\n",
      "Remove file bilinear_180x360_304x448_peri.nc\n",
      "Regridding  ecmwfsipn ...\n",
      "Found  5  files.\n",
      "Updating all files...\n",
      "Create weight file: bilinear_181x360_304x448_peri.nc\n",
      "Saved  /home/disk/sipn/nicway/data/model/ecmwfsipn/forecast/sipn_nc/ecmwfsipn_2018_03_Stereo.nc\n",
      "Reuse existing file: bilinear_181x360_304x448_peri.nc\n",
      "Saved  /home/disk/sipn/nicway/data/model/ecmwfsipn/forecast/sipn_nc/ecmwfsipn_1993_01_Stereo.nc\n",
      "Reuse existing file: bilinear_181x360_304x448_peri.nc\n",
      "Saved  /home/disk/sipn/nicway/data/model/ecmwfsipn/forecast/sipn_nc/ecmwfsipn_2018_02_Stereo.nc\n",
      "Reuse existing file: bilinear_181x360_304x448_peri.nc\n",
      "Saved  /home/disk/sipn/nicway/data/model/ecmwfsipn/forecast/sipn_nc/ecmwfsipn_1993_02_Stereo.nc\n",
      "Reuse existing file: bilinear_181x360_304x448_peri.nc\n",
      "Saved  /home/disk/sipn/nicway/data/model/ecmwfsipn/forecast/sipn_nc/ecmwfsipn_1993_03_Stereo.nc\n",
      "Remove file bilinear_181x360_304x448_peri.nc\n"
     ]
    }
   ],
   "source": [
    "for model in all_models:\n",
    "    print('Regridding ', model, '...')\n",
    "\n",
    "    data_dir = E.model[model][runType]['native']\n",
    "    data_out = E.model[model][runType]['sipn_nc']\n",
    "    model_grid_file = E.model[model]['grid']\n",
    "\n",
    "    all_files = glob.glob(os.path.join(data_dir, '*.grib'))\n",
    "    print(\"Found \",len(all_files),\" files.\")\n",
    "    if updateall:\n",
    "        print(\"Updating all files...\")\n",
    "    else:\n",
    "        print(\"Only updating new files\")\n",
    "        \n",
    "    # Remove any \"empty\" files (sometimes happends with ecmwf downloads)\n",
    "    all_files_new = []\n",
    "    for cf in all_files:\n",
    "        if os.stat(cf).st_size > 0:\n",
    "            all_files_new.append(cf)\n",
    "        else:\n",
    "            print(\"Found empty file: \",cf,\". Consider deleting or redownloading.\")\n",
    "    all_files = all_files_new # Replace\n",
    "\n",
    "    weights_flag = False # Flag to set up weights have been created\n",
    "\n",
    "    cvar = 'sic'\n",
    "\n",
    "    for cf in all_files:\n",
    "        # Check if already imported and skip (unless updateall flag is True)\n",
    "        f_out = os.path.join(data_out, os.path.basename(cf).split('.')[0]+'_Stereo.nc') # netcdf file out \n",
    "        if not updateall:\n",
    "            if os.path.isfile(f_out):\n",
    "                print(\"Skipping \", os.path.basename(cf), \" already imported.\")\n",
    "                continue # Skip, file already imported\n",
    "\n",
    "        ds = xr.open_dataset(cf, engine='pynio')\n",
    "        \n",
    "        # Some grib files do not have a init_time dim, because its assumed for the month\n",
    "        if model in monthly_init_model:\n",
    "            if ('initial_time1_hours' not in ds.coords): # Check first\n",
    "                ds.coords['initial_time1_hours'] = datetime.datetime(int(cf.split('.')[0].split('_')[1]), \n",
    "                                                              int(cf.split('.')[0].split('_')[2]), 1)\n",
    "                ds = ds.expand_dims('initial_time1_hours')\n",
    "        \n",
    "        # Test we have initial_time0_hours or initial_time1_hours\n",
    "        if ('initial_time0_hours' not in ds.coords) & ('initial_time1_hours' not in ds.coords):\n",
    "            print('initial_time... not found in file: ',cf,' Skipping it, need to FIX!!!!!!!!')\n",
    "            continue\n",
    "\n",
    "        # Rename variables per esipn guidelines\n",
    "        ds.rename(var_dic[model], inplace=True);\n",
    "\n",
    "    #     ds.coords['nj'] = model_grid.nj\n",
    "    #     ds.coords['ni'] = model_grid.ni\n",
    "    #     ds.coords['lat'] = model_grid.lat\n",
    "    #     ds.coords['lon'] = model_grid.lon\n",
    "    #     ds.coords['lat_b'] = model_grid.lat_b\n",
    "    #     ds.coords['lon_b'] = model_grid.lon_b\n",
    "    #     ds.coords['imask'] = model_grid.imask\n",
    "\n",
    "    #     # Set sic below 0 to 0\n",
    "    #     if X.sic.min().values < 0:\n",
    "    #         print(\"Some negative SIC \"+str(X.sic.min().values)+\" found in input PIOMAS, setting to 0\")\n",
    "    #         X = X.where(X>=0, other=0)\n",
    "\n",
    "    #     # Apply model mask\n",
    "    #     X = X.where(X.imask)\n",
    "    \n",
    "        # Check only data from one month (download bug)\n",
    "        cm = pd.to_datetime(ds.init_time.values).month\n",
    "        if model not in monthly_init_model:\n",
    "            if np.diff(cm).max() > 0:\n",
    "                fm = int(cf.split('.')[0].split('_')[2]) # Target month in file\n",
    "                print(\"Found dates outside month, removing...\")\n",
    "                ds = ds.where(xr.DataArray(pd.to_datetime(ds.init_time.values).month==fm,\n",
    "                                       dims=ds.init_time.dims, coords=ds.init_time.coords), drop=True)\n",
    "\n",
    "        # Calculate regridding matrix\n",
    "        regridder = xe.Regridder(ds, obs_grid, method, periodic=True, reuse_weights=weights_flag)\n",
    "        weights_flag = True # Set true for following loops\n",
    "\n",
    "        # Add NaNs to empty rows of matrix (forces any target cell with ANY source cells containing NaN to be NaN)\n",
    "        regridder = esio.add_matrix_NaNs(regridder)\n",
    "\n",
    "        # Regrid variable\n",
    "        var_out = regridder(ds[cvar])\n",
    "\n",
    "        # Expand dims\n",
    "        var_out = esio.expand_to_sipn_dims(var_out)\n",
    "        \n",
    "        #test_plot()\n",
    "\n",
    "        # # Save regridded to netcdf file\n",
    "        var_out.to_netcdf(f_out)\n",
    "        var_out = None # Memory clean up\n",
    "        print('Saved ', f_out)\n",
    "    # Clean up\n",
    "    if weights_flag:\n",
    "        regridder.clean_weight_file()  # clean-up    "
   ]
  },
  {
   "cell_type": "code",
   "execution_count": 12,
   "metadata": {},
   "outputs": [
    {
     "data": {
      "text/plain": [
       "<xarray.Dataset>\n",
       "Dimensions:                (ensemble0: 2, forecast_time2: 215, g0_lat_3: 180, g0_lon_4: 360, initial_time1_hours: 28)\n",
       "Coordinates:\n",
       "  * initial_time1_hours    (initial_time1_hours) datetime64[ns] 2018-02-01 ...\n",
       "  * g0_lat_3               (g0_lat_3) float32 89.5 88.5 87.5 86.5 85.5 84.5 ...\n",
       "  * g0_lon_4               (g0_lon_4) float32 0.5 1.5 2.5 3.5 4.5 5.5 6.5 ...\n",
       "  * forecast_time2         (forecast_time2) timedelta64[ns] 1 days 2 days ...\n",
       "  * ensemble0              (ensemble0) int32 0 1\n",
       "Data variables:\n",
       "    CI_GDS0_SFC            (ensemble0, initial_time1_hours, forecast_time2, g0_lat_3, g0_lon_4) float32 ...\n",
       "    initial_time1_encoded  (initial_time1_hours) float64 ...\n",
       "    initial_time1          (initial_time1_hours) |S0 ...\n",
       "    ensemble0_info         (ensemble0) |S0 ..."
      ]
     },
     "execution_count": 12,
     "metadata": {},
     "output_type": "execute_result"
    }
   ],
   "source": []
  },
  {
   "cell_type": "code",
   "execution_count": null,
   "metadata": {},
   "outputs": [],
   "source": []
  },
  {
   "cell_type": "code",
   "execution_count": null,
   "metadata": {},
   "outputs": [],
   "source": []
  },
  {
   "cell_type": "code",
   "execution_count": null,
   "metadata": {},
   "outputs": [],
   "source": []
  },
  {
   "cell_type": "code",
   "execution_count": null,
   "metadata": {},
   "outputs": [],
   "source": []
  },
  {
   "cell_type": "code",
   "execution_count": null,
   "metadata": {},
   "outputs": [],
   "source": []
  },
  {
   "cell_type": "code",
   "execution_count": null,
   "metadata": {},
   "outputs": [],
   "source": []
  }
 ],
 "metadata": {
  "kernelspec": {
   "display_name": "py36 pynio",
   "language": "python",
   "name": "test_nio"
  },
  "language_info": {
   "codemirror_mode": {
    "name": "ipython",
    "version": 3
   },
   "file_extension": ".py",
   "mimetype": "text/x-python",
   "name": "python",
   "nbconvert_exporter": "python",
   "pygments_lexer": "ipython3",
   "version": "3.6.4"
  }
 },
 "nbformat": 4,
 "nbformat_minor": 2
}
