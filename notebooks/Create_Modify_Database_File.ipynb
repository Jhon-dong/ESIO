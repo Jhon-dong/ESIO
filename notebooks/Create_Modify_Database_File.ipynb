{
 "cells": [
  {
   "cell_type": "code",
   "execution_count": 13,
   "metadata": {
    "collapsed": true
   },
   "outputs": [],
   "source": [
    "import os\n",
    "import xarray as xr\n",
    "import numpy as np\n",
    "import pickle\n",
    "import esiodata as ed\n",
    "import itertools\n",
    "import seaborn as sns\n"
   ]
  },
  {
   "cell_type": "code",
   "execution_count": 2,
   "metadata": {
    "collapsed": true
   },
   "outputs": [],
   "source": [
    "dir_out = '/home/disk/sipn/nicway/python/ESIO/'"
   ]
  },
  {
   "cell_type": "code",
   "execution_count": 3,
   "metadata": {
    "collapsed": true
   },
   "outputs": [],
   "source": [
    "# Create an esioData\n",
    "E = ed.esiodata(data_dir = '/home/disk/sipn/nicway/data/')"
   ]
  },
  {
   "cell_type": "code",
   "execution_count": 4,
   "metadata": {
    "collapsed": true
   },
   "outputs": [],
   "source": [
    "# Add observations\n",
    "obs_list = ['G10006',  'NSIDC_0051',  'NSIDC_0079',  'NSIDC_0081']\n",
    "for co in obs_list:\n",
    "    E.add_obs(co, grid_file='stereo_gridinfo.nc')\n",
    "E.add_obs('NSIDC_extent', grid_file='N/A')    "
   ]
  },
  {
   "cell_type": "code",
   "execution_count": null,
   "metadata": {},
   "outputs": [],
   "source": []
  },
  {
   "cell_type": "code",
   "execution_count": 5,
   "metadata": {},
   "outputs": [
    {
     "data": {
      "text/plain": [
       "{'bom': {'forecast': {'native': '/home/disk/sipn/nicway/data/model/bom/forecast/native',\n",
       "   'sipn_nc': '/home/disk/sipn/nicway/data/model/bom/forecast/sipn_nc'},\n",
       "  'grid': '/home/disk/sipn/nicway/data/grids/MISSING',\n",
       "  'model_label': 'bom',\n",
       "  'reanalysis': {'native': '/home/disk/sipn/nicway/data/model/bom/reanalysis/native',\n",
       "   'sipn_nc': '/home/disk/sipn/nicway/data/model/bom/reanalysis/sipn_nc'},\n",
       "  'reforecast': {'native': '/home/disk/sipn/nicway/data/model/bom/reforecast/native',\n",
       "   'sipn_nc': '/home/disk/sipn/nicway/data/model/bom/reforecast/sipn_nc'}},\n",
       " 'cma': {'forecast': {'native': '/home/disk/sipn/nicway/data/model/cma/forecast/native',\n",
       "   'sipn_nc': '/home/disk/sipn/nicway/data/model/cma/forecast/sipn_nc'},\n",
       "  'grid': '/home/disk/sipn/nicway/data/grids/MISSING',\n",
       "  'model_label': 'cma',\n",
       "  'reanalysis': {'native': '/home/disk/sipn/nicway/data/model/cma/reanalysis/native',\n",
       "   'sipn_nc': '/home/disk/sipn/nicway/data/model/cma/reanalysis/sipn_nc'},\n",
       "  'reforecast': {'native': '/home/disk/sipn/nicway/data/model/cma/reforecast/native',\n",
       "   'sipn_nc': '/home/disk/sipn/nicway/data/model/cma/reforecast/sipn_nc'}},\n",
       " 'eccc': {'forecast': {'native': '/home/disk/sipn/nicway/data/model/eccc/forecast/native',\n",
       "   'sipn_nc': '/home/disk/sipn/nicway/data/model/eccc/forecast/sipn_nc'},\n",
       "  'grid': '/home/disk/sipn/nicway/data/grids/MISSING',\n",
       "  'model_label': 'eccc',\n",
       "  'reanalysis': {'native': '/home/disk/sipn/nicway/data/model/eccc/reanalysis/native',\n",
       "   'sipn_nc': '/home/disk/sipn/nicway/data/model/eccc/reanalysis/sipn_nc'},\n",
       "  'reforecast': {'native': '/home/disk/sipn/nicway/data/model/eccc/reforecast/native',\n",
       "   'sipn_nc': '/home/disk/sipn/nicway/data/model/eccc/reforecast/sipn_nc'}},\n",
       " 'ecmwf': {'forecast': {'native': '/home/disk/sipn/nicway/data/model/ecmwf/forecast/native',\n",
       "   'sipn_nc': '/home/disk/sipn/nicway/data/model/ecmwf/forecast/sipn_nc'},\n",
       "  'grid': '/home/disk/sipn/nicway/data/grids/MISSING',\n",
       "  'model_label': 'ecmwf',\n",
       "  'reanalysis': {'native': '/home/disk/sipn/nicway/data/model/ecmwf/reanalysis/native',\n",
       "   'sipn_nc': '/home/disk/sipn/nicway/data/model/ecmwf/reanalysis/sipn_nc'},\n",
       "  'reforecast': {'native': '/home/disk/sipn/nicway/data/model/ecmwf/reforecast/native',\n",
       "   'sipn_nc': '/home/disk/sipn/nicway/data/model/ecmwf/reforecast/sipn_nc'}},\n",
       " 'ecmwfsipn': {'forecast': {'native': '/home/disk/sipn/nicway/data/model/ecmwfsipn/forecast/native',\n",
       "   'sipn_nc': '/home/disk/sipn/nicway/data/model/ecmwfsipn/forecast/sipn_nc'},\n",
       "  'grid': '/home/disk/sipn/nicway/data/grids/ecmwfsipn_land_sea_mask.nc',\n",
       "  'model_label': 'ecmwf-c3s',\n",
       "  'reanalysis': {'native': '/home/disk/sipn/nicway/data/model/ecmwfsipn/reanalysis/native',\n",
       "   'sipn_nc': '/home/disk/sipn/nicway/data/model/ecmwfsipn/reanalysis/sipn_nc'},\n",
       "  'reforecast': {'native': '/home/disk/sipn/nicway/data/model/ecmwfsipn/reforecast/native',\n",
       "   'sipn_nc': '/home/disk/sipn/nicway/data/model/ecmwfsipn/reforecast/sipn_nc'}},\n",
       " 'gfdlsipn': {'forecast': {'native': '/home/disk/sipn/nicway/data/model/gfdlsipn/forecast/native',\n",
       "   'sipn_nc': '/home/disk/sipn/nicway/data/model/gfdlsipn/forecast/sipn_nc'},\n",
       "  'grid': '/home/disk/sipn/nicway/data/grids/GFDLFLOR_gridinfo.nc',\n",
       "  'model_label': 'gfdl-flor',\n",
       "  'reanalysis': {'native': '/home/disk/sipn/nicway/data/model/gfdlsipn/reanalysis/native',\n",
       "   'sipn_nc': '/home/disk/sipn/nicway/data/model/gfdlsipn/reanalysis/sipn_nc'},\n",
       "  'reforecast': {'native': '/home/disk/sipn/nicway/data/model/gfdlsipn/reforecast/native',\n",
       "   'sipn_nc': '/home/disk/sipn/nicway/data/model/gfdlsipn/reforecast/sipn_nc'}},\n",
       " 'hcmr': {'forecast': {'native': '/home/disk/sipn/nicway/data/model/hcmr/forecast/native',\n",
       "   'sipn_nc': '/home/disk/sipn/nicway/data/model/hcmr/forecast/sipn_nc'},\n",
       "  'grid': '/home/disk/sipn/nicway/data/grids/MISSING',\n",
       "  'model_label': 'hcmr',\n",
       "  'reanalysis': {'native': '/home/disk/sipn/nicway/data/model/hcmr/reanalysis/native',\n",
       "   'sipn_nc': '/home/disk/sipn/nicway/data/model/hcmr/reanalysis/sipn_nc'},\n",
       "  'reforecast': {'native': '/home/disk/sipn/nicway/data/model/hcmr/reforecast/native',\n",
       "   'sipn_nc': '/home/disk/sipn/nicway/data/model/hcmr/reforecast/sipn_nc'}},\n",
       " 'isaccnr': {'forecast': {'native': '/home/disk/sipn/nicway/data/model/isaccnr/forecast/native',\n",
       "   'sipn_nc': '/home/disk/sipn/nicway/data/model/isaccnr/forecast/sipn_nc'},\n",
       "  'grid': '/home/disk/sipn/nicway/data/grids/MISSING',\n",
       "  'model_label': 'isac-cnr',\n",
       "  'reanalysis': {'native': '/home/disk/sipn/nicway/data/model/isaccnr/reanalysis/native',\n",
       "   'sipn_nc': '/home/disk/sipn/nicway/data/model/isaccnr/reanalysis/sipn_nc'},\n",
       "  'reforecast': {'native': '/home/disk/sipn/nicway/data/model/isaccnr/reforecast/native',\n",
       "   'sipn_nc': '/home/disk/sipn/nicway/data/model/isaccnr/reforecast/sipn_nc'}},\n",
       " 'jma': {'forecast': {'native': '/home/disk/sipn/nicway/data/model/jma/forecast/native',\n",
       "   'sipn_nc': '/home/disk/sipn/nicway/data/model/jma/forecast/sipn_nc'},\n",
       "  'grid': '/home/disk/sipn/nicway/data/grids/MISSING',\n",
       "  'model_label': 'jma',\n",
       "  'reanalysis': {'native': '/home/disk/sipn/nicway/data/model/jma/reanalysis/native',\n",
       "   'sipn_nc': '/home/disk/sipn/nicway/data/model/jma/reanalysis/sipn_nc'},\n",
       "  'reforecast': {'native': '/home/disk/sipn/nicway/data/model/jma/reforecast/native',\n",
       "   'sipn_nc': '/home/disk/sipn/nicway/data/model/jma/reforecast/sipn_nc'}},\n",
       " 'kma': {'forecast': {'native': '/home/disk/sipn/nicway/data/model/kma/forecast/native',\n",
       "   'sipn_nc': '/home/disk/sipn/nicway/data/model/kma/forecast/sipn_nc'},\n",
       "  'grid': '/home/disk/sipn/nicway/data/grids/MISSING',\n",
       "  'model_label': 'kma',\n",
       "  'reanalysis': {'native': '/home/disk/sipn/nicway/data/model/kma/reanalysis/native',\n",
       "   'sipn_nc': '/home/disk/sipn/nicway/data/model/kma/reanalysis/sipn_nc'},\n",
       "  'reforecast': {'native': '/home/disk/sipn/nicway/data/model/kma/reforecast/native',\n",
       "   'sipn_nc': '/home/disk/sipn/nicway/data/model/kma/reforecast/sipn_nc'}},\n",
       " 'metreofr': {'forecast': {'native': '/home/disk/sipn/nicway/data/model/metreofr/forecast/native',\n",
       "   'sipn_nc': '/home/disk/sipn/nicway/data/model/metreofr/forecast/sipn_nc'},\n",
       "  'grid': '/home/disk/sipn/nicway/data/grids/MISSING',\n",
       "  'model_label': 'metreo-fr',\n",
       "  'reanalysis': {'native': '/home/disk/sipn/nicway/data/model/metreofr/reanalysis/native',\n",
       "   'sipn_nc': '/home/disk/sipn/nicway/data/model/metreofr/reanalysis/sipn_nc'},\n",
       "  'reforecast': {'native': '/home/disk/sipn/nicway/data/model/metreofr/reforecast/native',\n",
       "   'sipn_nc': '/home/disk/sipn/nicway/data/model/metreofr/reforecast/sipn_nc'}},\n",
       " 'ncep': {'forecast': {'native': '/home/disk/sipn/nicway/data/model/ncep/forecast/native',\n",
       "   'sipn_nc': '/home/disk/sipn/nicway/data/model/ncep/forecast/sipn_nc'},\n",
       "  'grid': '/home/disk/sipn/nicway/data/grids/MISSING',\n",
       "  'model_label': 'ncep',\n",
       "  'reanalysis': {'native': '/home/disk/sipn/nicway/data/model/ncep/reanalysis/native',\n",
       "   'sipn_nc': '/home/disk/sipn/nicway/data/model/ncep/reanalysis/sipn_nc'},\n",
       "  'reforecast': {'native': '/home/disk/sipn/nicway/data/model/ncep/reforecast/native',\n",
       "   'sipn_nc': '/home/disk/sipn/nicway/data/model/ncep/reforecast/sipn_nc'}},\n",
       " 'piomas': {'forecast': {'native': '/home/disk/sipn/nicway/data/model/piomas/forecast/native',\n",
       "   'sipn_nc': '/home/disk/sipn/nicway/data/model/piomas/forecast/sipn_nc'},\n",
       "  'grid': '/home/disk/sipn/nicway/data/grids/PIOMAS_gridinfo.nc',\n",
       "  'model_label': 'piomas',\n",
       "  'reanalysis': {'native': '/home/disk/sipn/nicway/data/model/piomas/reanalysis/native',\n",
       "   'sipn_nc': '/home/disk/sipn/nicway/data/model/piomas/reanalysis/sipn_nc'},\n",
       "  'reforecast': {'native': '/home/disk/sipn/nicway/data/model/piomas/reforecast/native',\n",
       "   'sipn_nc': '/home/disk/sipn/nicway/data/model/piomas/reforecast/sipn_nc'}},\n",
       " 'ukmetofficesipn': {'forecast': {'native': '/home/disk/sipn/nicway/data/model/ukmetofficesipn/forecast/native',\n",
       "   'sipn_nc': '/home/disk/sipn/nicway/data/model/ukmetofficesipn/forecast/sipn_nc'},\n",
       "  'grid': '/home/disk/sipn/nicway/data/grids/ukmetofficesipn_land_sea_mask.nc',\n",
       "  'model_label': 'ukmo-c3s',\n",
       "  'reanalysis': {'native': '/home/disk/sipn/nicway/data/model/ukmetofficesipn/reanalysis/native',\n",
       "   'sipn_nc': '/home/disk/sipn/nicway/data/model/ukmetofficesipn/reanalysis/sipn_nc'},\n",
       "  'reforecast': {'native': '/home/disk/sipn/nicway/data/model/ukmetofficesipn/reforecast/native',\n",
       "   'sipn_nc': '/home/disk/sipn/nicway/data/model/ukmetofficesipn/reforecast/sipn_nc'}},\n",
       " 'ukmo': {'forecast': {'native': '/home/disk/sipn/nicway/data/model/ukmo/forecast/native',\n",
       "   'sipn_nc': '/home/disk/sipn/nicway/data/model/ukmo/forecast/sipn_nc'},\n",
       "  'grid': '/home/disk/sipn/nicway/data/grids/MISSING',\n",
       "  'model_label': 'ukmo',\n",
       "  'reanalysis': {'native': '/home/disk/sipn/nicway/data/model/ukmo/reanalysis/native',\n",
       "   'sipn_nc': '/home/disk/sipn/nicway/data/model/ukmo/reanalysis/sipn_nc'},\n",
       "  'reforecast': {'native': '/home/disk/sipn/nicway/data/model/ukmo/reforecast/native',\n",
       "   'sipn_nc': '/home/disk/sipn/nicway/data/model/ukmo/reforecast/sipn_nc'}},\n",
       " 'yopp': {'forecast': {'native': '/home/disk/sipn/nicway/data/model/yopp/forecast/native',\n",
       "   'sipn_nc': '/home/disk/sipn/nicway/data/model/yopp/forecast/sipn_nc'},\n",
       "  'grid': '/home/disk/sipn/nicway/data/grids/yopp_land_sea_mask.nc',\n",
       "  'model_label': 'ecmwf-yopp',\n",
       "  'reanalysis': {'native': '/home/disk/sipn/nicway/data/model/yopp/reanalysis/native',\n",
       "   'sipn_nc': '/home/disk/sipn/nicway/data/model/yopp/reanalysis/sipn_nc'},\n",
       "  'reforecast': {'native': '/home/disk/sipn/nicway/data/model/yopp/reforecast/native',\n",
       "   'sipn_nc': '/home/disk/sipn/nicway/data/model/yopp/reforecast/sipn_nc'}}}"
      ]
     },
     "execution_count": 5,
     "metadata": {},
     "output_type": "execute_result"
    }
   ],
   "source": [
    "# Add Models\n",
    "E.add_model(mod_name='gfdlsipn', model_label='gfdl-flor', grid_file='GFDLFLOR_gridinfo.nc')\n",
    "E.add_model(mod_name='piomas', model_label='piomas', grid_file='PIOMAS_gridinfo.nc')\n",
    "E.add_model(mod_name='yopp', model_label='ecmwf-yopp', grid_file='yopp_land_sea_mask.nc')\n",
    "# S2S download models\n",
    "E.add_model(mod_name='bom', model_label='bom', grid_file='MISSING')\n",
    "E.add_model(mod_name='cma', model_label='cma', grid_file='MISSING')\n",
    "E.add_model(mod_name='ecmwf', model_label='ecmwf', grid_file='MISSING')\n",
    "E.add_model(mod_name='hcmr', model_label='hcmr', grid_file='MISSING')\n",
    "E.add_model(mod_name='isaccnr', model_label='isac-cnr', grid_file='MISSING')\n",
    "E.add_model(mod_name='jma', model_label='jma', grid_file='MISSING')\n",
    "E.add_model(mod_name='metreofr', model_label='metreo-fr', grid_file='MISSING')\n",
    "E.add_model(mod_name='ukmo', model_label='ukmo', grid_file='MISSING')\n",
    "E.add_model(mod_name='eccc', model_label='eccc', grid_file='MISSING')\n",
    "E.add_model(mod_name='kma', model_label='kma', grid_file='MISSING')\n",
    "E.add_model(mod_name='ncep', model_label='ncep', grid_file='MISSING')\n",
    "# c3S Models\n",
    "E.add_model(mod_name='ukmetofficesipn', model_label='ukmo-c3s', grid_file='ukmetofficesipn_land_sea_mask.nc')\n",
    "E.add_model(mod_name='ecmwfsipn', model_label='ecmwf-c3s', grid_file='ecmwfsipn_land_sea_mask.nc')\n",
    "\n",
    "E.model"
   ]
  },
  {
   "cell_type": "code",
   "execution_count": 6,
   "metadata": {
    "collapsed": true
   },
   "outputs": [],
   "source": [
    "# Add other path info\n",
    "E.fig_dir = r'/home/disk/sipn/nicway/public_html/sipn/figures/'"
   ]
  },
  {
   "cell_type": "code",
   "execution_count": 7,
   "metadata": {},
   "outputs": [],
   "source": [
    "# Flag if modeled ice is predicted (True) or prescribed (False)\n",
    "icePredicted = {'gfdlsipn':True, 'piomas':True, 'yopp':True, 'bom':False, 'cma':True, 'ecmwf':True, \n",
    "              'hcmr':False, 'isaccnr':False, 'jma':False, 'metreofr':True, 'ukmo':True, 'eccc':False, \n",
    "              'kma':True, 'ncep':True, 'ukmetofficesipn':True, 'ecmwfsipn':True}\n",
    "E.icePredicted = icePredicted"
   ]
  },
  {
   "cell_type": "code",
   "execution_count": 15,
   "metadata": {},
   "outputs": [],
   "source": [
    "# Define colors/lines etce for each model to use in plots\n",
    "cmap_c = itertools.cycle(sns.color_palette(\"Paired\", len(E.model.keys()) ))\n",
    "linecycler = itertools.cycle([\"-\",\"--\",\"-.\",\":\",\"--\"])\n",
    "markercycler = itertools.cycle([\"*\",\"o\",\"s\",\"v\",\"x\"])\n",
    "mod_cc = {}\n",
    "mod_ls = {}\n",
    "mod_mk = {}\n",
    "for (i, cmod) in enumerate(E.model.keys()):\n",
    "    mod_cc[cmod] = next(cmap_c)\n",
    "    mod_ls[cmod] = next(linecycler)\n",
    "    mod_mk[cmod] = next(markercycler)\n",
    "E.model_color = mod_cc\n",
    "E.model_linestyle = mod_ls\n",
    "E.model_marker= mod_mk"
   ]
  },
  {
   "cell_type": "code",
   "execution_count": 16,
   "metadata": {},
   "outputs": [
    {
     "name": "stdout",
     "output_type": "stream",
     "text": [
      "Saving to  /home/disk/sipn/nicway/python/ESIO/\n"
     ]
    }
   ],
   "source": [
    "# Save to ESIO dir\n",
    "print(\"Saving to \",dir_out)\n",
    "E.save()"
   ]
  },
  {
   "cell_type": "code",
   "execution_count": 9,
   "metadata": {
    "collapsed": true
   },
   "outputs": [],
   "source": [
    "# # Load object to test\n",
    "# E = None\n",
    "# E = ed.esiodata.load()"
   ]
  },
  {
   "cell_type": "code",
   "execution_count": null,
   "metadata": {
    "collapsed": true
   },
   "outputs": [],
   "source": []
  },
  {
   "cell_type": "code",
   "execution_count": null,
   "metadata": {
    "collapsed": true
   },
   "outputs": [],
   "source": []
  }
 ],
 "metadata": {
  "kernelspec": {
   "display_name": "3.6.4 esio",
   "language": "python",
   "name": "esio"
  },
  "language_info": {
   "codemirror_mode": {
    "name": "ipython",
    "version": 3
   },
   "file_extension": ".py",
   "mimetype": "text/x-python",
   "name": "python",
   "nbconvert_exporter": "python",
   "pygments_lexer": "ipython3",
   "version": "3.6.4"
  }
 },
 "nbformat": 4,
 "nbformat_minor": 2
}
