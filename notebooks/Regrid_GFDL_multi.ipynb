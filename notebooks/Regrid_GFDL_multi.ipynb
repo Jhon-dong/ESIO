{
 "cells": [
  {
   "cell_type": "markdown",
   "metadata": {},
   "source": [
    "# GFDL FLOR Historical\n",
    "\n",
    "## Loads in all monthly forecasts of sea ice extent\n",
    "## Regrids to polar stereographic,\n",
    "## Saves to a netcdf file"
   ]
  },
  {
   "cell_type": "code",
   "execution_count": null,
   "metadata": {},
   "outputs": [],
   "source": [
    "# Standard Imports\n",
    "%matplotlib inline\n",
    "import matplotlib\n",
    "import matplotlib.pyplot as plt\n",
    "import cartopy.crs as ccrs\n",
    "from cartopy.mpl.gridliner import LONGITUDE_FORMATTER, LATITUDE_FORMATTER\n",
    "import numpy as np\n",
    "import xarray as xr\n",
    "import xesmf as xe\n",
    "import os\n",
    "import glob\n",
    "import seaborn as sns\n",
    "# ESIO Imports\n",
    "import esio"
   ]
  },
  {
   "cell_type": "code",
   "execution_count": null,
   "metadata": {},
   "outputs": [],
   "source": [
    "# General plotting settings\n",
    "sns.set_style('whitegrid')\n",
    "sns.set_context(\"talk\", font_scale=1.5, rc={\"lines.linewidth\": 2.5})"
   ]
  },
  {
   "cell_type": "code",
   "execution_count": null,
   "metadata": {},
   "outputs": [],
   "source": [
    "# Data dir\n",
    "data_dir = r'/home/disk/sipn/nicway/data/model/nmme/reforecast/native'\n",
    "data_out = r'/home/disk/sipn/nicway/data/model/nmme/reforecast/sipn_nc'\n",
    "grid_file = r'/home/disk/sipn/nicway/data/grids/GFDLFLOR_gridinfo.nc' # Correct GFDL grid info"
   ]
  },
  {
   "cell_type": "code",
   "execution_count": null,
   "metadata": {},
   "outputs": [],
   "source": [
    "# Load in correct GFDL grid info and format\n",
    "grid = xr.open_dataset(grid_file)\n",
    "n_lat = grid.grid_center_lat.values.reshape(tuple(np.flip(grid.grid_dims.T.values,0))) # Reshape\n",
    "n_lat = np.rad2deg(n_lat)\n",
    "n_lon = grid.grid_center_lon.values.reshape(tuple(np.flip(grid.grid_dims.T.values,0))) # Reshape\n",
    "n_lon = np.rad2deg(n_lon)"
   ]
  },
  {
   "cell_type": "code",
   "execution_count": null,
   "metadata": {},
   "outputs": [],
   "source": []
  },
  {
   "cell_type": "code",
   "execution_count": null,
   "metadata": {},
   "outputs": [],
   "source": [
    "weights_flag = False # Flag to set up weights have been created\n",
    "for year in np.arange(1980, 2014, 1):\n",
    "\n",
    "    # Loop over each ensemble member\n",
    "    ds_list = []\n",
    "    for e in np.arange(1,13,1):\n",
    "        ensm_name = 'r'+str(e)+'i1p1'\n",
    "        cfiles = os.path.join(data_dir, '*sic*'+ensm_name+'_'+str(year)+'*.nc')\n",
    "        ds_list.append(esio.open_1_member(cfiles, e))\n",
    "    ds_all = xr.concat(ds_list, dim='ensemble')\n",
    "\n",
    "    # Fix GFDL grid\n",
    "    # Files comes with incorrect lat/lon at poles. Use correct separte file to update coords\n",
    "    ds_all.rename({'lat':'nj', 'lon':'ni'}, inplace=True); # Rename wrong-lat/lon to indices\n",
    "    ds_all.coords['nj'] = xr.DataArray(np.arange(0,ds_all.nj.size,1), dims=('nj')) # Make indices\n",
    "    ds_all.coords['ni'] = xr.DataArray(np.arange(0,ds_all.ni.size,1), dims=('ni'))\n",
    "    ds_all.coords['lat'] = xr.DataArray(n_lat, dims=('nj','ni'), coords={'nj':ds_all.nj, 'ni':ds_all.ni}) #Add correct lat/lon\n",
    "    ds_all.coords['lon'] = xr.DataArray(n_lon, dims=('nj','ni'), coords={'nj':ds_all.nj, 'ni':ds_all.ni})\n",
    "\n",
    "    # Average over all sea ice categories \n",
    "    sic = ds_all.sic.sum(dim='ct', skipna=False)\n",
    "\n",
    "    # Get info about target grid\n",
    "    ds_out = esio.get_stero_N_grid()\n",
    "\n",
    "    # Calculate regridding matrix\n",
    "    regridder = xe.Regridder(sic, ds_out, 'bilinear', periodic=True, reuse_weights=weights_flag)\n",
    "    weights_flag = True # Set true for following loops\n",
    "    \n",
    "    # Regrid\n",
    "    sic_out = regridder(sic)\n",
    "\n",
    "    # Add dropped coords\n",
    "    sic_out['fore_time'] = sic.fore_time\n",
    "\n",
    "    # # Save regridded to netcdf file\n",
    "    f_out = os.path.join(data_out, 'GFDL_FLORB01_'+str(year)+'_Stereo.nc')\n",
    "    sic_out.to_netcdf(f_out)\n",
    "    sic_out = None # Memory clean up\n",
    "    print('Saved ',f_out)"
   ]
  },
  {
   "cell_type": "code",
   "execution_count": null,
   "metadata": {},
   "outputs": [],
   "source": [
    "# Clean up\n",
    "regridder.clean_weight_file()  # clean-up"
   ]
  },
  {
   "cell_type": "code",
   "execution_count": null,
   "metadata": {},
   "outputs": [],
   "source": []
  },
  {
   "cell_type": "markdown",
   "metadata": {},
   "source": [
    "# Plotting"
   ]
  },
  {
   "cell_type": "code",
   "execution_count": null,
   "metadata": {},
   "outputs": [],
   "source": [
    "# # Set up plotting info\n",
    "# cmap_sic = matplotlib.colors.ListedColormap(sns.color_palette(\"Blues\", 10))\n",
    "# cmap_sic.set_bad(color = 'lightgrey')"
   ]
  },
  {
   "cell_type": "code",
   "execution_count": null,
   "metadata": {},
   "outputs": [],
   "source": [
    "# # Plot original projection\n",
    "# plt.figure(figsize=(20,10))\n",
    "# ax1 = plt.axes(projection=ccrs.PlateCarree())\n",
    "# # ds_p = sic.mean(dim='init_time').mean(dim='fore_time').mean(dim='ensemble')\n",
    "# ds_p = sic.isel(init_time=0).isel(fore_time_i=6).mean(dim='ensemble')\n",
    "# ds_p.plot.pcolormesh(ax=ax1, x='lon', y='lat', \n",
    "#                                  vmin=0, vmax=1,\n",
    "#                                  cmap=matplotlib.colors.ListedColormap(sns.color_palette(\"Blues\", 10)));\n",
    "# ax1.set_extent([-180, 180, -90, 90], crs=ccrs.PlateCarree())\n",
    "# gl = ax1.gridlines(crs=ccrs.PlateCarree(), linestyle='-')\n",
    "# gl.xlabels_bottom = True\n",
    "# gl.ylabels_left = True\n",
    "# gl.xformatter = LONGITUDE_FORMATTER\n",
    "# gl.yformatter = LATITUDE_FORMATTER\n",
    "# ax1.coastlines(linewidth=0.75, color='black', resolution='50m');"
   ]
  },
  {
   "cell_type": "code",
   "execution_count": null,
   "metadata": {},
   "outputs": [],
   "source": [
    "# # Plot SIC on target projection\n",
    "# plt.figure(figsize=(10,8));\n",
    "# ax1 = plt.axes(projection=ccrs.NorthPolarStereo(central_longitude=0))\n",
    "# # ds_p2 = sic_out.mean(dim='init_time').mean(dim='fore_time').mean(dim='ensemble')\n",
    "# ds_p2 = sic_out.isel(init_time=0).isel(fore_time_i=6).mean(dim='ensemble')\n",
    "# ds_p2.plot.pcolormesh(ax=ax1, x='lon', y='lat', \n",
    "#                                      transform=ccrs.PlateCarree(),\n",
    "#                                      cmap=cmap_sic)\n",
    "# # Add coastlines and meridians/parallels \n",
    "# ax1.coastlines(linewidth=0.75, color='black', resolution='50m')\n",
    "# ax1.gridlines(crs=ccrs.PlateCarree(), linestyle='-')\n",
    "# ax1.set_extent([-180, 180, 50, 90], crs=ccrs.PlateCarree())\n",
    "# plt.tight_layout()"
   ]
  },
  {
   "cell_type": "code",
   "execution_count": null,
   "metadata": {},
   "outputs": [],
   "source": []
  }
 ],
 "metadata": {
  "kernelspec": {
   "display_name": "Python 3",
   "language": "python",
   "name": "python3"
  },
  "language_info": {
   "codemirror_mode": {
    "name": "ipython",
    "version": 3
   },
   "file_extension": ".py",
   "mimetype": "text/x-python",
   "name": "python",
   "nbconvert_exporter": "python",
   "pygments_lexer": "ipython3",
   "version": "3.6.4"
  }
 },
 "nbformat": 4,
 "nbformat_minor": 2
}
