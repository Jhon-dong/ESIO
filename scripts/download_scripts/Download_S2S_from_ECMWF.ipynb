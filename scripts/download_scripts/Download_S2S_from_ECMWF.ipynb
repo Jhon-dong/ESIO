{
 "cells": [
  {
   "cell_type": "code",
   "execution_count": 3,
   "metadata": {},
   "outputs": [
    {
     "name": "stdout",
     "output_type": "stream",
     "text": [
      "('Downloading ', '2018-03-06')\n",
      "2018-03-08 14:52:38 ECMWF API python library 1.5.0\n",
      "2018-03-08 14:52:38 ECMWF API at https://api.ecmwf.int/v1\n",
      "2018-03-08 14:52:39 Welcome Nic Wayand\n",
      "2018-03-08 14:52:40 In case of problems, please check https://software.ecmwf.int/wiki/display/WEBAPI/Troubleshooting or contact servicedesk@ecmwf.int\n",
      "2018-03-08 14:52:40 In case of delays, please check  service activity page http://apps.ecmwf.int/webapi-activity/\n",
      "2018-03-08 14:52:41 Request submitted\n",
      "2018-03-08 14:52:41 Request id: 5aa1beb98806adf65caae670\n",
      "2018-03-08 14:52:41 Request is queued\n",
      "Calling '['nice', 'mars', '/tmp/tmp-_mars8gYLKy.req']'\n",
      "mars - WARN -\n",
      "mars - WARN - From 9 February 2016 10AM (UTC) MARS uses versions of\n",
      "mars - WARN - libemos newer than 4.3.0. For more details, see\n",
      "mars - WARN - https://software.ecmwf.int/wiki/display/EMOS/Bug+fix+implemented+in+EMOSLIB+4.3.x\n",
      "mars - WARN -\n",
      "PPDIR is /var/tmp/ppdir/x86_64\n",
      "mars - INFO   - 20180308.225254 - Welcome to MARS with ecCodes + ODB\n",
      "mars - INFO   - 20180308.225254 - MARS Client build stamp: 20171030172725\n",
      "mars - INFO   - 20180308.225254 - MARS Client version: 6.19.0\n",
      "mars - INFO   - 20180308.225254 - EMOSLIB version: 452\n",
      "mars - INFO   - 20180308.225254 - Using ecCodes version 2.5.1\n",
      "mars - INFO   - 20180308.225254 - Using odb_api version: 0.15.6 (file format version: 0.5)\n",
      "mars - INFO   - 20180308.225254 - Maximum retrieval size is 30.00 G\n",
      "2018-03-08 14:52:54 Request is active\n",
      "retrieve,stream=enfo,levtype=sfc,param=31.128,padding=0,step=0/3/6/9/12/15/18/21/24/27/30/33/36/39/42/45/48/51/54/57/60/63/66/69/72/75/78/81/84/87/90/93/96/99/102/105/108/111/114/117/120/123/126/129/132/135/138/141/144/150/156/162/168/174/180/186/192/198/204/210/216/222/228/234/240/246/252/258/264/270/276/282/288/294/300/306/312/318/324/330/336/342/348/354/360,expver=1,time=00:00:00/12:00:00,date=2018-03-06,type=cf,class=ypmars - INFO   - 20180308.225254 - Automatic split by date is on\n",
      "\n",
      "mars - INFO   - 20180308.225254 - Processing request 1\n",
      "\n",
      "RETRIEVE,\n",
      "    CLASS      = YP,\n",
      "    TYPE       = CF,\n",
      "    STREAM     = ENFO,\n",
      "    EXPVER     = 0001,\n",
      "    REPRES     = SH,\n",
      "    LEVTYPE    = SFC,\n",
      "    PARAM      = 31.128,\n",
      "    TIME       = 0000/1200,\n",
      "    STEP       = 0/3/6/9/12/15/18/21/24/27/30/33/36/39/42/45/48/51/54/57/60/63/66/69/72/75/78/81/84/87/90/93/96/99/102/105/108/111/114/117/120/123/126/129/132/135/138/141/144/150/156/162/168/174/180/186/192/198/204/210/216/222/228/234/240/246/252/258/264/270/276/282/288/294/300/306/312/318/324/330/336/342/348/354/360,\n",
      "    DOMAIN     = G,\n",
      "    PADDING    = 0,\n",
      "    DATE       = 20180306\n",
      "\n",
      "mars - INFO   - 20180308.225254 - Web API request id: 5aa1beb98806adf65caae670\n",
      "mars - INFO   - 20180308.225254 - Requesting 170 fields\n",
      "mars - INFO   - 20180308.225254 - Calling mars on 'marser', callback on 40510\n",
      "mars - INFO   - 20180308.225255 - Server task is 270 [marser]\n",
      "mars - INFO   - 20180308.225255 - Request cost: 170 fields, 539.162 Mbytes online, nodes: mvr02 mvr04 mvr06 mvr09 mvr11 [marser]\n",
      "mars - INFO   - 20180308.225256 - Transfering 565352340 bytes\n",
      "mars - INFO   - 20180308.225308 - 170 fields retrieved from 'marser'\n",
      "mars - INFO   - 20180308.225308 - Request time:  wall: 14 sec  cpu: 1 sec\n",
      "mars - INFO   - 20180308.225308 -   Read from network: 539.16 Mbyte(s) in 10 sec  [52.19 Mbyte/sec]\n",
      "mars - INFO   - 20180308.225308 -   Processing in marser: wall: 2 sec\n",
      "mars - INFO   - 20180308.225308 -   Visiting marser: wall: 14 sec\n",
      "mars - INFO   - 20180308.225308 -   Writing to target file: 539.16 Mbyte(s) in < 1 sec [622.88 Mbyte/sec]\n",
      "mars - INFO   - 20180308.225308 - Memory used: 31.59 Mbyte(s)\n",
      "mars - INFO   - 20180308.225308 - No errors reported\n",
      "Process '['nice', 'mars', '/tmp/tmp-_mars8gYLKy.req']' finished\n",
      "2018-03-08 14:53:12 Request is complete\n",
      "2018-03-08 14:53:12 Transfering 539.162 Mbytes into yopp_ci_2018-03-06_00_12.grib\n",
      "2018-03-08 14:53:12 From https://stream.ecmwf.int/data/atls04/data/data01/scratch/_mars-atls04-95e2cf679cd58ee9b4db4dd119a05a8d-gzjJDg.grib\n",
      "2018-03-08 14:56:01 Transfer rate 3.17405 Mbytes/s\n"
     ]
    }
   ],
   "source": [
    "'''\n",
    "\n",
    "This code is part of the SIPN2 project focused on improving sub-seasonal to seasonal predictions of Arctic Sea Ice. \n",
    "If you use this code for a publication or presentation, please cite the reference in the README.md on the\n",
    "main page (https://github.com/NicWayand/ESIO). \n",
    "\n",
    "Questions or comments should be addressed to nicway@uw.edu\n",
    "\n",
    "Copyright (c) 2018 Nic Wayand\n",
    "\n",
    "GNU General Public License v3.0\n",
    "\n",
    "\n",
    "'''\n",
    "\n",
    "%matplotlib inline\n",
    "from ecmwfapi import ECMWFDataServer\n",
    "import datetime\n",
    "import os\n",
    "\n",
    "# Configuration info about this model\n",
    "prefix = \"yopp_ci_\"\n",
    "data_dir = r'/home/disk/sipn/nicway/data/model/S2S/yopp/'\n",
    "native_grib = os.path.join(data_dir, 'native_grib')\n",
    "# Note:\n",
    "# This dataset is available with 48 hour delay.\n",
    "\n",
    "if not os.path.exists(native_grib):\n",
    "    os.makedirs(native_grib)\n",
    "\n",
    "os.chdir(native_grib)\n",
    "\n",
    "# Download a single day\n",
    "# This dataset is available with 48 hour delay.\n",
    "day = datetime.datetime.now() -  datetime.timedelta(days=2)\n",
    "print(\"Downloading \",day.strftime(\"%Y-%m-%d\"))\n",
    "server = ECMWFDataServer()\n",
    "server.retrieve({\n",
    "    \"class\": \"yp\",\n",
    "    \"dataset\": \"yopp\",\n",
    "    \"date\": day.strftime(\"%Y-%m-%d\"),\n",
    "    \"expver\": \"1\",\n",
    "    \"levtype\": \"sfc\",\n",
    "    \"param\": \"31.128\",\n",
    "    \"step\": \"0/3/6/9/12/15/18/21/24/27/30/33/36/39/42/45/48/51/54/57/60/63/66/69/72/75/78/81/84/87/90/93/96/99/102/105/108/111/114/117/120/123/126/129/132/135/138/141/144/150/156/162/168/174/180/186/192/198/204/210/216/222/228/234/240/246/252/258/264/270/276/282/288/294/300/306/312/318/324/330/336/342/348/354/360\",\n",
    "    \"stream\": \"enfo\",\n",
    "    \"time\": \"00:00:00/12:00:00\",\n",
    "    \"type\": \"cf\",\n",
    "    \"target\": prefix+day.strftime(\"%Y-%m-%d\")+\"_00_12.grib\",\n",
    "})"
   ]
  },
  {
   "cell_type": "code",
   "execution_count": 8,
   "metadata": {},
   "outputs": [],
   "source": [
    "# # Download a full month\n",
    "# server = ECMWFDataServer()\n",
    "# server.retrieve({\n",
    "#     \"class\": \"yp\",\n",
    "#     \"dataset\": \"yopp\",\n",
    "#     \"date\": \"2018-02-01/to/2018-02-27\",\n",
    "#     \"expver\": \"1\",\n",
    "#     \"levtype\": \"sfc\",\n",
    "#     \"param\": \"31.128\",\n",
    "#     \"step\": \"0/3/6/9/12/15/18/21/24/27/30/33/36/39/42/45/48/51/54/57/60/63/66/69/72/75/78/81/84/87/90/93/96/99/102/105/108/111/114/117/120/123/126/129/132/135/138/141/144/150/156/162/168/174/180/186/192/198/204/210/216/222/228/234/240/246/252/258/264/270/276/282/288/294/300/306/312/318/324/330/336/342/348/354/360\",\n",
    "#     \"stream\": \"enfo\",\n",
    "#     \"time\": \"00:00:00/12:00:00\",\n",
    "#     \"type\": \"cf\",\n",
    "#     \"target\": \"yopp_ci_2018-02-01_00_12.grib\",\n",
    "# })"
   ]
  },
  {
   "cell_type": "code",
   "execution_count": null,
   "metadata": {},
   "outputs": [],
   "source": []
  },
  {
   "cell_type": "code",
   "execution_count": 9,
   "metadata": {},
   "outputs": [],
   "source": [
    "# # Open all grib files\n",
    "# ds = xr.open_mfdataset('yopp_ci_*.grib', engine='pynio')\n",
    "# ds"
   ]
  },
  {
   "cell_type": "code",
   "execution_count": 10,
   "metadata": {},
   "outputs": [],
   "source": [
    "# # Rename variables per esipn guidelines\n",
    "# ds.rename({'CI_GDS4_SFC':'sic', 'g4_lat_2':'lat', 'g4_lon_3':'lon'}, inplace=True)"
   ]
  },
  {
   "cell_type": "code",
   "execution_count": 11,
   "metadata": {},
   "outputs": [],
   "source": [
    "# ds.load()"
   ]
  },
  {
   "cell_type": "code",
   "execution_count": 12,
   "metadata": {},
   "outputs": [],
   "source": [
    "# # Write to netcdf\n",
    "# os.chdir(native_nc)\n",
    "# date, datasets = zip(*ds.groupby('initial_time0_hours'))\n",
    "# paths = [prefix+'%s.nc' % d for d in date]\n",
    "# for (cf, datasets) in zip(date, datasets):\n",
    "#     print(cf)\n",
    "#     ds.to_netcdf(prefix+pd.to_datetime(str(cf)).strftime('%Y-%m-%d')+'.nc', group='initial_time0_hours')\n",
    "#     # xr.save_mfdataset(datasets, paths) # Not working, throwing some memory read error..."
   ]
  },
  {
   "cell_type": "code",
   "execution_count": null,
   "metadata": {},
   "outputs": [],
   "source": []
  },
  {
   "cell_type": "code",
   "execution_count": null,
   "metadata": {},
   "outputs": [],
   "source": []
  },
  {
   "cell_type": "code",
   "execution_count": 13,
   "metadata": {},
   "outputs": [],
   "source": [
    "# # Plot test\n",
    "# ci_test = ds.CI_GDS4_SFC[0,0,:,:]\n",
    "\n",
    "# %matplotlib notebook\n",
    "# plt.figure(figsize=(10,8));\n",
    "# ax1 = plt.axes(projection=ccrs.NorthPolarStereo(central_longitude=0))\n",
    "# ci_test.plot.pcolormesh(ax=ax1, x='g4_lon_3', y='g4_lat_2', \n",
    "#                                      transform=ccrs.PlateCarree(), cmap='Blues_r')\n",
    "# ax1.coastlines(linewidth=0.75, color='black', resolution='50m')\n",
    "# ax1.gridlines(crs=ccrs.PlateCarree(), linestyle='-')\n",
    "# ax1.set_extent([-180, 180, 50, 90], crs=ccrs.PlateCarree())\n",
    "# ax1.set_title((ci_test.initial_time0_hours + ci_test.forecast_time1).values)\n",
    "# plt.tight_layout()"
   ]
  },
  {
   "cell_type": "code",
   "execution_count": null,
   "metadata": {},
   "outputs": [],
   "source": []
  }
 ],
 "metadata": {
  "kernelspec": {
   "display_name": "2.7 grib",
   "language": "python",
   "name": "grib"
  },
  "language_info": {
   "codemirror_mode": {
    "name": "ipython",
    "version": 2
   },
   "file_extension": ".py",
   "mimetype": "text/x-python",
   "name": "python",
   "nbconvert_exporter": "python",
   "pygments_lexer": "ipython2",
   "version": "2.7.14"
  }
 },
 "nbformat": 4,
 "nbformat_minor": 2
}
