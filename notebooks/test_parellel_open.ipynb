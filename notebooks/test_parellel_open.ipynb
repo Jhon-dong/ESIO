{
 "cells": [
  {
   "cell_type": "code",
   "execution_count": 1,
   "metadata": {},
   "outputs": [],
   "source": [
    "%matplotlib inline\n",
    "import matplotlib.pyplot as plt\n",
    "import matplotlib\n",
    "import os\n",
    "import xarray as xr\n",
    "import glob\n",
    "import dask\n",
    "\n",
    "\n",
    "# ESIO Imports\n",
    "import esiodata as ed"
   ]
  },
  {
   "cell_type": "code",
   "execution_count": null,
   "metadata": {},
   "outputs": [],
   "source": []
  },
  {
   "cell_type": "code",
   "execution_count": null,
   "metadata": {},
   "outputs": [],
   "source": []
  },
  {
   "cell_type": "code",
   "execution_count": 2,
   "metadata": {},
   "outputs": [
    {
     "name": "stdout",
     "output_type": "stream",
     "text": [
      "1202\n"
     ]
    }
   ],
   "source": [
    "#############################################################\n",
    "# Load in Data\n",
    "#############################################################\n",
    "\n",
    "E = ed.esiodata.load()\n",
    "\n",
    "# Load in Obs\n",
    "data_dir = E.data_dir\n",
    "grid_dir = E.grid_dir\n",
    "\n",
    "nc_files = glob.glob(E.obs['NSIDC_0081']['sipn_nc']+'/*.nc')\n",
    "print(len(nc_files))"
   ]
  },
  {
   "cell_type": "code",
   "execution_count": 3,
   "metadata": {},
   "outputs": [
    {
     "name": "stdout",
     "output_type": "stream",
     "text": [
      "CPU times: user 57.8 s, sys: 3.2 s, total: 1min 1s\n",
      "Wall time: 1min\n"
     ]
    }
   ],
   "source": [
    "%time ds = xr.open_mfdataset(nc_files, concat_dim='time', parallel=False, autoclose=True)"
   ]
  },
  {
   "cell_type": "code",
   "execution_count": 4,
   "metadata": {},
   "outputs": [
    {
     "name": "stdout",
     "output_type": "stream",
     "text": [
      "CPU times: user 1min 16s, sys: 9.82 s, total: 1min 26s\n",
      "Wall time: 1min 16s\n"
     ]
    }
   ],
   "source": [
    "%time ds = xr.open_mfdataset(nc_files, concat_dim='time', parallel=True, autoclose=True)"
   ]
  },
  {
   "cell_type": "code",
   "execution_count": 5,
   "metadata": {},
   "outputs": [
    {
     "name": "stdout",
     "output_type": "stream",
     "text": [
      "<Client: scheduler='tcp://127.0.0.1:43291' processes=16 cores=16>\n"
     ]
    }
   ],
   "source": [
    "from dask.distributed import Client\n",
    "client = Client()\n",
    "print(client)"
   ]
  },
  {
   "cell_type": "code",
   "execution_count": 6,
   "metadata": {},
   "outputs": [
    {
     "name": "stdout",
     "output_type": "stream",
     "text": [
      "CPU times: user 2min 17s, sys: 12.3 s, total: 2min 29s\n",
      "Wall time: 3min 48s\n"
     ]
    }
   ],
   "source": [
    "%time ds = xr.open_mfdataset(nc_files, concat_dim='time', parallel=True, autoclose=True)"
   ]
  },
  {
   "cell_type": "code",
   "execution_count": null,
   "metadata": {},
   "outputs": [],
   "source": []
  },
  {
   "cell_type": "code",
   "execution_count": null,
   "metadata": {},
   "outputs": [],
   "source": [
    "\n",
    "cvar = 'sic'\n",
    "\n",
    "bag = dask.bag.from_sequence(nc_files)\n",
    "load_variable = lambda ncfile: xr.open_dataset(ncfile)[cvar]\n",
    "bag = bag.map(load_variable)\n",
    "dataarrays = bag.compute()\n",
    "%time dataarray = xr.concat(dataarrays, dim='time')"
   ]
  },
  {
   "cell_type": "code",
   "execution_count": null,
   "metadata": {},
   "outputs": [],
   "source": []
  },
  {
   "cell_type": "code",
   "execution_count": null,
   "metadata": {},
   "outputs": [],
   "source": [
    "# # fig_dir = os.path.join(E.fig_dir, 'obs', 'NSIDC_0081' , 'standard')\n",
    "# da_51_in = xr.open_mfdataset(, concat_dim='time', autoclose=True)\n",
    "# ds_ext = xr.open_dataset(os.path.join(E.obs['NSIDC_extent']['sipn_nc'], 'N_seaice_extent_daily_v3.0.nc'))\n",
    "# ds_ext = ds_ext.rename({'datetime':'time'})\n",
    "# print('done')"
   ]
  },
  {
   "cell_type": "code",
   "execution_count": null,
   "metadata": {},
   "outputs": [],
   "source": []
  }
 ],
 "metadata": {
  "kernelspec": {
   "display_name": "xarray_dev",
   "language": "python",
   "name": "xarray_dev"
  },
  "language_info": {
   "codemirror_mode": {
    "name": "ipython",
    "version": 3
   },
   "file_extension": ".py",
   "mimetype": "text/x-python",
   "name": "python",
   "nbconvert_exporter": "python",
   "pygments_lexer": "ipython3",
   "version": "3.6.5"
  }
 },
 "nbformat": 4,
 "nbformat_minor": 2
}
