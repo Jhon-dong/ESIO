{
 "cells": [
  {
   "cell_type": "code",
   "execution_count": null,
   "metadata": {},
   "outputs": [],
   "source": [
    "%matplotlib inline\n",
    "import gcsfs\n",
    "import xarray as xr\n",
    "\n",
    "# Get GCP map\n",
    "fs = gcsfs.GCSFileSystem(project='sipn2-pangeo', token='anon', access='read_only')\n",
    "gcsmap = gcsfs.mapping.GCSMap('sipn-data', gcs=fs, create=False)\n",
    "\n",
    "# Open Zarr dataset\n",
    "ds_gcs = xr.open_zarr(gcsmap)\n",
    "\n",
    "ds_gcs"
   ]
  },
  {
   "cell_type": "code",
   "execution_count": null,
   "metadata": {},
   "outputs": [],
   "source": [
    "ds_gcs.SIP.sel(model=b'MME').isel(init_end=0, fore_time=15).plot()"
   ]
  }
 ],
 "metadata": {
  "kernelspec": {
   "display_name": "3.6.4 esio",
   "language": "python",
   "name": "esio"
  },
  "language_info": {
   "codemirror_mode": {
    "name": "ipython",
    "version": 3
   },
   "file_extension": ".py",
   "mimetype": "text/x-python",
   "name": "python",
   "nbconvert_exporter": "python",
   "pygments_lexer": "ipython3",
   "version": "3.6.4"
  }
 },
 "nbformat": 4,
 "nbformat_minor": 2
}
