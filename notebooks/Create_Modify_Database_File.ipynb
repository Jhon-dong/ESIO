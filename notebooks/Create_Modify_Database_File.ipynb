{
 "cells": [
  {
   "cell_type": "code",
   "execution_count": null,
   "metadata": {
    "collapsed": true
   },
   "outputs": [],
   "source": [
    "'''\n",
    "\n",
    "This code is part of the SIPN2 project focused on improving sub-seasonal to seasonal predictions of Arctic Sea Ice. \n",
    "If you use this code for a publication or presentation, please cite the reference in the README.md on the\n",
    "main page (https://github.com/NicWayand/ESIO). \n",
    "\n",
    "Questions or comments should be addressed to nicway@uw.edu\n",
    "\n",
    "Copyright (c) 2018 Nic Wayand\n",
    "\n",
    "GNU General Public License v3.0\n",
    "\n",
    "\n",
    "'''\n",
    "\n",
    "import os\n",
    "import xarray as xr\n",
    "import numpy as np\n",
    "import pickle\n",
    "import esiodata as ed\n",
    "import itertools\n",
    "import seaborn as sns\n"
   ]
  },
  {
   "cell_type": "code",
   "execution_count": null,
   "metadata": {
    "collapsed": true
   },
   "outputs": [],
   "source": [
    "dir_out = '/home/disk/sipn/nicway/python/ESIO/'"
   ]
  },
  {
   "cell_type": "code",
   "execution_count": null,
   "metadata": {
    "collapsed": true
   },
   "outputs": [],
   "source": [
    "# Create an esioData\n",
    "E = ed.esiodata(data_dir = '/home/disk/sipn/nicway/data/')"
   ]
  },
  {
   "cell_type": "code",
   "execution_count": null,
   "metadata": {
    "collapsed": true
   },
   "outputs": [],
   "source": [
    "# Add observations\n",
    "obs_list = ['G10006',  'NSIDC_0051',  'NSIDC_0079',  'NSIDC_0081']\n",
    "for co in obs_list:\n",
    "    E.add_obs(co, grid_file='stereo_gridinfo.nc')\n",
    "E.add_obs('NSIDC_extent', grid_file='N/A')    "
   ]
  },
  {
   "cell_type": "code",
   "execution_count": null,
   "metadata": {},
   "outputs": [],
   "source": []
  },
  {
   "cell_type": "code",
   "execution_count": null,
   "metadata": {},
   "outputs": [],
   "source": [
    "# Add Models\n",
    "E.add_model(mod_name='gfdlsipn', model_label='gfdl-flor', grid_file='GFDLFLOR_gridinfo.nc')\n",
    "E.add_model(mod_name='piomas', model_label='piomas', grid_file='PIOMAS_gridinfo.nc')\n",
    "E.add_model(mod_name='yopp', model_label='ecmwf-yopp', grid_file='yopp_land_sea_mask.nc')\n",
    "# S2S download models\n",
    "E.add_model(mod_name='bom', model_label='bom', grid_file='MISSING')\n",
    "E.add_model(mod_name='cma', model_label='cma', grid_file='MISSING')\n",
    "E.add_model(mod_name='ecmwf', model_label='ecmwf', grid_file='MISSING')\n",
    "E.add_model(mod_name='hcmr', model_label='hcmr', grid_file='MISSING')\n",
    "E.add_model(mod_name='isaccnr', model_label='isac-cnr', grid_file='MISSING')\n",
    "E.add_model(mod_name='jma', model_label='jma', grid_file='MISSING')\n",
    "E.add_model(mod_name='metreofr', model_label='météo-fr', grid_file='MISSING')\n",
    "E.add_model(mod_name='ukmo', model_label='ukmo', grid_file='MISSING')\n",
    "E.add_model(mod_name='eccc', model_label='eccc', grid_file='MISSING')\n",
    "E.add_model(mod_name='kma', model_label='kma', grid_file='MISSING')\n",
    "E.add_model(mod_name='ncep', model_label='ncep', grid_file='MISSING')\n",
    "# c3S Models\n",
    "E.add_model(mod_name='ukmetofficesipn', model_label='ukmo-c3s', grid_file='ukmetofficesipn_land_sea_mask.nc')\n",
    "E.add_model(mod_name='ecmwfsipn', model_label='ecmwf-c3s', grid_file='ecmwfsipn_land_sea_mask.nc')\n",
    "# NAVY NEMO\n",
    "E.add_model(mod_name='usnavysipn', model_label='nrl', grid_file='MISSING')\n",
    "E.add_model(mod_name='usnavyncep', model_label='nrl_subx', grid_file='MISSING')\n",
    "# RASM ESRL\n",
    "E.add_model(mod_name='rasmesrl', model_label='rasm-esrl', grid_file='MISSING')"
   ]
  },
  {
   "cell_type": "code",
   "execution_count": null,
   "metadata": {
    "collapsed": true
   },
   "outputs": [],
   "source": [
    "# Add other path info\n",
    "E.fig_dir = r'/home/disk/sipn/nicway/public_html/sipn/figures/'"
   ]
  },
  {
   "cell_type": "code",
   "execution_count": 18,
   "metadata": {},
   "outputs": [],
   "source": [
    "# Flag if modeled ice is predicted (True) or prescribed (False)\n",
    "icePredicted = {'gfdlsipn':True, 'piomas':True, 'yopp':True, 'bom':False, 'cma':False, 'ecmwf':True, \n",
    "              'hcmr':False, 'isaccnr':False, 'jma':False, 'metreofr':True, 'ukmo':True, 'eccc':False, \n",
    "              'kma':True, 'ncep':True, 'ukmetofficesipn':True, 'ecmwfsipn':True, 'usnavysipn':True,\n",
    "               'usnavyncep':True, 'rasmesrl':True}\n",
    "E.icePredicted = icePredicted"
   ]
  },
  {
   "cell_type": "code",
   "execution_count": 19,
   "metadata": {},
   "outputs": [],
   "source": [
    "# Check all models have a predicted flag\n",
    "if not (icePredicted.keys() == E.model.keys()):\n",
    "    raise ValueError(\"Missing some predicted flags for models...\")"
   ]
  },
  {
   "cell_type": "code",
   "execution_count": null,
   "metadata": {},
   "outputs": [],
   "source": []
  },
  {
   "cell_type": "code",
   "execution_count": 20,
   "metadata": {},
   "outputs": [],
   "source": [
    "# Define colors/lines etce for each model to use in plots\n",
    "cmap_c = itertools.cycle(sns.color_palette(\"Paired\", len(E.model.keys()) ))\n",
    "linecycler = itertools.cycle([\"-\",\"--\",\"-.\",\":\",\"--\"])\n",
    "markercycler = itertools.cycle([\"*\",\"o\",\"s\",\"v\",\"x\"])\n",
    "mod_cc = {}\n",
    "mod_ls = {}\n",
    "mod_mk = {}\n",
    "for (i, cmod) in enumerate(E.model.keys()):\n",
    "    mod_cc[cmod] = next(cmap_c)\n",
    "    mod_ls[cmod] = next(linecycler)\n",
    "    mod_mk[cmod] = next(markercycler)\n",
    "E.model_color = mod_cc\n",
    "E.model_linestyle = mod_ls\n",
    "E.model_marker= mod_mk"
   ]
  },
  {
   "cell_type": "code",
   "execution_count": null,
   "metadata": {},
   "outputs": [],
   "source": [
    "# Save to ESIO dir\n",
    "print(\"Saving to \", dir_out)\n",
    "E.save()"
   ]
  },
  {
   "cell_type": "code",
   "execution_count": null,
   "metadata": {
    "collapsed": true
   },
   "outputs": [],
   "source": [
    "# # Load object to test\n",
    "# E = None\n",
    "# E = ed.esiodata.load()"
   ]
  },
  {
   "cell_type": "code",
   "execution_count": null,
   "metadata": {
    "collapsed": true
   },
   "outputs": [],
   "source": []
  },
  {
   "cell_type": "code",
   "execution_count": null,
   "metadata": {
    "collapsed": true
   },
   "outputs": [],
   "source": []
  }
 ],
 "metadata": {
  "kernelspec": {
   "display_name": "3.6.4 esio",
   "language": "python",
   "name": "esio"
  },
  "language_info": {
   "codemirror_mode": {
    "name": "ipython",
    "version": 3
   },
   "file_extension": ".py",
   "mimetype": "text/x-python",
   "name": "python",
   "nbconvert_exporter": "python",
   "pygments_lexer": "ipython3",
   "version": "3.6.4"
  }
 },
 "nbformat": 4,
 "nbformat_minor": 2
}
