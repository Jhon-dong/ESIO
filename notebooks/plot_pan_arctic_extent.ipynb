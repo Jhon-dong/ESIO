{
 "cells": [
  {
   "cell_type": "code",
   "execution_count": 1,
   "metadata": {},
   "outputs": [],
   "source": [
    "%matplotlib inline\n",
    "import matplotlib.pyplot as plt\n",
    "import numpy as np\n",
    "import numpy.ma as ma\n",
    "import struct\n",
    "import os\n",
    "import xarray as xr\n",
    "import glob\n",
    "import datetime\n",
    "import cartopy.crs as ccrs\n",
    "from cartopy.mpl.gridliner import LONGITUDE_FORMATTER, LATITUDE_FORMATTER\n",
    "import seaborn as sns"
   ]
  },
  {
   "cell_type": "code",
   "execution_count": 2,
   "metadata": {},
   "outputs": [],
   "source": [
    "# General plotting settings\n",
    "sns.set_style('whitegrid')\n",
    "sns.set_context(\"talk\", font_scale=1.5, rc={\"lines.linewidth\": 2.5})"
   ]
  },
  {
   "cell_type": "code",
   "execution_count": 3,
   "metadata": {},
   "outputs": [],
   "source": [
    "# Load in Obs\n",
    "data_dir = r'/home/disk/sipn/nicway/data/obs/'\n",
    "da_51 = xr.open_dataarray(os.path.join(data_dir, 'NSIDC_0051/SIC_nc/NSIDC_0051.nc'))\n",
    "da_79 = xr.open_dataarray(os.path.join(data_dir, 'NSIDC_0079/SIC_nc/NSIDC_0079.nc'))\n",
    "da_81 = xr.open_dataarray(os.path.join(data_dir, 'NSIDC_0081/SIC_nc/NSIDC_0081.nc'))"
   ]
  },
  {
   "cell_type": "code",
   "execution_count": 4,
   "metadata": {},
   "outputs": [],
   "source": [
    "# Load in Model\n",
    "ds_gfdl_flor = xr.open_dataset('/home/disk/sipn/nicway/data/model/nmme/GFDL_FLORB01/hist/stereo/GFDL_FLORB01_Stereo.nc')"
   ]
  },
  {
   "cell_type": "code",
   "execution_count": 5,
   "metadata": {},
   "outputs": [
    {
     "data": {
      "text/plain": [
       "<xarray.DataArray (time: 1138, y: 448, x: 304)>\n",
       "[154986496 values with dtype=float64]\n",
       "Coordinates:\n",
       "  * x        (x) int64 -3850000 -3825000 -3800000 -3775000 -3750000 -3725000 ...\n",
       "  * y        (y) int64 5850000 5825000 5800000 5775000 5750000 5725000 ...\n",
       "  * time     (time) datetime64[ns] 2015-01-01 2015-01-02 2015-01-03 ...\n",
       "    lat      (x, y) float64 ...\n",
       "    lon      (x, y) float64 ..."
      ]
     },
     "execution_count": 5,
     "metadata": {},
     "output_type": "execute_result"
    }
   ],
   "source": [
    "da_81"
   ]
  },
  {
   "cell_type": "code",
   "execution_count": null,
   "metadata": {},
   "outputs": [
    {
     "data": {
      "text/plain": [
       "<xarray.Dataset>\n",
       "Dimensions:    (ensemble: 12, fore_time: 12, init_time: 83, x: 448, y: 304)\n",
       "Coordinates:\n",
       "    lon        (y, x) float64 ...\n",
       "    lat        (y, x) float64 ...\n",
       "  * ensemble   (ensemble) int64 1 2 3 4 5 6 7 8 9 10 11 12\n",
       "  * init_time  (init_time) datetime64[ns] 1980-01-16T12:00:00 ...\n",
       "  * fore_time  (fore_time) int64 15 45 75 105 135 165 195 225 255 285 315 345\n",
       "Dimensions without coordinates: x, y\n",
       "Data variables:\n",
       "    sic        (ensemble, init_time, fore_time, y, x) float64 ..."
      ]
     },
     "execution_count": 6,
     "metadata": {},
     "output_type": "execute_result"
    }
   ],
   "source": [
    "ds_gfdl_flor"
   ]
  },
  {
   "cell_type": "code",
   "execution_count": null,
   "metadata": {},
   "outputs": [],
   "source": [
    "# Aggregate over domain\n",
    "da_51_avg = da_51.sum(dim='x').sum(dim='y')*(25*25)/(10**6)\n",
    "da_79_avg = da_79.sum(dim='x').sum(dim='y')*(25*25)/(10**6)\n",
    "da_81_avg = da_81.sum(dim='x').sum(dim='y')*(25*25)/(10**6)\n",
    "\n",
    "ds_gfdl_flor_avg = ds_gfdl_flor.sum(dim='x').sum(dim='y')*(25*25)/(10**6)"
   ]
  },
  {
   "cell_type": "code",
   "execution_count": null,
   "metadata": {},
   "outputs": [],
   "source": [
    "# Plot pan-Arctic sea ice extent\n",
    "plt.figure(figsize=(10,5))\n",
    "da_51_avg.plot(label='NSIDC Historical (Cavalieri et al. 1996)')\n",
    "da_79_avg.plot(label='NSIDC Bootstrap (Comiso et al. 2017)')\n",
    "da_81_avg.plot(label='NSIDC Near-Real-Time (Maslanik et al. 1999)')\n",
    "plt.ylabel('Millions of square km')\n",
    "plt.legend(bbox_to_anchor=(1.03, 1.05))"
   ]
  },
  {
   "cell_type": "code",
   "execution_count": null,
   "metadata": {},
   "outputs": [],
   "source": []
  }
 ],
 "metadata": {
  "kernelspec": {
   "display_name": "Python 3",
   "language": "python",
   "name": "python3"
  },
  "language_info": {
   "codemirror_mode": {
    "name": "ipython",
    "version": 3
   },
   "file_extension": ".py",
   "mimetype": "text/x-python",
   "name": "python",
   "nbconvert_exporter": "python",
   "pygments_lexer": "ipython3",
   "version": "3.6.4"
  }
 },
 "nbformat": 4,
 "nbformat_minor": 2
}
