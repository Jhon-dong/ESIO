{
 "cells": [
  {
   "cell_type": "code",
   "execution_count": 1,
   "metadata": {},
   "outputs": [],
   "source": [
    "'''\n",
    "\n",
    "This code is part of the SIPN2 project focused on improving sub-seasonal to seasonal predictions of Arctic Sea Ice. \n",
    "If you use this code for a publication or presentation, please cite the reference in the README.md on the\n",
    "main page (https://github.com/NicWayand/ESIO). \n",
    "\n",
    "Questions or comments should be addressed to nicway@uw.edu\n",
    "\n",
    "Copyright (c) 2018 Nic Wayand\n",
    "\n",
    "GNU General Public License v3.0\n",
    "\n",
    "\n",
    "'''\n",
    "\n",
    "%matplotlib inline\n",
    "%load_ext autoreload\n",
    "%autoreload\n",
    "import matplotlib.pyplot as plt\n",
    "import matplotlib\n",
    "import numpy as np\n",
    "import numpy.ma as ma\n",
    "import struct\n",
    "import os\n",
    "import xarray as xr\n",
    "import glob\n",
    "import datetime \n",
    "import cartopy.crs as ccrs\n",
    "from cartopy.mpl.gridliner import LONGITUDE_FORMATTER, LATITUDE_FORMATTER\n",
    "import seaborn as sns\n",
    "import pandas as pd\n",
    "import itertools\n",
    "import calendar\n",
    "\n",
    "# ESIO Imports\n",
    "\n",
    "from esio import EsioData as ed\n",
    "from esio import ice_plot\n",
    "from esio import metrics\n",
    "\n",
    "import dask\n",
    "#dask.set_options(get=dask.threaded.get)\n",
    "# from dask.distributed import Client, progress\n",
    "# client = Client(processes=12)\n",
    "\n",
    "# General plotting settings\n",
    "sns.set_style('whitegrid')\n",
    "sns.set_context(\"talk\", font_scale=1.5, rc={\"lines.linewidth\": 2.5})\n",
    "\n",
    "plt.rcParams.update({'figure.max_open_warning': 0})\n",
    "\n",
    "#############################################################\n",
    "# Load in Data\n",
    "#############################################################\n",
    "E = ed.EsioData.load()\n",
    "data_dir = E.data_dir\n",
    "grid_dir = E.grid_dir"
   ]
  },
  {
   "cell_type": "code",
   "execution_count": 3,
   "metadata": {},
   "outputs": [
    {
     "data": {
      "text/plain": [
       "<dask.config.set at 0x7f9f14ac21d0>"
      ]
     },
     "execution_count": 3,
     "metadata": {},
     "output_type": "execute_result"
    }
   ],
   "source": [
    "dask.config.set(scheduler='threads')  # overwrite default with threaded scheduler"
   ]
  },
  {
   "cell_type": "code",
   "execution_count": null,
   "metadata": {},
   "outputs": [],
   "source": []
  },
  {
   "cell_type": "markdown",
   "metadata": {},
   "source": [
    "## Model"
   ]
  },
  {
   "cell_type": "code",
   "execution_count": null,
   "metadata": {},
   "outputs": [],
   "source": []
  },
  {
   "cell_type": "code",
   "execution_count": null,
   "metadata": {},
   "outputs": [],
   "source": [
    "# Temp target file\n",
    "mod_f = '/home/disk/sipn/nicway/data/model/ncep/forecast/sipn_nc/ncep_2017*.nc'\n",
    "ds_mod = xr.open_mfdataset(mod_f, concat_dim='init_time')\n",
    "ds_mod "
   ]
  },
  {
   "cell_type": "code",
   "execution_count": null,
   "metadata": {},
   "outputs": [],
   "source": [
    "# Want: (lat: 448, lon: 304, months: 12, years: 35)\n",
    "ce = 0\n",
    "mod_CS = ds_mod.isel(ensemble=ce).rename({'fore_time':'months','init_time':'years','lat':'latitude','lon':'longitude'}).sic\n",
    "mod_CS = mod_CS.rename({'nj':'lon','ni':'lat'})\n",
    "mod_CS.coords['lon'] = np.arange(1,mod_CS.lon.size+1,1)\n",
    "mod_CS.coords['lat'] = np.arange(1,mod_CS.lat.size+1,1)\n",
    "mod_CS.name = 'iceInd'\n",
    "mod_CS"
   ]
  },
  {
   "cell_type": "code",
   "execution_count": null,
   "metadata": {},
   "outputs": [],
   "source": []
  },
  {
   "cell_type": "markdown",
   "metadata": {},
   "source": [
    "## Obs"
   ]
  },
  {
   "cell_type": "code",
   "execution_count": null,
   "metadata": {},
   "outputs": [],
   "source": [
    "# Temp target file\n",
    "obs_f = '/home/disk/sipn/nicway/data/obs/NSIDC_0081/sipn_nc_yearly/*.nc'\n",
    "ds_obs = xr.open_mfdataset(obs_f, concat_dim='time', autoclose=True)\n",
    "ds_obs"
   ]
  },
  {
   "cell_type": "code",
   "execution_count": null,
   "metadata": {},
   "outputs": [],
   "source": []
  },
  {
   "cell_type": "code",
   "execution_count": null,
   "metadata": {},
   "outputs": [],
   "source": []
  },
  {
   "cell_type": "code",
   "execution_count": null,
   "metadata": {},
   "outputs": [],
   "source": [
    "# Format per Contour shifting (CS) req\n",
    "# values betweeen 0 and 100 indicate the sea ice concentration percentage, \n",
    "# values of 110 indicate the grid box is within the satellite hole, \n",
    "# and values of 120 indicate the grid box is on land.\n",
    "obs_CS = ds_obs.sic * 100 # fraction to percent\n",
    "obs_CS = obs_CS.where(obs_CS<=100, other = 120) # Set hole and land to 120\n",
    "obs_CS = obs_CS.where(ds_obs.hole_mask==0) # Set hole to Nan\n",
    "obs_CS = obs_CS.where(obs_CS<=120, other = 110) # Set nan (hole) to 110\n",
    "obs_CS = obs_CS.drop('hole_mask')\n",
    "obs_CS.isel(time=0).plot(vmin=100, vmax=120)\n",
    "obs_CS.name = 'conc'\n",
    "obs_CS"
   ]
  },
  {
   "cell_type": "code",
   "execution_count": null,
   "metadata": {},
   "outputs": [],
   "source": [
    "# Format time to match model "
   ]
  },
  {
   "cell_type": "code",
   "execution_count": null,
   "metadata": {},
   "outputs": [],
   "source": [
    "mod_CS.coords['valid_time'] = mod_CS.years + mod_CS.months\n",
    "mod_CS"
   ]
  },
  {
   "cell_type": "code",
   "execution_count": null,
   "metadata": {},
   "outputs": [],
   "source": []
  },
  {
   "cell_type": "code",
   "execution_count": null,
   "metadata": {},
   "outputs": [],
   "source": [
    "mod_CS.valid_time[0,0].values==obs_CS.time[2].values"
   ]
  },
  {
   "cell_type": "code",
   "execution_count": null,
   "metadata": {},
   "outputs": [],
   "source": []
  },
  {
   "cell_type": "code",
   "execution_count": null,
   "metadata": {},
   "outputs": [],
   "source": [
    "# Loop through each model \"init_time/years\", find observed time for each valid time\n",
    "obs_CS_list = []\n",
    "for it in mod_CS.years: # For each init time\n",
    "    temp_list = []\n",
    "    for ft in mod_CS.months: # For each forecast period\n",
    "        if (it+ft).values in obs_CS.time.values:\n",
    "            c_obs = obs_CS.sel(time=it+ft)\n",
    "            c_obs.coords['months'] = ft\n",
    "            temp_list.append(c_obs)\n",
    "    if len(temp_list)>0: # If we found any obs for current forecast valid times\n",
    "        da_temp = xr.concat(temp_list, dim='months')\n",
    "        da_temp.coords['years'] = it    \n",
    "        obs_CS_list.append(da_temp)\n",
    "obs_CS_new = xr.concat(obs_CS_list, dim='years')    "
   ]
  },
  {
   "cell_type": "code",
   "execution_count": null,
   "metadata": {},
   "outputs": [],
   "source": [
    "obs_CS_new"
   ]
  },
  {
   "cell_type": "code",
   "execution_count": null,
   "metadata": {},
   "outputs": [],
   "source": [
    "# Discard those forecasts (init_times/years) with any missing observations\n",
    "# TODO: allow these later once Contour shift can handle them\n",
    "OK_years = obs_CS_new.notnull().sum(dim=['x','y','months'])\n",
    "OK_years = OK_years==OK_years.max().values\n",
    "obs_CS_new = obs_CS_new.where(OK_years, drop=True)\n",
    "mod_CS = mod_CS.where(OK_years, drop=True)"
   ]
  },
  {
   "cell_type": "code",
   "execution_count": null,
   "metadata": {},
   "outputs": [],
   "source": []
  },
  {
   "cell_type": "code",
   "execution_count": null,
   "metadata": {},
   "outputs": [],
   "source": []
  },
  {
   "cell_type": "code",
   "execution_count": null,
   "metadata": {},
   "outputs": [],
   "source": [
    "# Add valid_time so we remember what the times mean!\n",
    "obs_CS_new.coords['valid_time'] = obs_CS_new.years + obs_CS_new.months"
   ]
  },
  {
   "cell_type": "code",
   "execution_count": null,
   "metadata": {},
   "outputs": [],
   "source": [
    "obs_CS_new = obs_CS_new.rename({'lat':'latitude','lon':'longitude'})\n",
    "obs_CS_new = obs_CS_new.rename({'x':'lon','y':'lat'})\n",
    "obs_CS_new.coords['lon'] = np.arange(1,obs_CS_new.lon.size+1,1)\n",
    "obs_CS_new.coords['lat'] = np.arange(1,obs_CS_new.lat.size+1,1)\n",
    "obs_CS_new"
   ]
  },
  {
   "cell_type": "code",
   "execution_count": null,
   "metadata": {},
   "outputs": [],
   "source": []
  },
  {
   "cell_type": "code",
   "execution_count": null,
   "metadata": {},
   "outputs": [],
   "source": [
    "# Set coords years and months to simple indexs for R code\n",
    "obs_CS_new.coords['years'] = np.arange(1,obs_CS_new.years.size+1,1)\n",
    "mod_CS.coords['years'] = np.arange(1,obs_CS_new.years.size+1,1)\n",
    "obs_CS_new.coords['months'] = np.arange(1,obs_CS_new.months.size+1,1)\n",
    "mod_CS.coords['months'] = np.arange(1,obs_CS_new.months.size+1,1)"
   ]
  },
  {
   "cell_type": "code",
   "execution_count": null,
   "metadata": {},
   "outputs": [],
   "source": [
    "mod_CS"
   ]
  },
  {
   "cell_type": "code",
   "execution_count": null,
   "metadata": {},
   "outputs": [],
   "source": [
    "# drop extra vars\n",
    "# obs_CS_new = obs_CS_new.drop(['latitude','longitude','xm','ym','valid_time','time'])\n",
    "obs_CS_new = obs_CS_new.drop(['xm','ym','time'])\n"
   ]
  },
  {
   "cell_type": "code",
   "execution_count": null,
   "metadata": {},
   "outputs": [],
   "source": [
    "# mod_CS = mod_CS.drop(['latitude','longitude','valid_time'])"
   ]
  },
  {
   "cell_type": "code",
   "execution_count": null,
   "metadata": {},
   "outputs": [],
   "source": []
  },
  {
   "cell_type": "code",
   "execution_count": null,
   "metadata": {},
   "outputs": [],
   "source": [
    "obs_CS_new"
   ]
  },
  {
   "cell_type": "code",
   "execution_count": null,
   "metadata": {},
   "outputs": [],
   "source": [
    "# Order\n",
    "obs_CS_new = obs_CS_new.to_dataset()\n"
   ]
  },
  {
   "cell_type": "code",
   "execution_count": null,
   "metadata": {},
   "outputs": [],
   "source": [
    "mod_CS.name = 'iceInd'\n",
    "mod_CS = mod_CS.to_dataset()"
   ]
  },
  {
   "cell_type": "code",
   "execution_count": null,
   "metadata": {},
   "outputs": [],
   "source": [
    "obs_CS_new = obs_CS_new.transpose('lat','lon','months','years')\n",
    "mod_CS = mod_CS.transpose('lat','lon','months','years')"
   ]
  },
  {
   "cell_type": "code",
   "execution_count": null,
   "metadata": {},
   "outputs": [],
   "source": [
    "# \"flip\" lat/y coordiant\n",
    "obs_CS_new['conc'] = xr.DataArray(np.flip(obs_CS_new.conc.values, axis=0), dims = obs_CS_new.conc.dims, coords = obs_CS_new.conc.coords)\n",
    "mod_CS['iceInd'] = xr.DataArray(np.flip(mod_CS.iceInd.values, axis=0), dims = mod_CS.iceInd.dims, coords = mod_CS.iceInd.coords)"
   ]
  },
  {
   "cell_type": "code",
   "execution_count": null,
   "metadata": {},
   "outputs": [],
   "source": [
    "# \"flip\" lat/y coordiant\n",
    "# obs_CS_new.coords['lat'] = np.flip(obs_CS_new.lat.values, axis=0)\n",
    "# mod_CS.coords['lat'] = np.flip(mod_CS.lat.values, axis=0)"
   ]
  },
  {
   "cell_type": "code",
   "execution_count": null,
   "metadata": {},
   "outputs": [],
   "source": [
    "# Make smaller by downgrading actual type \n",
    "obs_CS_new['conc'] = obs_CS_new.conc.astype('int16') # 0-120, so int16 is fine\n",
    "mod_CS['iceInd'] = mod_CS.iceInd.astype('float32') # 0-1 as a fraction, so float32 is fine"
   ]
  },
  {
   "cell_type": "code",
   "execution_count": null,
   "metadata": {},
   "outputs": [],
   "source": [
    "# Make it smaller on disk (15GB to 5 GB!)\n",
    "# obs_CS_new.conc.encoding = {'dtype': 'int16', 'scale_factor': 0.1, '_FillValue': -9999}\n",
    "# mod_CS.iceInd.encoding = {'dtype': 'int16', 'scale_factor': 0.1, '_FillValue': -9999}"
   ]
  },
  {
   "cell_type": "code",
   "execution_count": null,
   "metadata": {},
   "outputs": [],
   "source": [
    "# Write out test files\n",
    "out_dir = '/home/disk/sipn/nicway/data/Director_data/RPackage/SIPN'\n",
    "obs_CS_new.to_netcdf(os.path.join(out_dir, 'Obs_test.nc'))\n",
    "mod_CS.to_netcdf(os.path.join(out_dir, 'Mod_test.nc'))"
   ]
  },
  {
   "cell_type": "code",
   "execution_count": null,
   "metadata": {},
   "outputs": [],
   "source": []
  },
  {
   "cell_type": "code",
   "execution_count": null,
   "metadata": {},
   "outputs": [],
   "source": []
  },
  {
   "cell_type": "code",
   "execution_count": null,
   "metadata": {},
   "outputs": [],
   "source": []
  },
  {
   "cell_type": "code",
   "execution_count": null,
   "metadata": {},
   "outputs": [],
   "source": []
  },
  {
   "cell_type": "code",
   "execution_count": null,
   "metadata": {},
   "outputs": [],
   "source": []
  },
  {
   "cell_type": "code",
   "execution_count": null,
   "metadata": {},
   "outputs": [],
   "source": []
  },
  {
   "cell_type": "code",
   "execution_count": null,
   "metadata": {},
   "outputs": [],
   "source": [
    "# os.chdir('/home/disk/sipn/nicway/test')\n",
    "\n",
    "# # Create test dataset\n",
    "# ds = xr.Dataset({'foo': (('x', 'y', 'z'), [[[42]]]), 'bar': (('y', 'z'), [[24]])})\n",
    "# print(ds.dims)\n",
    "# ds.to_netcdf('orig.nc')\n",
    "# print(xr.open_dataset('orig.nc').dims)\n",
    "\n",
    "# ds.transpose('y', 'z', 'x').to_netcdf('new.nc')\n",
    "# print(xr.open_dataset('new.nc').dims)\n",
    "\n",
    "\n",
    "\n",
    "\n",
    "\n",
    "# # Test DataArray\n",
    "# da = xr.DataArray( [[[42]]], dims=('x', 'y', 'z'), coords={'x':[1], 'y':[1], 'z':[1]}, name='test')\n",
    "# print(da)\n",
    "\n",
    "# da.to_netcdf('da_orig.nc')\n",
    "# print(xr.open_dataset('da_orig.nc'))\n",
    "\n",
    "# da_t = da.transpose('y', 'z', 'x')\n",
    "# print(da_t)\n",
    "# da_t.to_netcdf('da_new.nc')\n",
    "# print(xr.open_dataset('da_new.nc'))\n",
    "\n",
    "# da.coords"
   ]
  },
  {
   "cell_type": "raw",
   "metadata": {},
   "source": []
  },
  {
   "cell_type": "code",
   "execution_count": null,
   "metadata": {},
   "outputs": [],
   "source": []
  }
 ],
 "metadata": {
  "kernelspec": {
   "display_name": "3.6.4 esio",
   "language": "python",
   "name": "esio"
  },
  "language_info": {
   "codemirror_mode": {
    "name": "ipython",
    "version": 3
   },
   "file_extension": ".py",
   "mimetype": "text/x-python",
   "name": "python",
   "nbconvert_exporter": "python",
   "pygments_lexer": "ipython3",
   "version": "3.6.4"
  }
 },
 "nbformat": 4,
 "nbformat_minor": 2
}
