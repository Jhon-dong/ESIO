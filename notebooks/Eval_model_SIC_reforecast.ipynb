{
 "cells": [
  {
   "cell_type": "code",
   "execution_count": null,
   "metadata": {},
   "outputs": [],
   "source": [
    "%matplotlib inline\n",
    "%load_ext autoreload\n",
    "%autoreload\n",
    "import matplotlib.pyplot as plt\n",
    "import matplotlib\n",
    "import numpy as np\n",
    "import numpy.ma as ma\n",
    "import struct\n",
    "import os\n",
    "import xarray as xr\n",
    "import glob\n",
    "import datetime\n",
    "import cartopy.crs as ccrs\n",
    "from cartopy.mpl.gridliner import LONGITUDE_FORMATTER, LATITUDE_FORMATTER\n",
    "import seaborn as sns\n",
    "# ESIO Imports\n",
    "import esio"
   ]
  },
  {
   "cell_type": "code",
   "execution_count": null,
   "metadata": {},
   "outputs": [],
   "source": []
  },
  {
   "cell_type": "code",
   "execution_count": null,
   "metadata": {},
   "outputs": [],
   "source": [
    "# General plotting settings\n",
    "sns.set_style('whitegrid')\n",
    "sns.set_context(\"talk\", font_scale=1.5, rc={\"lines.linewidth\": 2.5})"
   ]
  },
  {
   "cell_type": "code",
   "execution_count": null,
   "metadata": {},
   "outputs": [],
   "source": [
    "# Load in Obs\n",
    "data_dir = r'/home/disk/sipn/nicway/data/obs/'\n",
    "temp_dir = r'/home/disk/sipn/nicway/data/model/temp' # Used for temp storing netcdf files\n",
    "fig_dir = r'/home/disk/sipn/nicway/python/ESIO/figures'\n",
    "da_51 = xr.open_mfdataset(os.path.join(data_dir, 'NSIDC_0051/sipn_nc/NSIDC_0051.nc'))\n",
    "# da_79 = xr.open_mfdataset(os.path.join(data_dir, 'NSIDC_0079/sipn_nc/NSIDC_0079.nc'))\n",
    "# da_81 = xr.open_mfdataset(os.path.join(data_dir, 'NSIDC_0081/sipn_nc/NSIDC_0081.nc'))"
   ]
  },
  {
   "cell_type": "code",
   "execution_count": null,
   "metadata": {},
   "outputs": [],
   "source": []
  },
  {
   "cell_type": "code",
   "execution_count": null,
   "metadata": {},
   "outputs": [],
   "source": [
    "# Load in Model\n",
    "nmme_refor_dir = r'/home/disk/sipn/nicway/data/model/nmme/reforecast/sipn_nc/GFDL_FLORB01_*200*.nc'\n",
    "ds_gfdl_flor_in = xr.open_mfdataset(nmme_refor_dir)\n",
    "ds_gfdl_flor_in"
   ]
  },
  {
   "cell_type": "code",
   "execution_count": null,
   "metadata": {},
   "outputs": [],
   "source": [
    "# Mask out to common extent (both observations and model have non-null values)\n",
    "(da_51, ds_gfdl_flor) = esio.mask_common_extent(da_51, ds_gfdl_flor_in)"
   ]
  },
  {
   "cell_type": "code",
   "execution_count": null,
   "metadata": {},
   "outputs": [],
   "source": [
    "# Aggregate over domain\n",
    "da_51_avg = da_51.sum(dim='x').sum(dim='y')*(25*25)/(10**6)\n",
    "# da_79_avg = da_79.sum(dim='x').sum(dim='y')*(25*25)/(10**6)\n",
    "# da_81_avg = da_81.sum(dim='x').sum(dim='y')*(25*25)/(10**6)\n",
    "ds_gfdl_flor_avg = ds_gfdl_flor.sic.sum(dim='x').sum(dim='y')*(25*25)/(10**6)"
   ]
  },
  {
   "cell_type": "code",
   "execution_count": null,
   "metadata": {},
   "outputs": [],
   "source": [
    "# Aggreagate Obs to Model temporal time stamp\n",
    "# ex: gfdl data is monthly means, time stamp at beinging of period\n",
    "da_51_avg_mon = da_51_avg.resample(time='MS').mean()\n",
    "# da_79_avg_mon = da_79_avg.resample(time='MS').mean()\n",
    "# da_81_avg_mon = da_81_avg.resample(time='MS').mean()"
   ]
  },
  {
   "cell_type": "code",
   "execution_count": null,
   "metadata": {},
   "outputs": [],
   "source": []
  },
  {
   "cell_type": "code",
   "execution_count": null,
   "metadata": {},
   "outputs": [],
   "source": [
    "# Trim to common time periods\n",
    "(ds_obs_out, ds_mod_out) = esio.trim_common_times(da_51_avg_mon, ds_gfdl_flor_avg)"
   ]
  },
  {
   "cell_type": "code",
   "execution_count": null,
   "metadata": {},
   "outputs": [],
   "source": []
  },
  {
   "cell_type": "code",
   "execution_count": null,
   "metadata": {},
   "outputs": [],
   "source": [
    "# # Temp dump to netcdf then load\n",
    "# os.chdir( temp_dir )\n",
    "# init_time, datasets = zip(*ds_mod_out.to_dataset(name='sic').groupby('init_time'))\n",
    "# paths = ['GFDL_init_time_%s.nc' % i for i in init_time]\n",
    "# xr.save_mfdataset(datasets, paths)\n",
    "# # ds_mod_out.save_mfdataset(os.path.join(temp_dir, 'temp.nc'))"
   ]
  },
  {
   "cell_type": "code",
   "execution_count": null,
   "metadata": {},
   "outputs": [],
   "source": [
    "# ds_mod_out = xr.open_mfdataset(os.path.join(temp_dir, 'GFDL_init_time*.nc'), concat_dim='init_time')"
   ]
  },
  {
   "cell_type": "code",
   "execution_count": null,
   "metadata": {},
   "outputs": [],
   "source": [
    "ds_mod_out"
   ]
  },
  {
   "cell_type": "code",
   "execution_count": null,
   "metadata": {},
   "outputs": [],
   "source": [
    "ds_obs_out.sic"
   ]
  },
  {
   "cell_type": "code",
   "execution_count": null,
   "metadata": {},
   "outputs": [],
   "source": []
  },
  {
   "cell_type": "code",
   "execution_count": null,
   "metadata": {},
   "outputs": [],
   "source": [
    "# Slow way... loop over each init_time and forecast time, calcuate metric"
   ]
  },
  {
   "cell_type": "code",
   "execution_count": null,
   "metadata": {},
   "outputs": [],
   "source": [
    "# Format obs like model\n",
    "da_51_avg_mon_X = esio.format_obs_like_model(ds_mod_out, ds_obs_out)"
   ]
  },
  {
   "cell_type": "code",
   "execution_count": null,
   "metadata": {},
   "outputs": [],
   "source": [
    " # Get observational mean and sigma\n",
    "(mu, sigma) = esio.clim_mu_sigma(da_51_avg_mon, method='MK')"
   ]
  },
  {
   "cell_type": "code",
   "execution_count": null,
   "metadata": {},
   "outputs": [],
   "source": [
    "c_nrmse = esio.NRMSE(ds_gfdl_flor_avg, da_51_avg_mon_X, sigma)"
   ]
  },
  {
   "cell_type": "code",
   "execution_count": null,
   "metadata": {},
   "outputs": [],
   "source": [
    "#NRMSE is following the same pattern per months as Hawkins et al. 2016.\n",
    "f, ax1 = plt.subplots(1,1)\n",
    "f.set_size_inches(20, 10)\n",
    "c_nrmse.plot(ax=ax1)"
   ]
  },
  {
   "cell_type": "code",
   "execution_count": null,
   "metadata": {},
   "outputs": [],
   "source": []
  },
  {
   "cell_type": "code",
   "execution_count": null,
   "metadata": {},
   "outputs": [],
   "source": []
  },
  {
   "cell_type": "code",
   "execution_count": null,
   "metadata": {},
   "outputs": [],
   "source": []
  },
  {
   "cell_type": "code",
   "execution_count": null,
   "metadata": {},
   "outputs": [],
   "source": []
  },
  {
   "cell_type": "code",
   "execution_count": null,
   "metadata": {},
   "outputs": [],
   "source": []
  },
  {
   "cell_type": "code",
   "execution_count": null,
   "metadata": {},
   "outputs": [],
   "source": [
    "# Plot pan-Arctic sea ice extent\n",
    "f, ax1 = plt.subplots(1,1)\n",
    "f.set_size_inches(20, 10)\n",
    "# Observations\n",
    "ds_obs_out.plot(ax=ax1, label='NSIDC Bootstrap (Comiso et al. 2017)')\n",
    "plt.ylabel('Millions of square km')\n",
    "# Models\n",
    "mmm = ds_mod_out.mean(dim='ensemble').isel(fore_time_i=0)\n",
    "mmm.plot(ax=ax1, label='GFDL Ensemble Mean')\n",
    "# esio.plot_model_ensm(ds_mod_out, axin=ax1, labelin='GFDL FLORB01 Model Ensembles')\n",
    "plt.legend(bbox_to_anchor=(1.03, 1.05))\n",
    "# plt.xlim([ds_gfdl_flor_avg.fore_time.min().values, ds_gfdl_flor_avg.fore_time.max().values])\n",
    "f.savefig(os.path.join(fig_dir,'panArcticSIC.png'),bbox_inches='tight',dpi=200)"
   ]
  },
  {
   "cell_type": "code",
   "execution_count": null,
   "metadata": {},
   "outputs": [],
   "source": []
  },
  {
   "cell_type": "code",
   "execution_count": null,
   "metadata": {},
   "outputs": [],
   "source": []
  },
  {
   "cell_type": "code",
   "execution_count": null,
   "metadata": {},
   "outputs": [],
   "source": []
  },
  {
   "cell_type": "code",
   "execution_count": null,
   "metadata": {},
   "outputs": [],
   "source": [
    "# Plot pan-Arctic sea ice extent\n",
    "f, ax1 = plt.subplots(1,1)\n",
    "f.set_size_inches(20, 10)\n",
    "# Observations\n",
    "da_51_avg.plot(ax=ax1, label='NSIDC Historical (Cavalieri et al. 1996)')\n",
    "da_79_avg.plot(ax=ax1, label='NSIDC Bootstrap (Comiso et al. 2017)')\n",
    "da_81_avg.plot(ax=ax1, label='NSIDC Near-Real-Time (Maslanik et al. 1999)')\n",
    "plt.ylabel('Millions of square km')\n",
    "# Models\n",
    "# esio.plot_model_ensm(ds_gfdl_flor_avg, axin=ax1, labelin='GFDL FLORB01 Model Ensembles')\n",
    "plt.legend(bbox_to_anchor=(1.03, 1.05))\n",
    "f.savefig(os.path.join(fig_dir,'panArcticSIC.png'),bbox_inches='tight',dpi=200)"
   ]
  },
  {
   "cell_type": "code",
   "execution_count": null,
   "metadata": {},
   "outputs": [],
   "source": [
    "# # Plot difference between NSIDC Historical and NRT data set\n",
    "# plt.figure(figsize=(10,5))\n",
    "# (da_51_avg-da_81_avg).plot(label='NSIDC Historical - Near Real Time')\n",
    "# plt.ylabel('Millions of square km')\n",
    "# plt.legend(bbox_to_anchor=(1.03, 1.05))"
   ]
  },
  {
   "cell_type": "code",
   "execution_count": null,
   "metadata": {},
   "outputs": [],
   "source": []
  },
  {
   "cell_type": "code",
   "execution_count": null,
   "metadata": {},
   "outputs": [],
   "source": [
    "# # Plot pan-Arctic sea ice extent RATE (daily)\n",
    "# f=plt.figure(figsize=(20,10))\n",
    "# da_51_avg.diff(dim='time').plot(label='NSIDC Historical (Cavalieri et al. 1996)')\n",
    "# da_79_avg.diff(dim='time').plot(label='NSIDC Bootstrap (Comiso et al. 2017)')\n",
    "# da_81_avg.diff(dim='time').plot(label='NSIDC Near-Real-Time (Maslanik et al. 1999)')\n",
    "# plt.ylabel('Millions of square km\\n per day')\n",
    "# plt.legend(bbox_to_anchor=(1.03, 1.05))\n",
    "# plt.ylim([-0.4, 0.4])\n",
    "# f.savefig(os.path.join(fig_dir,'panArcticSIC.png'),bbox_inches='tight',dpi=200)"
   ]
  },
  {
   "cell_type": "code",
   "execution_count": null,
   "metadata": {},
   "outputs": [],
   "source": [
    "# # Plot difference between NSIDC Historical and NRT data set RATES\n",
    "# plt.figure(figsize=(10,5))\n",
    "# (da_51_avg.diff(dim='time')-da_81_avg.diff(dim='time')).plot(label='NSIDC Historical - Near Real Time')\n",
    "# plt.ylabel('Millions of square km')\n",
    "# plt.legend(bbox_to_anchor=(1.03, 1.05))\n",
    "# plt.ylim([-0.1, 0.1])"
   ]
  },
  {
   "cell_type": "code",
   "execution_count": null,
   "metadata": {},
   "outputs": [],
   "source": [
    "# Set up plotting info\n",
    "cmap_sic = matplotlib.colors.ListedColormap(sns.color_palette(\"Blues\", 10))\n",
    "cmap_sic.set_bad(color = 'lightgrey')\n",
    "cmap_dif = matplotlib.colors.ListedColormap(sns.color_palette(\"RdBu\", 10))\n",
    "cmap_dif.set_bad(color = 'lightgrey')"
   ]
  },
  {
   "cell_type": "code",
   "execution_count": null,
   "metadata": {},
   "outputs": [],
   "source": [
    "# Plot coverage on a certain date\n",
    "cdate = '2013-01-16'\n",
    "c_sic = ds_gfdl_flor.isel(fore_time_i=0)\n",
    "c_sic = c_sic.mean(dim='ensemble').sel(init_time=cdate, method='nearest').sic.squeeze()"
   ]
  },
  {
   "cell_type": "code",
   "execution_count": null,
   "metadata": {},
   "outputs": [],
   "source": [
    "# Plot Obs and model SIC for date\n",
    "f = plt.figure(figsize=(30,30));\n",
    "\n",
    "# Model\n",
    "ax1 = plt.subplot(3, 1, 1, projection=ccrs.NorthPolarStereo(central_longitude=0))\n",
    "c_sic.plot.pcolormesh(ax=ax1, x='lon', y='lat', \n",
    "                                     transform=ccrs.PlateCarree(),\n",
    "                                     cmap=cmap_sic,\n",
    "                      vmin=0, vmax=1)\n",
    "ax1.set_title('GFDL')\n",
    "# Add coastlines and meridians/parallels \n",
    "ax1.coastlines(linewidth=0.75, color='black', resolution='50m')\n",
    "ax1.gridlines(crs=ccrs.PlateCarree(), linestyle='-')\n",
    "ax1.set_extent([-180, 180, 50, 90], crs=ccrs.PlateCarree())\n",
    "\n",
    "\n",
    "\n",
    "# Obs NSIDC 0051\n",
    "ax2 = plt.subplot(3, 1, 2, projection=ccrs.NorthPolarStereo(central_longitude=0))\n",
    "da_51.sel(time=cdate).plot.pcolormesh(ax=ax2, x='lon', y='lat', \n",
    "                                     transform=ccrs.PlateCarree(),\n",
    "                                     cmap=cmap_sic,\n",
    "                      vmin=0, vmax=1)\n",
    "ax2.set_title('NSIDC 0051')\n",
    "# Add coastlines and meridians/parallels \n",
    "ax2.coastlines(linewidth=0.75, color='black', resolution='50m')\n",
    "ax2.gridlines(crs=ccrs.PlateCarree(), linestyle='-')\n",
    "ax2.set_extent([-180, 180, 50, 90], crs=ccrs.PlateCarree())\n",
    "\n",
    "\n",
    "\n",
    "# Model-Obs\n",
    "ax3 = plt.subplot(3, 1, 3, projection=ccrs.NorthPolarStereo(central_longitude=0))\n",
    "(c_sic - da_51.sel(time=cdate)).plot.pcolormesh(ax=ax3, x='lon', y='lat', \n",
    "                                     transform=ccrs.PlateCarree(),\n",
    "                                     cmap=cmap_dif,\n",
    "                      vmin=-1, vmax=1)\n",
    "ax3.set_title('GFDL - NSIDC 0051')\n",
    "# Add coastlines and meridians/parallels \n",
    "ax3.coastlines(linewidth=0.75, color='black', resolution='50m')\n",
    "ax3.gridlines(crs=ccrs.PlateCarree(), linestyle='-')\n",
    "ax3.set_extent([-180, 180, 50, 90], crs=ccrs.PlateCarree())\n",
    "\n",
    "\n",
    "plt.tight_layout()"
   ]
  },
  {
   "cell_type": "code",
   "execution_count": null,
   "metadata": {},
   "outputs": [],
   "source": []
  },
  {
   "cell_type": "code",
   "execution_count": null,
   "metadata": {},
   "outputs": [],
   "source": []
  }
 ],
 "metadata": {
  "kernelspec": {
   "display_name": "Python 3",
   "language": "python",
   "name": "python3"
  },
  "language_info": {
   "codemirror_mode": {
    "name": "ipython",
    "version": 3
   },
   "file_extension": ".py",
   "mimetype": "text/x-python",
   "name": "python",
   "nbconvert_exporter": "python",
   "pygments_lexer": "ipython3",
   "version": "3.6.4"
  }
 },
 "nbformat": 4,
 "nbformat_minor": 2
}
