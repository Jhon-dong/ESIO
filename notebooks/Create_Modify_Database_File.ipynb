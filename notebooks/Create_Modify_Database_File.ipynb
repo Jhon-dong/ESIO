{
 "cells": [
  {
   "cell_type": "code",
   "execution_count": 1,
   "metadata": {
    "collapsed": true
   },
   "outputs": [],
   "source": [
    "import os\n",
    "import xarray as xr\n",
    "import numpy as np\n",
    "import pickle\n",
    "import esiodata as ed"
   ]
  },
  {
   "cell_type": "code",
   "execution_count": 2,
   "metadata": {
    "collapsed": true
   },
   "outputs": [],
   "source": [
    "dir_out = '/home/disk/sipn/nicway/python/ESIO/'"
   ]
  },
  {
   "cell_type": "code",
   "execution_count": 3,
   "metadata": {
    "collapsed": true
   },
   "outputs": [],
   "source": [
    "# Create an esioData\n",
    "E = ed.esiodata(data_dir = '/home/disk/sipn/nicway/data/')"
   ]
  },
  {
   "cell_type": "code",
   "execution_count": 4,
   "metadata": {
    "collapsed": true
   },
   "outputs": [],
   "source": [
    "# Add observations\n",
    "obs_list = ['G10006',  'NSIDC_0051',  'NSIDC_0079',  'NSIDC_0081']\n",
    "for co in obs_list:\n",
    "    E.add_obs(co, grid_file='stereo_gridinfo.nc')"
   ]
  },
  {
   "cell_type": "code",
   "execution_count": 5,
   "metadata": {},
   "outputs": [
    {
     "data": {
      "text/plain": [
       "{'gfdlsipn': {'forecast': {'native': '/home/disk/sipn/nicway/data/model/gfdlsipn/forecast/native',\n",
       "   'sipn_nc': '/home/disk/sipn/nicway/data/model/gfdlsipn/forecast/sipn_nc'},\n",
       "  'grid': '/home/disk/sipn/nicway/data/grids/GFDLFLOR_gridinfo.nc',\n",
       "  'model_label': 'GFDL FLOR',\n",
       "  'reanalysis': {'native': '/home/disk/sipn/nicway/data/model/gfdlsipn/reanalysis/native',\n",
       "   'sipn_nc': '/home/disk/sipn/nicway/data/model/gfdlsipn/reanalysis/sipn_nc'},\n",
       "  'reforecast': {'native': '/home/disk/sipn/nicway/data/model/gfdlsipn/reforecast/native',\n",
       "   'sipn_nc': '/home/disk/sipn/nicway/data/model/gfdlsipn/reforecast/sipn_nc'}},\n",
       " 'piomas': {'forecast': {'native': '/home/disk/sipn/nicway/data/model/piomas/forecast/native',\n",
       "   'sipn_nc': '/home/disk/sipn/nicway/data/model/piomas/forecast/sipn_nc'},\n",
       "  'grid': '/home/disk/sipn/nicway/data/grids/PIOMAS_gridinfo.nc',\n",
       "  'model_label': 'PIOMAS',\n",
       "  'reanalysis': {'native': '/home/disk/sipn/nicway/data/model/piomas/reanalysis/native',\n",
       "   'sipn_nc': '/home/disk/sipn/nicway/data/model/piomas/reanalysis/sipn_nc'},\n",
       "  'reforecast': {'native': '/home/disk/sipn/nicway/data/model/piomas/reforecast/native',\n",
       "   'sipn_nc': '/home/disk/sipn/nicway/data/model/piomas/reforecast/sipn_nc'}},\n",
       " 'yopp': {'forecast': {'native': '/home/disk/sipn/nicway/data/model/yopp/forecast/native',\n",
       "   'sipn_nc': '/home/disk/sipn/nicway/data/model/yopp/forecast/sipn_nc'},\n",
       "  'grid': '/home/disk/sipn/nicway/data/grids/MISSING',\n",
       "  'model_label': 'ECMWF YOPP',\n",
       "  'reanalysis': {'native': '/home/disk/sipn/nicway/data/model/yopp/reanalysis/native',\n",
       "   'sipn_nc': '/home/disk/sipn/nicway/data/model/yopp/reanalysis/sipn_nc'},\n",
       "  'reforecast': {'native': '/home/disk/sipn/nicway/data/model/yopp/reforecast/native',\n",
       "   'sipn_nc': '/home/disk/sipn/nicway/data/model/yopp/reforecast/sipn_nc'}}}"
      ]
     },
     "execution_count": 5,
     "metadata": {},
     "output_type": "execute_result"
    }
   ],
   "source": [
    "# Add Models\n",
    "E.add_model(mod_name='gfdlsipn', model_label='GFDL FLOR', grid_file='GFDLFLOR_gridinfo.nc')\n",
    "E.add_model(mod_name='piomas', model_label='PIOMAS', grid_file='PIOMAS_gridinfo.nc')\n",
    "E.add_model(mod_name='yopp', model_label='ECMWF YOPP', grid_file='MISSING')\n",
    "E.model"
   ]
  },
  {
   "cell_type": "code",
   "execution_count": 6,
   "metadata": {
    "collapsed": true
   },
   "outputs": [],
   "source": [
    "# Add other path info\n",
    "E.fig_dir = r'/home/disk/sipn/nicway/public_html/sipn/figures/'"
   ]
  },
  {
   "cell_type": "code",
   "execution_count": 7,
   "metadata": {},
   "outputs": [
    {
     "name": "stdout",
     "output_type": "stream",
     "text": [
      "Saving to  /home/disk/sipn/nicway/python/ESIO/\n"
     ]
    }
   ],
   "source": [
    "# Save to ESIO dir\n",
    "print(\"Saving to \",dir_out)\n",
    "E.save()"
   ]
  },
  {
   "cell_type": "code",
   "execution_count": 8,
   "metadata": {
    "collapsed": true
   },
   "outputs": [],
   "source": [
    "# Load object to test\n",
    "E = None\n",
    "E = ed.esiodata.load()"
   ]
  },
  {
   "cell_type": "code",
   "execution_count": null,
   "metadata": {
    "collapsed": true
   },
   "outputs": [],
   "source": []
  },
  {
   "cell_type": "code",
   "execution_count": null,
   "metadata": {
    "collapsed": true
   },
   "outputs": [],
   "source": []
  }
 ],
 "metadata": {
  "kernelspec": {
   "display_name": "3.6.4 esio",
   "language": "python",
   "name": "esio"
  },
  "language_info": {
   "codemirror_mode": {
    "name": "ipython",
    "version": 3
   },
   "file_extension": ".py",
   "mimetype": "text/x-python",
   "name": "python",
   "nbconvert_exporter": "python",
   "pygments_lexer": "ipython3",
   "version": "3.6.4"
  }
 },
 "nbformat": 4,
 "nbformat_minor": 2
}
