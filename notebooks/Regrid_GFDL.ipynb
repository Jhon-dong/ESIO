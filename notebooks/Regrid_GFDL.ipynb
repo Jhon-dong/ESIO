{
 "cells": [
  {
   "cell_type": "markdown",
   "metadata": {},
   "source": [
    "   Test script to load in GFDL FLOR model prediction of sea ice and regrid to a polar stereo projection"
   ]
  },
  {
   "cell_type": "code",
   "execution_count": null,
   "metadata": {},
   "outputs": [],
   "source": [
    "%matplotlib inline\n",
    "import matplotlib\n",
    "import matplotlib.pyplot as plt\n",
    "import cartopy.crs as ccrs\n",
    "from cartopy.mpl.gridliner import LONGITUDE_FORMATTER, LATITUDE_FORMATTER\n",
    "import numpy as np\n",
    "import xarray as xr\n",
    "import xesmf as xe\n",
    "import os\n",
    "# import glob\n",
    "import seaborn as sns"
   ]
  },
  {
   "cell_type": "code",
   "execution_count": null,
   "metadata": {},
   "outputs": [],
   "source": [
    "# General plotting settings\n",
    "sns.set_style('whitegrid')\n",
    "sns.set_context(\"talk\", font_scale=1.5, rc={\"lines.linewidth\": 2.5})"
   ]
  },
  {
   "cell_type": "code",
   "execution_count": null,
   "metadata": {},
   "outputs": [],
   "source": [
    "# Data dir\n",
    "data_dir = r'/home/disk/sipn/nicway/data/model/nmme/test'\n",
    "grid_file = r'/home/disk/sipn/nicway/data/grids/GFDLFLOR_gridinfo.nc'\n",
    "# cfile = 'sic_OImon_GFDL-FLORB01_FLORB01-P1-ECDA-v3.1-062014_r9i1p1_201406-201505.nc'\n",
    "cfile = 'sic_OImon_GFDL-FLORB01_FLORB01-P1-ECDA-v3.1-041980_r2i1p1_198004-198103.nc'\n",
    "file_in = os.path.join(data_dir, cfile)"
   ]
  },
  {
   "cell_type": "code",
   "execution_count": null,
   "metadata": {},
   "outputs": [],
   "source": [
    "# Open Data\n",
    "ds = xr.open_dataset(file_in)\n",
    "grid = xr.open_dataset(grid_file)"
   ]
  },
  {
   "cell_type": "code",
   "execution_count": null,
   "metadata": {},
   "outputs": [],
   "source": [
    "n_lat = grid.grid_center_lat.values.reshape(tuple(np.flip(grid.grid_dims.T.values,0))) # Reshape\n",
    "n_lat = np.rad2deg(n_lat)\n",
    "n_lon = grid.grid_center_lon.values.reshape(tuple(np.flip(grid.grid_dims.T.values,0))) # Reshape\n",
    "n_lon = np.rad2deg(n_lon)\n",
    "# print(n_lon.min(), n_lon.max())"
   ]
  },
  {
   "cell_type": "code",
   "execution_count": null,
   "metadata": {},
   "outputs": [],
   "source": [
    "# Fix GFDL grid\n",
    "# Files comes with incorrect lat/lon at poles. Use correct separte file to update coords\n",
    "ds.rename({'lat':'nj', 'lon':'ni'}, inplace=True);\n",
    "ds.coords['nj'] = xr.DataArray(np.arange(0,ds.nj.size,1), dims=('nj'))\n",
    "ds.coords['ni'] = xr.DataArray(np.arange(0,ds.ni.size,1), dims=('ni'))\n",
    "ds.coords['lat'] = xr.DataArray(n_lat, dims=('nj','ni'), coords={'nj':ds.nj, 'ni':ds.ni})\n",
    "ds.coords['lon'] = xr.DataArray(n_lon, dims=('nj','ni'), coords={'nj':ds.nj, 'ni':ds.ni})"
   ]
  },
  {
   "cell_type": "code",
   "execution_count": null,
   "metadata": {},
   "outputs": [],
   "source": []
  },
  {
   "cell_type": "code",
   "execution_count": null,
   "metadata": {},
   "outputs": [],
   "source": [
    "# Average over all sea ice categories \n",
    "sic = ds.sic.sum(dim='ct', skipna=False)"
   ]
  },
  {
   "cell_type": "code",
   "execution_count": null,
   "metadata": {},
   "outputs": [],
   "source": [
    "# Get info about target grid\n",
    "flat = r'/home/disk/sipn/nicway/data/grids/psn25lats_v3.dat'\n",
    "flon = r'/home/disk/sipn/nicway/data/grids/psn25lons_v3.dat'\n",
    "NY=304; \n",
    "NX=448;\n",
    "\n",
    "def readBinFile(f, nx, ny):\n",
    "    with open(f, 'rb') as fid:\n",
    "        data_array = np.fromfile(f, np.int32)*1e-5\n",
    "    return data_array.reshape((nx,ny))"
   ]
  },
  {
   "cell_type": "code",
   "execution_count": null,
   "metadata": {},
   "outputs": [],
   "source": [
    "lat = readBinFile(flat, NX, NY).T\n",
    "lon = readBinFile(flon, NX, NY).T\n",
    "ds_out = xr.Dataset({'lat': (['x', 'y'],  lat), 'lon': (['x', 'y'], lon)})\n",
    "ds_out"
   ]
  },
  {
   "cell_type": "code",
   "execution_count": null,
   "metadata": {},
   "outputs": [],
   "source": []
  },
  {
   "cell_type": "code",
   "execution_count": null,
   "metadata": {},
   "outputs": [],
   "source": [
    "# Plot target lat and lon\n",
    "# ds_out.lon.plot.pcolormesh()"
   ]
  },
  {
   "cell_type": "code",
   "execution_count": null,
   "metadata": {},
   "outputs": [],
   "source": [
    "# ds_out.lat.plot.pcolormesh()"
   ]
  },
  {
   "cell_type": "code",
   "execution_count": null,
   "metadata": {},
   "outputs": [],
   "source": [
    "# sic"
   ]
  },
  {
   "cell_type": "code",
   "execution_count": null,
   "metadata": {},
   "outputs": [],
   "source": [
    "# Calculate regridding matrix\n",
    "regridder = xe.Regridder(sic, ds_out, 'bilinear', periodic=True)\n",
    "# Regrid\n",
    "sic_out = regridder(sic)"
   ]
  },
  {
   "cell_type": "code",
   "execution_count": null,
   "metadata": {},
   "outputs": [],
   "source": []
  },
  {
   "cell_type": "code",
   "execution_count": null,
   "metadata": {},
   "outputs": [],
   "source": [
    "# Define naive_fast that searches for the nearest WRF grid cell center\n",
    "def naive_fast(latvar,lonvar,lat0,lon0):\n",
    "    # Read latitude and longitude from file into numpy arrays\n",
    "    latvals = latvar[:]\n",
    "    lonvals = lonvar[:]\n",
    "    dist_sq = (latvals-lat0)**2 + (lonvals-lon0)**2\n",
    "    minindex_flattened = dist_sq.argmin()  # 1D index of min element\n",
    "    iy_min,ix_min = np.unravel_index(minindex_flattened, latvals.shape)\n",
    "    return iy_min,ix_min"
   ]
  },
  {
   "cell_type": "code",
   "execution_count": null,
   "metadata": {},
   "outputs": [],
   "source": [
    "# Testing point selectoin method\n",
    "# rnd_pts = list(zip(list(np.linspace(sic_out.lat.min().values,sic_out.lat.max().values,50)),\n",
    "#                    list(np.linspace(sic_out.lon.min().values,sic_out.lon.max().values,50))))\n",
    "# lat_err = []\n",
    "# lon_err = []\n",
    "# for cpt in rnd_pts:\n",
    "# #     print(cpt)\n",
    "#     (c_y, c_x) = naive_fast(sic_out.lat.values, sic_out.lon.values, cpt[0], cpt[1])\n",
    "# #     print(sic_out.isel(x=c_x, y=c_y).lat.values, cpt[0])\n",
    "# #     print(sic_out.isel(x=c_x, y=c_y).lon.values, cpt[1])\n",
    "#     lat_err.append((sic_out.isel(x=c_x, y=c_y).lat-cpt[0]).values)\n",
    "#     lon_err.append((sic_out.isel(x=c_x, y=c_y).lon-cpt[1]).values)\n",
    "# plt.figure()\n",
    "# plt.plot(np.linspace(sic_out.lat.min().values,sic_out.lat.max().values,50), lat_err)\n",
    "# plt.figure()\n",
    "# plt.plot(np.linspace(sic_out.lon.min().values,sic_out.lon.max().values,50), lon_err)"
   ]
  },
  {
   "cell_type": "code",
   "execution_count": null,
   "metadata": {},
   "outputs": [],
   "source": []
  },
  {
   "cell_type": "code",
   "execution_count": null,
   "metadata": {},
   "outputs": [],
   "source": [
    "# # Test Regridding was successful\n",
    "# pt_lon = 0\n",
    "# pt_lat = 85\n",
    "# (c_y_O, c_x_O) = naive_fast(sic.lat.values, sic.lon.values, pt_lat, pt_lon)\n",
    "# (c_y_T, c_x_T) = naive_fast(sic_out.lat.values, sic_out.lon.values, pt_lat, pt_lon)\n",
    "# plt.figure()\n",
    "# sic.sel(ni=c_x_O, nj=c_y_O).plot(linewidth=4, label='orig projection')  # input data\n",
    "# sic_out.sel(x=c_x_T, y=c_y_T).plot(label='new projection')# output data\n",
    "# plt.legend()"
   ]
  },
  {
   "cell_type": "code",
   "execution_count": null,
   "metadata": {},
   "outputs": [],
   "source": [
    "# Set up plotting info\n",
    "cmap_sic = matplotlib.colors.ListedColormap(sns.color_palette(\"Blues\", 10))\n",
    "cmap_sic.set_bad(color = 'lightgrey')"
   ]
  },
  {
   "cell_type": "code",
   "execution_count": null,
   "metadata": {},
   "outputs": [],
   "source": [
    "# Plot original projection\n",
    "plt.figure(figsize=(20,10))\n",
    "ax1 = plt.axes(projection=ccrs.PlateCarree())\n",
    "sic.mean(dim='time').plot.pcolormesh(ax=ax1, x='lon', y='lat', \n",
    "                                 vmin=sic.min().values, vmax=sic.max().values,\n",
    "                                 cmap=matplotlib.colors.ListedColormap(sns.color_palette(\"Blues\", 10)));\n",
    "ax1.set_extent([-180, 180, -90, 90], crs=ccrs.PlateCarree())\n",
    "gl = ax1.gridlines(crs=ccrs.PlateCarree(), linestyle='-')\n",
    "gl.xlabels_bottom = True\n",
    "gl.ylabels_left = True\n",
    "gl.xformatter = LONGITUDE_FORMATTER\n",
    "gl.yformatter = LATITUDE_FORMATTER\n",
    "ax1.coastlines(linewidth=0.75, color='black', resolution='50m');"
   ]
  },
  {
   "cell_type": "code",
   "execution_count": null,
   "metadata": {},
   "outputs": [],
   "source": [
    "# Plot SIC on target projection\n",
    "plt.figure(figsize=(10,8));\n",
    "ax1 = plt.axes(projection=ccrs.NorthPolarStereo(central_longitude=0))\n",
    "sic_out.mean(dim='time').plot.pcolormesh(ax=ax1, x='lon', y='lat', \n",
    "                                     transform=ccrs.PlateCarree(),\n",
    "                                     cmap=cmap_sic)\n",
    "# Add coastlines and meridians/parallels \n",
    "ax1.coastlines(linewidth=0.75, color='black', resolution='50m')\n",
    "ax1.gridlines(crs=ccrs.PlateCarree(), linestyle='-')\n",
    "ax1.set_extent([-180, 180, 50, 90], crs=ccrs.PlateCarree())\n",
    "plt.tight_layout()"
   ]
  },
  {
   "cell_type": "code",
   "execution_count": null,
   "metadata": {},
   "outputs": [],
   "source": [
    "# Save new file\n",
    "f_out = os.path.join(data_dir, os.path.splitext(cfile)[0]+'_Stereo.nc')\n",
    "sic_out.to_netcdf(f_out)"
   ]
  },
  {
   "cell_type": "code",
   "execution_count": null,
   "metadata": {},
   "outputs": [],
   "source": [
    "# Clean up\n",
    "regridder.clean_weight_file()  # clean-up"
   ]
  }
 ],
 "metadata": {
  "kernelspec": {
   "display_name": "Python 3",
   "language": "python",
   "name": "python3"
  },
  "language_info": {
   "codemirror_mode": {
    "name": "ipython",
    "version": 3
   },
   "file_extension": ".py",
   "mimetype": "text/x-python",
   "name": "python",
   "nbconvert_exporter": "python",
   "pygments_lexer": "ipython3",
   "version": "3.6.4"
  }
 },
 "nbformat": 4,
 "nbformat_minor": 2
}
