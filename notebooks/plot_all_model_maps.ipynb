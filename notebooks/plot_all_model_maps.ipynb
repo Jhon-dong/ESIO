{
 "cells": [
  {
   "cell_type": "code",
   "execution_count": 1,
   "metadata": {},
   "outputs": [],
   "source": [
    "'''\n",
    "Plot model forecast avaibility\n",
    "'''\n",
    "\n",
    "%matplotlib inline\n",
    "%load_ext autoreload\n",
    "%autoreload\n",
    "import matplotlib\n",
    "matplotlib.use('Agg')\n",
    "import matplotlib.pyplot as plt, mpld3\n",
    "from collections import OrderedDict\n",
    "import itertools\n",
    "import numpy as np\n",
    "import numpy.ma as ma\n",
    "import pandas as pd\n",
    "import struct\n",
    "import os\n",
    "import xarray as xr\n",
    "import glob\n",
    "import datetime\n",
    "import cartopy.crs as ccrs\n",
    "from cartopy.mpl.gridliner import LONGITUDE_FORMATTER, LATITUDE_FORMATTER\n",
    "import seaborn as sns\n",
    "np.seterr(divide='ignore', invalid='ignore')\n",
    "\n",
    "import esio\n",
    "import esiodata as ed\n",
    "\n",
    "# General plotting settings\n",
    "sns.set_style('whitegrid')\n",
    "sns.set_context(\"talk\", font_scale=1.5, rc={\"lines.linewidth\": 2.5})"
   ]
  },
  {
   "cell_type": "code",
   "execution_count": 2,
   "metadata": {},
   "outputs": [],
   "source": [
    "# Define models and variables to plot\n",
    "models = ['yopp','gfdlsipn']\n",
    "runType = 'forecast'\n",
    "variables = ['sic', 'hi']"
   ]
  },
  {
   "cell_type": "code",
   "execution_count": null,
   "metadata": {},
   "outputs": [],
   "source": []
  },
  {
   "cell_type": "code",
   "execution_count": null,
   "metadata": {},
   "outputs": [],
   "source": []
  },
  {
   "cell_type": "code",
   "execution_count": null,
   "metadata": {},
   "outputs": [
    {
     "name": "stdout",
     "output_type": "stream",
     "text": [
      "All models merged...\n",
      "Starting plots...\n",
      "WARNING: only plotting first init_time.\n"
     ]
    },
    {
     "name": "stderr",
     "output_type": "stream",
     "text": [
      "/home/disk/sipn/nicway/anaconda3/envs/esio/lib/python3.6/site-packages/dask/array/numpy_compat.py:48: RuntimeWarning: invalid value encountered in true_divide\n",
      "  x = np.divide(x1, x2, out)\n"
     ]
    },
    {
     "name": "stdout",
     "output_type": "stream",
     "text": [
      "saved  /home/disk/sipn/nicway/public_html/sipn/figures/model/all_model/sic/maps/panArctic_EnsembleMean_forecast_2018-03-01-00:00_00.png\n",
      "saved  /home/disk/sipn/nicway/public_html/sipn/figures/model/all_model/sic/maps/panArctic_EnsembleMean_forecast_2018-03-01-00:00_01.png\n",
      "saved  /home/disk/sipn/nicway/public_html/sipn/figures/model/all_model/sic/maps/panArctic_EnsembleMean_forecast_2018-03-01-00:00_02.png\n",
      "saved  /home/disk/sipn/nicway/public_html/sipn/figures/model/all_model/sic/maps/panArctic_EnsembleMean_forecast_2018-03-01-00:00_03.png\n",
      "saved  /home/disk/sipn/nicway/public_html/sipn/figures/model/all_model/sic/maps/panArctic_EnsembleMean_forecast_2018-03-01-00:00_04.png\n",
      "saved  /home/disk/sipn/nicway/public_html/sipn/figures/model/all_model/sic/maps/panArctic_EnsembleMean_forecast_2018-03-01-00:00_05.png\n",
      "saved  /home/disk/sipn/nicway/public_html/sipn/figures/model/all_model/sic/maps/panArctic_EnsembleMean_forecast_2018-03-01-00:00_06.png\n",
      "saved  /home/disk/sipn/nicway/public_html/sipn/figures/model/all_model/sic/maps/panArctic_EnsembleMean_forecast_2018-03-01-00:00_07.png\n",
      "saved  /home/disk/sipn/nicway/public_html/sipn/figures/model/all_model/sic/maps/panArctic_EnsembleMean_forecast_2018-03-01-00:00_08.png\n",
      "saved  /home/disk/sipn/nicway/public_html/sipn/figures/model/all_model/sic/maps/panArctic_EnsembleMean_forecast_2018-03-01-00:00_09.png\n",
      "saved  /home/disk/sipn/nicway/public_html/sipn/figures/model/all_model/sic/maps/panArctic_EnsembleMean_forecast_2018-03-01-00:00_10.png\n",
      "saved  /home/disk/sipn/nicway/public_html/sipn/figures/model/all_model/sic/maps/panArctic_EnsembleMean_forecast_2018-03-01-00:00_11.png\n",
      "saved  /home/disk/sipn/nicway/public_html/sipn/figures/model/all_model/sic/maps/panArctic_EnsembleMean_forecast_2018-03-01-00:00_12.png\n",
      "saved  /home/disk/sipn/nicway/public_html/sipn/figures/model/all_model/sic/maps/panArctic_EnsembleMean_forecast_2018-03-01-00:00_13.png\n"
     ]
    }
   ],
   "source": [
    "#############################################################\n",
    "# Load in Data\n",
    "#############################################################\n",
    "E = ed.esiodata.load()\n",
    "\n",
    "for cvar in variables:\n",
    "\n",
    "    ds_mm_l = []\n",
    "    for c_model in models:\n",
    "\n",
    "        # Load in Model\n",
    "        model_forecast = os.path.join(E.model[c_model][runType]['sipn_nc'], '*.nc')\n",
    "        ds_model = xr.open_mfdataset(model_forecast)\n",
    "        ds_model.rename({'nj':'x', 'ni':'y'}, inplace=True)\n",
    "\n",
    "        # Set attributes\n",
    "        ds_model.attrs['model_label'] = E.model[c_model]['model_label']\n",
    "        ds_model.attrs['model_grid_file'] = E.model[c_model]['grid']\n",
    "        ds_model.attrs['stero_grid_file'] = E.obs['NSIDC_0051']['grid']\n",
    "\n",
    "        # Select var of interest (if available)\n",
    "        if cvar in ds_model.variables:\n",
    "            ds_model = ds_model[cvar]\n",
    "        else:\n",
    "            continue\n",
    "            \n",
    "        # Average over ensembles (if available)\n",
    "        ds_model = ds_model.mean(dim='ensemble')\n",
    "\n",
    "        # Set new dim model\n",
    "        ds_model.coords['model'] = c_model\n",
    "        ds_mm_l.append(ds_model)\n",
    "\n",
    "    # Concat\n",
    "    ds_mm = xr.concat(ds_mm_l, dim='model')\n",
    "    print(\"All models merged...\")\n",
    "\n",
    "    #############################################################\n",
    "\n",
    "    # ds_mm.fore_time.values.astype('timedelta64[D]')\n",
    "\n",
    "    fig_dir = os.path.join(E.fig_dir, 'model', 'all_model', cvar, \"maps\")\n",
    "    if not os.path.exists(fig_dir):\n",
    "        os.makedirs(fig_dir)\n",
    "\n",
    "    # Set up plotting info\n",
    "    cmap_sic = matplotlib.colors.ListedColormap(sns.color_palette(\"Blues_r\", 10))\n",
    "    cmap_sic.set_bad(color = 'lightgrey')\n",
    "\n",
    "    # Plot sea ice concentration MAPS \n",
    "    # Most recent initialization time\n",
    "    # From ensemble mean (if ensemble availble)\n",
    "    # For select forecast times\n",
    "    #slices = pd.to_timedelta([0, 1 ,2 ,3 ,4*1, 4*2, 4*3, 4*4, 4*5, 4*6, 4*7, 4*8, 4*9, 4*10, 4*11, 4*12], unit='W')\n",
    "    \n",
    "    weeks = pd.to_timedelta(np.arange(0,5,1), unit='W')\n",
    "    months = pd.to_timedelta(np.arange(2,12,1), unit='M')\n",
    "    years = pd.to_timedelta(np.arange(1,2), unit='Y') - np.timedelta64(1, 'D') # need 364 not 365\n",
    "    slices = weeks.union(months).union(years).round('1d')\n",
    "    \n",
    "    print(\"Starting plots...\")\n",
    "    for it in [ds_mm.init_time[0]]:\n",
    "        print(\"WARNING: only plotting first init_time.\")\n",
    "\n",
    "        for (cs, ft) in enumerate(slices): \n",
    "            cs_str = format(cs, '02')\n",
    "            \n",
    "            c_da = ds_mm.sel(init_time=it).sel(fore_time=ft)\n",
    "\n",
    "            (f, axes) = esio.multi_polar_axis(ncols=2, nrows=2)\n",
    "            for (i, cmod) in enumerate(c_da.model):\n",
    "\n",
    "                # Plot\n",
    "                p = c_da.sel(model=cmod).plot.pcolormesh(ax=axes[i], x='lon', y='lat', \n",
    "                                      transform=ccrs.PlateCarree(),\n",
    "                                      add_colorbar=False,\n",
    "                                      cmap=cmap_sic,\n",
    "                                      vmin=0, vmax=1)\n",
    "                axes[i].set_title(E.model[cmod.model.item(0)]['model_label'])\n",
    "            \n",
    "            f.subplots_adjust(right=0.8)\n",
    "            cbar_ax = f.add_axes([0.85, 0.15, 0.05, 0.7])\n",
    "            f.colorbar(p, cax=cbar_ax, label='Sea Ice Concentration (-)')\n",
    "\n",
    "            # Set title of all plots\n",
    "            init_time =  pd.to_datetime( c_da.init_time.values).strftime('%Y-%m-%d-%H:%M')\n",
    "            valid_time = pd.to_datetime( c_da.init_time.values + c_da.fore_time.values ).strftime('%Y-%m-%d-%H:%M')\n",
    "            plt.suptitle('Initialization Time: '+init_time+'\\n Valid Time: '+valid_time, fontsize=20)\n",
    "            # Save to file\n",
    "            f_out = os.path.join(fig_dir,'panArctic_EnsembleMean_'+runType+'_'+init_time+'_'+cs_str+'.png')\n",
    "            f.savefig(f_out,bbox_inches='tight',dpi=200)\n",
    "            print(\"saved \", f_out)\n",
    "            # Mem clean up\n",
    "            plt.close(f)\n",
    "            c_da = None"
   ]
  },
  {
   "cell_type": "code",
   "execution_count": null,
   "metadata": {},
   "outputs": [],
   "source": [
    "# weeks = pd.to_timedelta(np.arange(0,5,1), unit='W')\n",
    "# months = pd.to_timedelta(np.arange(2,12,1), unit='M')\n",
    "# years = pd.to_timedelta(np.arange(1,2), unit='Y') - np.timedelta64(1, 'D')\n",
    "# weeks.union(months).union(years).round('1d')"
   ]
  },
  {
   "cell_type": "code",
   "execution_count": null,
   "metadata": {},
   "outputs": [],
   "source": [
    "# ds_mm.fore_time.values.astype('timedelta64[D]')"
   ]
  },
  {
   "cell_type": "code",
   "execution_count": null,
   "metadata": {},
   "outputs": [],
   "source": [
    "# import pandas as pd\n",
    "# import numpy as np\n",
    "# weeks = pd.to_timedelta(np.arange(0,4,1), unit='W')\n",
    "# months = pd.to_timedelta(np.arange(2,7,1), unit='M')\n",
    "# years = pd.to_timedelta(np.arange(1,2), unit='Y')\n",
    "# slices = weeks.union(months).union(years).round('1d')\n",
    "# slices"
   ]
  },
  {
   "cell_type": "code",
   "execution_count": null,
   "metadata": {},
   "outputs": [],
   "source": []
  },
  {
   "cell_type": "code",
   "execution_count": null,
   "metadata": {},
   "outputs": [],
   "source": [
    "# np.datetime64('2018-03-01') + slices"
   ]
  },
  {
   "cell_type": "code",
   "execution_count": null,
   "metadata": {},
   "outputs": [],
   "source": []
  }
 ],
 "metadata": {
  "kernelspec": {
   "display_name": "3.6.4 esio",
   "language": "python",
   "name": "esio"
  },
  "language_info": {
   "codemirror_mode": {
    "name": "ipython",
    "version": 3
   },
   "file_extension": ".py",
   "mimetype": "text/x-python",
   "name": "python",
   "nbconvert_exporter": "python",
   "pygments_lexer": "ipython3",
   "version": "3.6.4"
  }
 },
 "nbformat": 4,
 "nbformat_minor": 2
}
