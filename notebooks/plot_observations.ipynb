{
 "cells": [
  {
   "cell_type": "code",
   "execution_count": 1,
   "metadata": {},
   "outputs": [],
   "source": [
    "'''\n",
    "\n",
    "This code is part of the SIPN2 project focused on improving sub-seasonal to seasonal predictions of Arctic Sea Ice. \n",
    "If you use this code for a publication or presentation, please cite the reference in the README.md on the\n",
    "main page (https://github.com/NicWayand/ESIO). \n",
    "\n",
    "Questions or comments should be addressed to nicway@uw.edu\n",
    "\n",
    "Copyright (c) 2018 Nic Wayand\n",
    "\n",
    "GNU General Public License v3.0\n",
    "\n",
    "\n",
    "'''\n",
    "\n",
    "'''\n",
    "Plot observed and modeled sea ice variables of interest.\n",
    "\n",
    "'''\n",
    "%load_ext autoreload\n",
    "%autoreload\n",
    "import matplotlib\n",
    "import itertools\n",
    "matplotlib.use('Agg')\n",
    "import mpld3\n",
    "import matplotlib.pyplot as plt\n",
    "import numpy as np\n",
    "import numpy.ma as ma\n",
    "import pandas as pd\n",
    "import struct\n",
    "import os\n",
    "import xarray as xr\n",
    "import glob\n",
    "import datetime\n",
    "import cartopy.crs as ccrs\n",
    "from cartopy.mpl.gridliner import LONGITUDE_FORMATTER, LATITUDE_FORMATTER\n",
    "import seaborn as sns\n",
    "\n",
    "\n",
    "from esio import EsioData as ed\n",
    "from esio import ice_plot\n",
    "from esio import metrics\n",
    "\n",
    "# General plotting settings\n",
    "sns.set_style('whitegrid')\n",
    "sns.set_context(\"talk\", font_scale=1.5, rc={\"lines.linewidth\": 2.5})\n",
    "\n",
    "# from dask.distributed import Client\n",
    "# client = Client()\n",
    "# print(client)\n",
    "\n",
    "#############################################################\n",
    "# Load in Data\n",
    "#############################################################\n",
    "\n"
   ]
  },
  {
   "cell_type": "code",
   "execution_count": 2,
   "metadata": {},
   "outputs": [
    {
     "name": "stdout",
     "output_type": "stream",
     "text": [
      "59.863223110325634\n"
     ]
    }
   ],
   "source": [
    "E = ed.EsioData.load()\n",
    "\n",
    "# Load in Obs\n",
    "data_dir = E.data_dir\n",
    "grid_dir = E.grid_dir\n",
    "fig_dir = os.path.join(E.fig_dir, 'obs', 'NSIDC_0081' , 'standard')\n",
    "\n",
    "import timeit\n",
    "start_time = timeit.default_timer()\n",
    "# ds_81 = xr.open_mfdataset(E.obs['NSIDC_0081']['sipn_nc']+'/*.nc',concat_dim='time', \n",
    "#                                    autoclose=True, \n",
    "#                                    compat='no_conflicts',\n",
    "#                                    data_vars=['sic','extent','area'])\n",
    "ds_81 = xr.open_mfdataset(E.obs['NSIDC_0081']['sipn_nc']+'/*.nc', concat_dim='time', autoclose=True)\n",
    "print(timeit.default_timer() - start_time)\n",
    "\n",
    "# Get mean sic by DOY\n",
    "mean_1980_2010_sic = xr.open_dataset(os.path.join(E.obs_dir, 'NSIDC_0051', 'agg_nc', 'mean_1980_2010_sic.nc')).sic"
   ]
  },
  {
   "cell_type": "code",
   "execution_count": 3,
   "metadata": {},
   "outputs": [],
   "source": [
    "ds_ext = xr.open_dataset(os.path.join(E.obs['NSIDC_extent']['sipn_nc'], 'N_seaice_extent_daily_v3.0.nc'))"
   ]
  },
  {
   "cell_type": "code",
   "execution_count": 4,
   "metadata": {},
   "outputs": [],
   "source": [
    "# Load in regional data\n",
    "ds_region = xr.open_dataset(os.path.join(grid_dir, 'sio_2016_mask_Update.nc'))\n",
    "#############################################################"
   ]
  },
  {
   "cell_type": "code",
   "execution_count": 5,
   "metadata": {},
   "outputs": [],
   "source": [
    "# Grab sic dataArrays\n",
    "da_81 = ds_81.sic"
   ]
  },
  {
   "cell_type": "code",
   "execution_count": 6,
   "metadata": {},
   "outputs": [],
   "source": [
    "# Get regional averages\n",
    "da_81reg = metrics.agg_by_domain(da_grid=da_81, ds_region=ds_region)"
   ]
  },
  {
   "cell_type": "code",
   "execution_count": 7,
   "metadata": {},
   "outputs": [],
   "source": [
    "# Get date 30 days ago\n",
    "ctime = np.datetime64(datetime.datetime.now())\n",
    "lag_time_30days = ctime - np.timedelta64(30, 'D')\n",
    "lag_time_90days = ctime - np.timedelta64(90, 'D')\n",
    "last_sept = metrics.get_season_start_date(ctime)\n",
    "\n",
    "# Select recent period\n",
    "da_81_30 = da_81.where(da_81.time >= lag_time_30days, drop=True)\n",
    "# Aggregate over domain\n",
    "da_81_30_avg = metrics.calc_extent(da_81_30, ds_region, fill_pole_hole=True)\n",
    "\n",
    "# Select recent period\n",
    "da_81_3m = da_81.where(da_81.time >= lag_time_90days, drop=True)\n",
    "# Aggregate over domain\n",
    "da_81_3m_avg = metrics.calc_extent(da_81_3m, ds_region, fill_pole_hole=True)"
   ]
  },
  {
   "cell_type": "code",
   "execution_count": null,
   "metadata": {},
   "outputs": [],
   "source": []
  },
  {
   "cell_type": "code",
   "execution_count": 8,
   "metadata": {},
   "outputs": [],
   "source": [
    "# # Test regional sums\n",
    "# da_test_nolake = ((da_81>=0.15).astype('int') * ds_region.area).sum(dim='x').sum(dim='y')/(10**6)\n",
    "# da_test = esio.calc_extent(da_81, ds_region, fill_pole_hole=True)\n",
    "# %matplotlib inline\n",
    "# da_81reg.sum(dim='nregions').plot(color='r', label='Sum of Regional Extents', linewidth=4)\n",
    "# da_test_nolake.plot(color='b', label='Sum panArctic, Including Lakes')\n",
    "# da_test.plot(color='k', label='Sum panArctic, Excluding Lakes')\n",
    "# ds_ext.Extent.plot(color='m', label='NSIDC offical')\n",
    "# plt.xlim([datetime.datetime(2018,3,1), datetime.datetime(2018,3,28)])\n",
    "# plt.ylim([13.5,15])\n",
    "# plt.legend()"
   ]
  },
  {
   "cell_type": "code",
   "execution_count": null,
   "metadata": {},
   "outputs": [],
   "source": []
  },
  {
   "cell_type": "code",
   "execution_count": 9,
   "metadata": {},
   "outputs": [],
   "source": [
    "# Set up plotting info\n",
    "cmap_reg = matplotlib.colors.ListedColormap(sns.color_palette(\"Paired\", da_81reg.nregions.size))\n",
    "cmap_reg_cycle = itertools.cycle(sns.color_palette(\"Paired\", da_81reg.nregions.size))\n",
    "cmap_reg.set_bad(color = 'lightgrey')\n",
    "linecycler = itertools.cycle([\"-\",\"--\",\"-.\",\":\",\"--\"])"
   ]
  },
  {
   "cell_type": "code",
   "execution_count": null,
   "metadata": {},
   "outputs": [],
   "source": []
  },
  {
   "cell_type": "code",
   "execution_count": 10,
   "metadata": {},
   "outputs": [],
   "source": [
    "# Plot regional  map(s)\n",
    "# Mask out other areas to missing\n",
    "mask_plot = ds_region.where(ds_region.mask.isin(ds_region.ocean_regions))\n",
    "\n",
    "(f, ax1) = ice_plot.polar_axis()\n",
    "f.set_size_inches(10, 5)\n",
    "p = mask_plot.mask.plot(ax=ax1,  x='lon', y='lat', \n",
    "                     transform=ccrs.PlateCarree(),\n",
    "                    cmap=cmap_reg,\n",
    "                    cbar_kwargs={'label':'','ticks': ds_region.ocean_regions});\n",
    "#                                  'labels':mask_plot.region_names.sel(nregions=plot_regs)})\n",
    "ax1.set_title('Regional Map')\n",
    "plt.tight_layout()\n",
    "cb = p.colorbar\n",
    "# X = list(plot_regs.values)\n",
    "# X.append(16)\n",
    "# X = np.array(X)-0.5\n",
    "# cb.ax.set_yticks(X);\n",
    "cb.ax.set_yticklabels(mask_plot.region_names.sel(nregions=ds_region.ocean_regions).values);\n",
    "f.savefig(os.path.join(fig_dir,'Regional_Map.png'),bbox_inches='tight',dpi=200)"
   ]
  },
  {
   "cell_type": "code",
   "execution_count": null,
   "metadata": {},
   "outputs": [],
   "source": []
  },
  {
   "cell_type": "code",
   "execution_count": null,
   "metadata": {},
   "outputs": [],
   "source": []
  },
  {
   "cell_type": "code",
   "execution_count": null,
   "metadata": {},
   "outputs": [],
   "source": []
  },
  {
   "cell_type": "code",
   "execution_count": 11,
   "metadata": {},
   "outputs": [
    {
     "name": "stderr",
     "output_type": "stream",
     "text": [
      "/home/disk/sipn/nicway/anaconda3/envs/esio/lib/python3.6/site-packages/dask/local.py:271: RuntimeWarning: invalid value encountered in greater_equal\n",
      "  return func(*args2)\n",
      "/home/disk/sipn/nicway/anaconda3/envs/esio/lib/python3.6/site-packages/dask/local.py:271: RuntimeWarning: invalid value encountered in greater_equal\n",
      "  return func(*args2)\n",
      "/home/disk/sipn/nicway/anaconda3/envs/esio/lib/python3.6/site-packages/dask/local.py:271: RuntimeWarning: invalid value encountered in greater_equal\n",
      "  return func(*args2)\n",
      "/home/disk/sipn/nicway/anaconda3/envs/esio/lib/python3.6/site-packages/dask/local.py:271: RuntimeWarning: invalid value encountered in greater_equal\n",
      "  return func(*args2)\n",
      "/home/disk/sipn/nicway/anaconda3/envs/esio/lib/python3.6/site-packages/dask/local.py:271: RuntimeWarning: invalid value encountered in greater_equal\n",
      "  return func(*args2)\n",
      "/home/disk/sipn/nicway/anaconda3/envs/esio/lib/python3.6/site-packages/dask/local.py:271: RuntimeWarning: invalid value encountered in greater_equal\n",
      "  return func(*args2)\n",
      "/home/disk/sipn/nicway/anaconda3/envs/esio/lib/python3.6/site-packages/dask/local.py:271: RuntimeWarning: invalid value encountered in greater_equal\n",
      "  return func(*args2)\n",
      "/home/disk/sipn/nicway/anaconda3/envs/esio/lib/python3.6/site-packages/dask/local.py:271: RuntimeWarning: invalid value encountered in greater_equal\n",
      "  return func(*args2)\n",
      "/home/disk/sipn/nicway/anaconda3/envs/esio/lib/python3.6/site-packages/dask/local.py:271: RuntimeWarning: invalid value encountered in greater_equal\n",
      "  return func(*args2)\n",
      "/home/disk/sipn/nicway/anaconda3/envs/esio/lib/python3.6/site-packages/dask/local.py:271: RuntimeWarning: invalid value encountered in greater_equal\n",
      "  return func(*args2)\n",
      "/home/disk/sipn/nicway/anaconda3/envs/esio/lib/python3.6/site-packages/dask/local.py:271: RuntimeWarning: invalid value encountered in greater_equal\n",
      "  return func(*args2)\n",
      "/home/disk/sipn/nicway/anaconda3/envs/esio/lib/python3.6/site-packages/dask/local.py:271: RuntimeWarning: invalid value encountered in greater_equal\n",
      "  return func(*args2)\n",
      "/home/disk/sipn/nicway/anaconda3/envs/esio/lib/python3.6/site-packages/dask/local.py:271: RuntimeWarning: invalid value encountered in greater_equal\n",
      "  return func(*args2)\n"
     ]
    }
   ],
   "source": [
    "# Plot regional sea ice extents (last 90 days)\n",
    "f = plt.figure(figsize=(10,5))\n",
    "ax1 = plt.subplot(1, 1, 1)\n",
    "for cd in da_81reg.nregions:\n",
    "    # Don't plot central arctic (boring)\n",
    "    if da_81reg.region_names.sel(nregions=cd) == 'Central Arctic':\n",
    "        continue\n",
    "    da_81reg.where(da_81reg.time >= last_sept, \n",
    "                   drop=True).sel(nregions=cd).plot(label=da_81reg.region_names.sel(nregions=cd).values,\n",
    "                                                   color=next(cmap_reg_cycle),\n",
    "                                                   linestyle=next(linecycler))\n",
    "ax1.set_title('Regional sea ice extents')\n",
    "ax1.set_ylabel('Millions of square km')\n",
    "plt.legend(bbox_to_anchor=(1.03, 1.05))\n",
    "f_name = os.path.join(fig_dir,'panArcticSIC_Forecast_Regional_CurrentSeason')\n",
    "f.savefig(f_name+'.png',bbox_inches='tight',dpi=200)\n",
    "mpld3.save_json(f, f_name+'.json')"
   ]
  },
  {
   "cell_type": "code",
   "execution_count": 12,
   "metadata": {},
   "outputs": [
    {
     "name": "stderr",
     "output_type": "stream",
     "text": [
      "/home/disk/sipn/nicway/anaconda3/envs/esio/lib/python3.6/site-packages/dask/local.py:271: RuntimeWarning: invalid value encountered in greater_equal\n",
      "  return func(*args2)\n"
     ]
    }
   ],
   "source": [
    "## Plot Extents\n",
    "\n",
    "\n",
    "\n",
    "# Plot pan-Arctic sea ice extent\n",
    "f = plt.figure(figsize=(10,5))\n",
    "ax1 = plt.subplot(1, 1, 1) # Observations\n",
    "da_81_30_avg.plot(ax=ax1, label='NSIDC NRT\\n (Maslanik et al. 1999)')\n",
    "ds_ext.sel(datetime=da_81_30_avg.time).Extent.plot(label='NSIDC V3', color='m')\n",
    "ax1.set_ylabel('Millions of square km')\n",
    "plt.legend(loc='lower right') #bbox_to_anchor=(1.03, 1.05))\n",
    "# Save to png and json (for website)\n",
    "f_name = os.path.join(fig_dir,'panArcticSIC_Forecast_30days')\n",
    "plt.title('Last 30 days')\n",
    "f.savefig(f_name+'.png',bbox_inches='tight',dpi=200)\n",
    "mpld3.save_json(f, f_name+'.json')\n",
    "mpld3.save_html(f, f_name+'.html')\n",
    "\n",
    "\n",
    "## Plot pan-Arctic sea ice extent\n",
    "f = plt.figure(figsize=(10,5))\n",
    "ax1 = plt.subplot(1, 1, 1) # Observations\n",
    "da_81_3m_avg.plot(ax=ax1, label='NSIDC NRT\\n (Maslanik et al. 1999)')\n",
    "ds_ext.sel(datetime=da_81_3m_avg.time).Extent.plot(label='NSIDC V3', color='m')\n",
    "plt.title('Last 3 months')\n",
    "ax1.set_ylabel('Millions of square km')\n",
    "plt.legend(loc='lower right')\n",
    "f.savefig(os.path.join(fig_dir,'panArcticSIC_Forecast_3months.png'),bbox_inches='tight',dpi=200)\n",
    "\n",
    "\n",
    "# Plot Recent maps\n",
    "\n",
    "# Set up plotting info\n",
    "cmap_sic = matplotlib.colors.ListedColormap(sns.color_palette(\"Blues_r\", 10))\n",
    "cmap_sic.set_bad(color = 'lightgrey')\n",
    "cmap_dif = matplotlib.colors.ListedColormap(sns.color_palette(\"RdBu\", 10))\n",
    "cmap_dif.set_bad(color = 'lightgrey')\n",
    "\n",
    "\n",
    "cmap_diff_2 = matplotlib.colors.LinearSegmentedColormap.from_list(\"\", [\"red\",\"white\",\"blue\"])\n",
    "cmap_diff_2.set_bad(color = 'lightgrey')\n",
    "\n",
    "\n",
    "# Plot Obs and model SIC for date\n",
    "(f, ax1) = ice_plot.polar_axis()\n",
    "f.set_size_inches(10, 5)\n",
    "# Obs NSIDC 0051\n",
    "obs1 = da_81.sel(time=ctime, method='nearest')\n",
    "obs1.plot.pcolormesh(ax=ax1, x='lon', y='lat', \n",
    "                                     transform=ccrs.PlateCarree(),\n",
    "                                     cmap=cmap_sic,\n",
    "                      vmin=0, vmax=1, cbar_kwargs={'label':'Sea Ice Concentration (-)'})\n",
    "ax1.set_title('NSIDC NRT\\n'+pd.to_datetime(obs1.time.values).strftime('%Y-%m-%d'))\n",
    "plt.tight_layout()\n",
    "f.savefig(os.path.join(fig_dir,'panArcticSIC_Forecast_Map.png'),bbox_inches='tight',dpi=200)\n",
    "\n",
    "\n",
    "\n",
    "(f, ax1) = ice_plot.polar_axis()\n",
    "f.set_size_inches(10, 5)\n",
    "# Obs NSIDC 0051\n",
    "obs1 = da_81.sel(time=ctime, method='nearest')\n",
    "cdoy = pd.to_datetime(ctime).timetuple().tm_yday\n",
    "(obs1-mean_1980_2010_sic.isel(time=cdoy)).plot.pcolormesh(ax=ax1, x='lon', y='lat', \n",
    "                                     transform=ccrs.PlateCarree(),\n",
    "                                     cmap=cmap_diff_2,\n",
    "                      vmin=-1, vmax=1, cbar_kwargs={'label':'SIC Anomaly (1980-2010 Mean)'})\n",
    "ax1.set_title('NSIDC NRT\\n'+pd.to_datetime(obs1.time.values).strftime('%Y-%m-%d'))\n",
    "plt.tight_layout()\n",
    "f.savefig(os.path.join(fig_dir,'panArcticSIC_SIC_anomaly.png'),bbox_inches='tight',dpi=200)\n",
    "\n",
    "\n",
    "# Plot obs change from yesterday\n",
    "# Plot Obs and model SIC for date\n",
    "(f, ax1) = ice_plot.polar_axis()\n",
    "f.set_size_inches(10, 5)\n",
    "obs1 = da_81.sel(time=ctime, method='nearest')\n",
    "ctime_m1 = obs1.time.values - np.timedelta64(14, 'D')\n",
    "obs2 = da_81.sel(time=ctime_m1, method='nearest')\n",
    "(obs1-obs2).plot.pcolormesh(ax=ax1, x='lon', y='lat', \n",
    "                                     transform=ccrs.PlateCarree(),\n",
    "                                     cmap=cmap_dif,\n",
    "                      vmin=-1, vmax=1, cbar_kwargs={'label':'Sea Ice Concentration (-)'})\n",
    "ax1.set_title('2 Week Change\\nNSIDC NRT\\n'+pd.to_datetime(obs2.time.values).strftime('%Y-%m-%d')+' to '+ \n",
    "             pd.to_datetime(obs1.time.values).strftime('%Y-%m-%d'))\n",
    "plt.tight_layout()\n",
    "f.savefig(os.path.join(fig_dir,'panArcticSIC_Forecast_Map_2Week_Change.png'),bbox_inches='tight',dpi=200)\n",
    "\n",
    "\n",
    "# Plot obs change from last week\n",
    "(f, ax1) = ice_plot.polar_axis()\n",
    "f.set_size_inches(10, 5)\n",
    "obs1 = da_81.sel(time=ctime, method='nearest')\n",
    "ctime_m1 = obs1.time.values - np.timedelta64(7, 'D')\n",
    "obs2 = da_81.sel(time=ctime_m1, method='nearest')\n",
    "(obs1-obs2).plot.pcolormesh(ax=ax1, x='lon', y='lat', \n",
    "                                     transform=ccrs.PlateCarree(),\n",
    "                                     cmap=cmap_dif,\n",
    "                      vmin=-1, vmax=1, cbar_kwargs={'label':'Sea Ice Concentration (-)'})\n",
    "ax1.set_title('1 Week Change\\nNSIDC NRT\\n'+pd.to_datetime(obs2.time.values).strftime('%Y-%m-%d')+' to '+ \n",
    "             pd.to_datetime(obs1.time.values).strftime('%Y-%m-%d'))\n",
    "plt.tight_layout()\n",
    "f.savefig(os.path.join(fig_dir,'panArcticSIC_Forecast_Map_1Week_Change.png'),bbox_inches='tight',dpi=200)"
   ]
  },
  {
   "cell_type": "code",
   "execution_count": null,
   "metadata": {},
   "outputs": [],
   "source": []
  },
  {
   "cell_type": "code",
   "execution_count": null,
   "metadata": {},
   "outputs": [],
   "source": []
  }
 ],
 "metadata": {
  "kernelspec": {
   "display_name": "3.6.4 esio",
   "language": "python",
   "name": "esio"
  },
  "language_info": {
   "codemirror_mode": {
    "name": "ipython",
    "version": 3
   },
   "file_extension": ".py",
   "mimetype": "text/x-python",
   "name": "python",
   "nbconvert_exporter": "python",
   "pygments_lexer": "ipython3",
   "version": "3.6.4"
  }
 },
 "nbformat": 4,
 "nbformat_minor": 2
}
