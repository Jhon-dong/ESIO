{
 "cells": [
  {
   "cell_type": "code",
   "execution_count": 1,
   "metadata": {
    "collapsed": true
   },
   "outputs": [],
   "source": [
    "'''\n",
    "\n",
    "This code is part of the SIPN2 project focused on improving sub-seasonal to seasonal predictions of Arctic Sea Ice. \n",
    "If you use this code for a publication or presentation, please cite the reference in the README.md on the\n",
    "main page (https://github.com/NicWayand/ESIO). \n",
    "\n",
    "Questions or comments should be addressed to nicway@uw.edu\n",
    "\n",
    "Copyright (c) 2018 Nic Wayand\n",
    "\n",
    "GNU General Public License v3.0\n",
    "\n",
    "\n",
    "'''\n",
    "\n",
    "import os\n",
    "import xarray as xr\n",
    "import numpy as np\n",
    "import pickle\n",
    "from esio import EsioData as ed\n",
    "import itertools\n",
    "import seaborn as sns"
   ]
  },
  {
   "cell_type": "code",
   "execution_count": 2,
   "metadata": {
    "collapsed": true
   },
   "outputs": [],
   "source": [
    "# Update your paths here\n",
    "my_dir_out = '/home/disk/sipn/nicway/python/ESIO/' # The ESIO repo dir (Where the path info file get saved)\n",
    "my_data_dir = '/home/disk/sipn/nicway/data/' # Path to where SIPN2 data files are stored\n",
    "public_html_fig = r'/home/disk/sipn/nicway/public_html/sipn/figures/' # Where figs for website go"
   ]
  },
  {
   "cell_type": "code",
   "execution_count": 3,
   "metadata": {
    "collapsed": true
   },
   "outputs": [],
   "source": [
    "# Create an esioData\n",
    "E = ed.EsioData(data_dir = my_data_dir)"
   ]
  },
  {
   "cell_type": "code",
   "execution_count": 4,
   "metadata": {
    "collapsed": true
   },
   "outputs": [],
   "source": [
    "# Add observations\n",
    "obs_list = ['G10006',  'NSIDC_0051',  'NSIDC_0079',  'NSIDC_0081']\n",
    "for co in obs_list:\n",
    "    E.add_obs(co, grid_file='stereo_gridinfo.nc')\n",
    "E.add_obs('NSIDC_extent', grid_file='N/A')    "
   ]
  },
  {
   "cell_type": "code",
   "execution_count": null,
   "metadata": {},
   "outputs": [],
   "source": []
  },
  {
   "cell_type": "code",
   "execution_count": 5,
   "metadata": {},
   "outputs": [],
   "source": [
    "# Add Models\n",
    "E.add_model(mod_name='gfdlsipn', model_label='gfdl-flor', grid_file='GFDLFLOR_gridinfo.nc')\n",
    "E.add_model(mod_name='piomas', model_label='piomas', grid_file='PIOMAS_gridinfo.nc')\n",
    "E.add_model(mod_name='yopp', model_label='ecmwf-yopp', grid_file='yopp_land_sea_mask.nc')\n",
    "# c3S Models\n",
    "E.add_model(mod_name='ukmetofficesipn', model_label='ukmo-c3s', grid_file='ukmetofficesipn_land_sea_mask.nc')\n",
    "E.add_model(mod_name='ecmwfsipn', model_label='ecmwf-c3s', grid_file='ecmwfsipn_land_sea_mask.nc')\n",
    "# S2S download models\n",
    "E.add_model(mod_name='bom', model_label='bom-s2s', grid_file='MISSING')\n",
    "E.add_model(mod_name='cma', model_label='cma-s2s', grid_file='MISSING')\n",
    "E.add_model(mod_name='ecmwf', model_label='ecmwf-s2s', grid_file='MISSING')\n",
    "E.add_model(mod_name='hcmr', model_label='hcmr-s2s', grid_file='MISSING')\n",
    "E.add_model(mod_name='isaccnr', model_label='isac-cnr-s2s', grid_file='MISSING')\n",
    "E.add_model(mod_name='jma', model_label='jma-s2s', grid_file='MISSING')\n",
    "E.add_model(mod_name='metreofr', model_label='météo-fr-s2s', grid_file='MISSING')\n",
    "E.add_model(mod_name='ukmo', model_label='ukmo-s2s', grid_file='MISSING')\n",
    "E.add_model(mod_name='eccc', model_label='eccc-s2s', grid_file='MISSING')\n",
    "E.add_model(mod_name='kma', model_label='kma-s2s', grid_file='MISSING')\n",
    "E.add_model(mod_name='ncep', model_label='ncep-s2s', grid_file='MISSING')\n",
    "# NAVY NEMO\n",
    "E.add_model(mod_name='usnavysipn', model_label='nrl', grid_file='MISSING')\n",
    "E.add_model(mod_name='usnavyncep', model_label='nrl_subx', grid_file='MISSING')\n",
    "# RASM ESRL\n",
    "E.add_model(mod_name='rasmesrl', model_label='rasm-esrl', grid_file='MISSING')\n",
    "# NECP CFSv2\n",
    "E.add_model(mod_name='noaasipn', model_label='ncep-exp', grid_file='MISSING')\n",
    "E.add_model(mod_name='noaasipn_ext', model_label='ncep-ext', grid_file='MISSING')\n",
    "# E.add_model(mod_name='noaasipn_ext_biascorr', model_label='ncep-ext-biascorr', grid_file='MISSING')\n",
    "\n",
    "E.add_model(mod_name='modcansipns_3', model_label='cansips-3', grid_file='MISSING')\n",
    "E.add_model(mod_name='modcansipns_4', model_label='cansips-4', grid_file='MISSING')\n",
    "E.add_model(mod_name='uclsipn', model_label='ucl', grid_file='mesh_mask_nemo.N3.6_ORCA1L75.nc')\n",
    "\n",
    "E.add_model(mod_name='szapirosipn', model_label='MPAS-CESM', grid_file='MISSING')\n",
    "\n",
    "# MME\n",
    "E.add_model(mod_name='MME', model_label='MME_avg', grid_file='MISSING')"
   ]
  },
  {
   "cell_type": "code",
   "execution_count": 6,
   "metadata": {
    "collapsed": true
   },
   "outputs": [],
   "source": [
    "# Add other path info\n",
    "E.fig_dir = public_html_fig "
   ]
  },
  {
   "cell_type": "code",
   "execution_count": 9,
   "metadata": {},
   "outputs": [],
   "source": [
    "# Flag if modeled ice is predicted (True) or prescribed (False)\n",
    "icePredicted = {'gfdlsipn':True, 'piomas':True, 'yopp':True, 'bom':False, 'cma':False, 'ecmwf':True, \n",
    "              'hcmr':False, 'isaccnr':False, 'jma':False, 'metreofr':True, 'ukmo':True, 'eccc':False, \n",
    "              'kma':True, 'ncep':True, 'ukmetofficesipn':True, 'ecmwfsipn':True, 'usnavysipn':True,\n",
    "               'usnavyncep':True, 'rasmesrl':True, 'noaasipn':True, 'noaasipn_ext':True,\n",
    "               'MME':True, 'modcansipns_3':True, 'modcansipns_4':True, 'uclsipn':True, 'szapirosipn':True}\n",
    "E.icePredicted = icePredicted"
   ]
  },
  {
   "cell_type": "code",
   "execution_count": 10,
   "metadata": {},
   "outputs": [],
   "source": [
    "# Check all models have a predicted flag\n",
    "if not (icePredicted.keys() == E.model.keys()):\n",
    "    raise ValueError(\"Missing some predicted flags for models...\")"
   ]
  },
  {
   "cell_type": "code",
   "execution_count": null,
   "metadata": {},
   "outputs": [],
   "source": []
  },
  {
   "cell_type": "code",
   "execution_count": 11,
   "metadata": {},
   "outputs": [],
   "source": [
    "# Define colors/lines etce for each model to use in plots\n",
    "cmap_c = itertools.cycle(sns.color_palette(\"Paired\", len(E.model.keys()) ))\n",
    "linecycler = itertools.cycle([\"-\",\"--\",\"-.\",\":\",\"--\"])\n",
    "markercycler = itertools.cycle([\"*\",\"o\",\"s\",\"v\",\"x\"])\n",
    "mod_cc = {}\n",
    "mod_ls = {}\n",
    "mod_mk = {}\n",
    "for (i, cmod) in enumerate(E.model.keys()):\n",
    "    mod_cc[cmod] = next(cmap_c)\n",
    "    mod_ls[cmod] = next(linecycler)\n",
    "    mod_mk[cmod] = next(markercycler)\n",
    "E.model_color = mod_cc\n",
    "E.model_linestyle = mod_ls\n",
    "E.model_marker= mod_mk"
   ]
  },
  {
   "cell_type": "code",
   "execution_count": 12,
   "metadata": {},
   "outputs": [
    {
     "name": "stdout",
     "output_type": "stream",
     "text": [
      "Saving to  /home/disk/sipn/nicway/python/ESIO/\n"
     ]
    }
   ],
   "source": [
    "# Save to ESIO dir\n",
    "print(\"Saving to \", my_dir_out)\n",
    "E.save()"
   ]
  },
  {
   "cell_type": "code",
   "execution_count": null,
   "metadata": {
    "collapsed": true
   },
   "outputs": [],
   "source": [
    "# # Load object to test\n",
    "# E = None\n",
    "# E = ed.EsioData.load()"
   ]
  },
  {
   "cell_type": "code",
   "execution_count": null,
   "metadata": {
    "collapsed": true
   },
   "outputs": [],
   "source": []
  },
  {
   "cell_type": "code",
   "execution_count": null,
   "metadata": {
    "collapsed": true
   },
   "outputs": [],
   "source": []
  }
 ],
 "metadata": {
  "kernelspec": {
   "display_name": "3.6.4 esio",
   "language": "python",
   "name": "esio"
  },
  "language_info": {
   "codemirror_mode": {
    "name": "ipython",
    "version": 3
   },
   "file_extension": ".py",
   "mimetype": "text/x-python",
   "name": "python",
   "nbconvert_exporter": "python",
   "pygments_lexer": "ipython3",
   "version": "3.6.4"
  }
 },
 "nbformat": 4,
 "nbformat_minor": 2
}
