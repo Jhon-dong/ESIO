{
 "cells": [
  {
   "cell_type": "code",
   "execution_count": 1,
   "metadata": {},
   "outputs": [],
   "source": [
    "import xarray as xr\n",
    "import os\n",
    "import numpy as np"
   ]
  },
  {
   "cell_type": "code",
   "execution_count": 2,
   "metadata": {},
   "outputs": [],
   "source": [
    "grid_dir = '/home/disk/sipn/nicway/data/grids'"
   ]
  },
  {
   "cell_type": "code",
   "execution_count": 3,
   "metadata": {},
   "outputs": [],
   "source": [
    "ds_region = xr.open_dataset(os.path.join(grid_dir, 'sio_2016_mask.nc'))\n",
    "ds_region.set_coords(['lat','lon'], inplace=True);\n",
    "# Note minor -0.000004 degree differences in latitude\n",
    "# Replace with nsdidc obs file lat/lon\n",
    "ds_nsidc = xr.open_dataset('/home/disk/sipn/nicway/data/obs/NSIDC_0081/sipn_nc/nt_20170804_f18_nrt_n.nc')\n",
    "ds_region['lat'] = ds_nsidc.lat\n",
    "ds_region['lon'] = ds_nsidc.lon\n",
    "# Clean up string (need to do at import)\n",
    "ds_region.coords['region_names'] = xr.DataArray([x.item(0).decode(\"utf-8\").strip() for x in ds_region.region_names],\n",
    "                                                dims='nregions', coords={'nregions':ds_region.nregions})\n",
    "ds_region.rename({'nx':'x', 'ny':'y'}, inplace=True);\n",
    "ds_region['nregions'] = np.arange(1,22)\n",
    "rm_regs = ['Ice-free Oceans', 'null', 'land outline', 'land' ]\n",
    "# Get regions index for ones we want\n",
    "ds_region.coords['ocean_regions']  = xr.DataArray(ds_region.where(~ds_region.region_names.isin(rm_regs), drop=True).nregions.values,\n",
    "                                                dims='ocean_regions')\n",
    "ds_region.area.attrs = '' # was complaining about coords in attrs so remove\n",
    "# drop time\n",
    "ds_region = ds_region.drop('time')\n",
    "ds_region.to_netcdf(os.path.join(grid_dir,'sio_2016_mask_Update.nc'))"
   ]
  },
  {
   "cell_type": "code",
   "execution_count": 4,
   "metadata": {},
   "outputs": [
    {
     "data": {
      "text/plain": [
       "<xarray.Dataset>\n",
       "Dimensions:        (nregions: 21, ocean_regions: 14, x: 304, y: 448)\n",
       "Coordinates:\n",
       "    lat            (x, y) float64 ...\n",
       "    lon            (x, y) float64 ...\n",
       "    region_names   (nregions) <U17 'Ice-free Oceans' 'Sea of Okhotsk' ...\n",
       "  * x              (x) int64 0 1 2 3 4 5 6 7 8 9 10 11 12 13 14 15 16 17 18 ...\n",
       "  * y              (y) int64 0 1 2 3 4 5 6 7 8 9 10 11 12 13 14 15 16 17 18 ...\n",
       "    hole_mask      (y, x) bool ...\n",
       "    xm             (x) int64 ...\n",
       "    ym             (y) int64 ...\n",
       "  * nregions       (nregions) int64 1 2 3 4 5 6 7 8 9 10 11 12 13 14 15 16 ...\n",
       "  * ocean_regions  (ocean_regions) int64 2 3 4 5 6 7 8 9 10 11 12 13 14 15\n",
       "Data variables:\n",
       "    mask           (x, y) int32 ...\n",
       "    area           (x, y) float32 ..."
      ]
     },
     "execution_count": 4,
     "metadata": {},
     "output_type": "execute_result"
    }
   ],
   "source": [
    "ds_region"
   ]
  },
  {
   "cell_type": "code",
   "execution_count": null,
   "metadata": {},
   "outputs": [],
   "source": []
  }
 ],
 "metadata": {
  "kernelspec": {
   "display_name": "3.6.4 esio",
   "language": "python",
   "name": "esio"
  },
  "language_info": {
   "codemirror_mode": {
    "name": "ipython",
    "version": 3
   },
   "file_extension": ".py",
   "mimetype": "text/x-python",
   "name": "python",
   "nbconvert_exporter": "python",
   "pygments_lexer": "ipython3",
   "version": "3.6.4"
  }
 },
 "nbformat": 4,
 "nbformat_minor": 2
}
