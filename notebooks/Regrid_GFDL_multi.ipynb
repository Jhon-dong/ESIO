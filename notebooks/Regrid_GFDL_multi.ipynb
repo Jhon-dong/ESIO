{
 "cells": [
  {
   "cell_type": "markdown",
   "metadata": {},
   "source": [
    "# GFDL FLOR Historical\n",
    "\n",
    "## Loads in all monthly forecasts of sea ice extent\n",
    "## Regrids to polar stereographic,\n",
    "## Saves to a netcdf file"
   ]
  },
  {
   "cell_type": "code",
   "execution_count": 1,
   "metadata": {},
   "outputs": [],
   "source": [
    "# Standard Imports\n",
    "%matplotlib inline\n",
    "%load_ext autoreload\n",
    "%autoreload\n",
    "import matplotlib\n",
    "import matplotlib.pyplot as plt\n",
    "import cartopy.crs as ccrs\n",
    "from cartopy.mpl.gridliner import LONGITUDE_FORMATTER, LATITUDE_FORMATTER\n",
    "import numpy as np\n",
    "import xarray as xr\n",
    "import xesmf as xe\n",
    "import os\n",
    "import glob\n",
    "import seaborn as sns\n",
    "# ESIO Imports\n",
    "import esio"
   ]
  },
  {
   "cell_type": "code",
   "execution_count": 2,
   "metadata": {},
   "outputs": [],
   "source": [
    "# General plotting settings\n",
    "sns.set_style('whitegrid')\n",
    "sns.set_context(\"talk\", font_scale=1.5, rc={\"lines.linewidth\": 2.5})"
   ]
  },
  {
   "cell_type": "code",
   "execution_count": 3,
   "metadata": {},
   "outputs": [],
   "source": [
    "# Data dir\n",
    "data_dir = r'/home/disk/sipn/nicway/data/model/nmme/reforecast/native'\n",
    "data_out = r'/home/disk/sipn/nicway/data/model/nmme/reforecast/sipn_nc'\n",
    "gfdl_grid_file = r'/home/disk/sipn/nicway/data/grids/GFDLFLOR_gridinfo.nc' # Correct GFDL grid info\n",
    "stero_grid_file = r'/home/disk/sipn/nicway/data/grids/stereo_gridinfo.nc'"
   ]
  },
  {
   "cell_type": "code",
   "execution_count": 4,
   "metadata": {},
   "outputs": [],
   "source": [
    "test_dir = r'/home/disk/sipn/nicway/public_html/data'"
   ]
  },
  {
   "cell_type": "code",
   "execution_count": 5,
   "metadata": {},
   "outputs": [
    {
     "name": "stderr",
     "output_type": "stream",
     "text": [
      "/home/disk/sipn/nicway/anaconda3/envs/xesmf/lib/python3.6/site-packages/xarray/core/dtypes.py:23: FutureWarning: Conversion of the second argument of issubdtype from `float` to `np.floating` is deprecated. In future, it will be treated as `np.float64 == np.dtype(float).type`.\n",
      "  if np.issubdtype(dtype, float):\n"
     ]
    }
   ],
   "source": [
    "gfdl_grid = esio.load_grid_info(gfdl_grid_file)\n",
    "# Shift latitude to be from 0 to 360\n",
    "# gfdl_grid['lon'] = gfdl_grid.lon + 280\n",
    "# gfdl_grid['lon_b'] = gfdl_grid.lon_b + 280"
   ]
  },
  {
   "cell_type": "code",
   "execution_count": null,
   "metadata": {},
   "outputs": [],
   "source": []
  },
  {
   "cell_type": "code",
   "execution_count": 6,
   "metadata": {},
   "outputs": [
    {
     "name": "stderr",
     "output_type": "stream",
     "text": [
      "/home/disk/sipn/nicway/anaconda3/envs/xesmf/lib/python3.6/site-packages/xarray/core/dtypes.py:23: FutureWarning: Conversion of the second argument of issubdtype from `float` to `np.floating` is deprecated. In future, it will be treated as `np.float64 == np.dtype(float).type`.\n",
      "  if np.issubdtype(dtype, float):\n"
     ]
    }
   ],
   "source": [
    "obs_grid = esio.load_grid_info(stero_grid_file)\n",
    "# Ensure latitude is within bounds (-90 to 90)\n",
    "# Have to do this because grid file has 90.000001\n",
    "obs_grid['lat_b'] = obs_grid.lat_b.where(obs_grid.lat_b < 90, other = 90)"
   ]
  },
  {
   "cell_type": "code",
   "execution_count": 7,
   "metadata": {},
   "outputs": [],
   "source": [
    "# plt.scatter(obs_grid.lon.values, obs_grid.lat.values)\n",
    "# plt.scatter(obs_grid.lon_b.values, obs_grid.lat_b.values)\n",
    "# # plt.xlim([-2, 2])\n",
    "# # plt.ylim([75, 82])"
   ]
  },
  {
   "cell_type": "code",
   "execution_count": 8,
   "metadata": {},
   "outputs": [],
   "source": [
    "# Regridding Options\n",
    "method='conservative' # ['bilinear', 'conservative', 'nearest_s2d', 'nearest_d2s', 'patch']"
   ]
  },
  {
   "cell_type": "code",
   "execution_count": null,
   "metadata": {},
   "outputs": [],
   "source": []
  },
  {
   "cell_type": "code",
   "execution_count": 9,
   "metadata": {},
   "outputs": [
    {
     "name": "stderr",
     "output_type": "stream",
     "text": [
      "/home/disk/sipn/nicway/anaconda3/envs/xesmf/lib/python3.6/site-packages/xarray/conventions.py:1037: UserWarning: CF decoding is overwriting dtype on variable 'sic'\n",
      "  .format(name))\n"
     ]
    },
    {
     "name": "stdout",
     "output_type": "stream",
     "text": [
      "Create weight file: conservative_200x360_304x448.nc\n"
     ]
    },
    {
     "ename": "ValueError",
     "evalue": "ESMC_FieldRegridStoreFile() failed with rc = 506.    Please check the log files (named \"*ESMF_LogFile\").",
     "output_type": "error",
     "traceback": [
      "\u001b[0;31m---------------------------------------------------------------------------\u001b[0m",
      "\u001b[0;31mValueError\u001b[0m                                Traceback (most recent call last)",
      "\u001b[0;32m<ipython-input-9-b30f5b98a685>\u001b[0m in \u001b[0;36m<module>\u001b[0;34m()\u001b[0m\n\u001b[1;32m     25\u001b[0m \u001b[0;34m\u001b[0m\u001b[0m\n\u001b[1;32m     26\u001b[0m     \u001b[0;31m# Calculate regridding matrix\u001b[0m\u001b[0;34m\u001b[0m\u001b[0;34m\u001b[0m\u001b[0m\n\u001b[0;32m---> 27\u001b[0;31m     \u001b[0mregridder\u001b[0m \u001b[0;34m=\u001b[0m \u001b[0mxe\u001b[0m\u001b[0;34m.\u001b[0m\u001b[0mRegridder\u001b[0m\u001b[0;34m(\u001b[0m\u001b[0mds_all\u001b[0m\u001b[0;34m,\u001b[0m \u001b[0mobs_grid\u001b[0m\u001b[0;34m,\u001b[0m \u001b[0mmethod\u001b[0m\u001b[0;34m,\u001b[0m \u001b[0mperiodic\u001b[0m\u001b[0;34m=\u001b[0m\u001b[0;32mFalse\u001b[0m\u001b[0;34m,\u001b[0m \u001b[0mreuse_weights\u001b[0m\u001b[0;34m=\u001b[0m\u001b[0mweights_flag\u001b[0m\u001b[0;34m)\u001b[0m\u001b[0;34m\u001b[0m\u001b[0m\n\u001b[0m\u001b[1;32m     28\u001b[0m     \u001b[0mweights_flag\u001b[0m \u001b[0;34m=\u001b[0m \u001b[0;32mTrue\u001b[0m \u001b[0;31m# Set true for following loops\u001b[0m\u001b[0;34m\u001b[0m\u001b[0m\n\u001b[1;32m     29\u001b[0m \u001b[0;34m\u001b[0m\u001b[0m\n",
      "\u001b[0;32m~/anaconda3/envs/xesmf/lib/python3.6/site-packages/xesmf/frontend.py\u001b[0m in \u001b[0;36m__init__\u001b[0;34m(self, ds_in, ds_out, method, periodic, filename, reuse_weights)\u001b[0m\n\u001b[1;32m    171\u001b[0m \u001b[0;34m\u001b[0m\u001b[0m\n\u001b[1;32m    172\u001b[0m         \u001b[0;31m# get weight matrix\u001b[0m\u001b[0;34m\u001b[0m\u001b[0;34m\u001b[0m\u001b[0m\n\u001b[0;32m--> 173\u001b[0;31m         \u001b[0mself\u001b[0m\u001b[0;34m.\u001b[0m\u001b[0m_write_weight_file\u001b[0m\u001b[0;34m(\u001b[0m\u001b[0;34m)\u001b[0m\u001b[0;34m\u001b[0m\u001b[0m\n\u001b[0m\u001b[1;32m    174\u001b[0m         \u001b[0mself\u001b[0m\u001b[0;34m.\u001b[0m\u001b[0mA\u001b[0m \u001b[0;34m=\u001b[0m \u001b[0mread_weights\u001b[0m\u001b[0;34m(\u001b[0m\u001b[0mself\u001b[0m\u001b[0;34m.\u001b[0m\u001b[0mfilename\u001b[0m\u001b[0;34m,\u001b[0m \u001b[0mself\u001b[0m\u001b[0;34m.\u001b[0m\u001b[0mN_in\u001b[0m\u001b[0;34m,\u001b[0m \u001b[0mself\u001b[0m\u001b[0;34m.\u001b[0m\u001b[0mN_out\u001b[0m\u001b[0;34m)\u001b[0m\u001b[0;34m\u001b[0m\u001b[0m\n\u001b[1;32m    175\u001b[0m \u001b[0;34m\u001b[0m\u001b[0m\n",
      "\u001b[0;32m~/anaconda3/envs/xesmf/lib/python3.6/site-packages/xesmf/frontend.py\u001b[0m in \u001b[0;36m_write_weight_file\u001b[0;34m(self)\u001b[0m\n\u001b[1;32m    201\u001b[0m \u001b[0;34m\u001b[0m\u001b[0m\n\u001b[1;32m    202\u001b[0m         regrid = esmf_regrid_build(self._grid_in, self._grid_out, self.method,\n\u001b[0;32m--> 203\u001b[0;31m                                    filename=self.filename)\n\u001b[0m\u001b[1;32m    204\u001b[0m         \u001b[0mesmf_regrid_finalize\u001b[0m\u001b[0;34m(\u001b[0m\u001b[0mregrid\u001b[0m\u001b[0;34m)\u001b[0m  \u001b[0;31m# only need weights, not regrid object\u001b[0m\u001b[0;34m\u001b[0m\u001b[0m\n\u001b[1;32m    205\u001b[0m \u001b[0;34m\u001b[0m\u001b[0m\n",
      "\u001b[0;32m~/anaconda3/envs/xesmf/lib/python3.6/site-packages/xesmf/backend.py\u001b[0m in \u001b[0;36mesmf_regrid_build\u001b[0;34m(sourcegrid, destgrid, method, filename, extra_dims)\u001b[0m\n\u001b[1;32m    241\u001b[0m     regrid = ESMF.Regrid(sourcefield, destfield, filename=filename,\n\u001b[1;32m    242\u001b[0m                          \u001b[0mregrid_method\u001b[0m\u001b[0;34m=\u001b[0m\u001b[0mesmf_regrid_method\u001b[0m\u001b[0;34m,\u001b[0m\u001b[0;34m\u001b[0m\u001b[0m\n\u001b[0;32m--> 243\u001b[0;31m                          unmapped_action=ESMF.UnmappedAction.IGNORE)\n\u001b[0m\u001b[1;32m    244\u001b[0m \u001b[0;34m\u001b[0m\u001b[0m\n\u001b[1;32m    245\u001b[0m     \u001b[0;32mreturn\u001b[0m \u001b[0mregrid\u001b[0m\u001b[0;34m\u001b[0m\u001b[0m\n",
      "\u001b[0;32m~/anaconda3/envs/xesmf/lib/python3.6/site-packages/ESMF/util/decorators.py\u001b[0m in \u001b[0;36mnew_func\u001b[0;34m(*args, **kwargs)\u001b[0m\n\u001b[1;32m     62\u001b[0m \u001b[0;34m\u001b[0m\u001b[0m\n\u001b[1;32m     63\u001b[0m         \u001b[0mesmp\u001b[0m \u001b[0;34m=\u001b[0m \u001b[0mesmpymanager\u001b[0m\u001b[0;34m.\u001b[0m\u001b[0mManager\u001b[0m\u001b[0;34m(\u001b[0m\u001b[0mdebug\u001b[0m \u001b[0;34m=\u001b[0m \u001b[0;32mFalse\u001b[0m\u001b[0;34m)\u001b[0m\u001b[0;34m\u001b[0m\u001b[0m\n\u001b[0;32m---> 64\u001b[0;31m         \u001b[0;32mreturn\u001b[0m \u001b[0mfunc\u001b[0m\u001b[0;34m(\u001b[0m\u001b[0;34m*\u001b[0m\u001b[0margs\u001b[0m\u001b[0;34m,\u001b[0m \u001b[0;34m**\u001b[0m\u001b[0mkwargs\u001b[0m\u001b[0;34m)\u001b[0m\u001b[0;34m\u001b[0m\u001b[0m\n\u001b[0m\u001b[1;32m     65\u001b[0m     \u001b[0;32mreturn\u001b[0m \u001b[0mnew_func\u001b[0m\u001b[0;34m\u001b[0m\u001b[0m\n\u001b[1;32m     66\u001b[0m \u001b[0;34m\u001b[0m\u001b[0m\n",
      "\u001b[0;32m~/anaconda3/envs/xesmf/lib/python3.6/site-packages/ESMF/api/regrid.py\u001b[0m in \u001b[0;36m__init__\u001b[0;34m(self, srcfield, dstfield, filename, src_mask_values, dst_mask_values, regrid_method, pole_method, regrid_pole_npoints, line_type, norm_type, unmapped_action, ignore_degenerate, create_rh, src_frac_field, dst_frac_field)\u001b[0m\n\u001b[1;32m    134\u001b[0m                                \u001b[0mcreateRH\u001b[0m\u001b[0;34m=\u001b[0m\u001b[0mcreate_rh\u001b[0m\u001b[0;34m,\u001b[0m\u001b[0;34m\u001b[0m\u001b[0m\n\u001b[1;32m    135\u001b[0m                                \u001b[0msrcFracField\u001b[0m\u001b[0;34m=\u001b[0m\u001b[0msrc_frac_field\u001b[0m\u001b[0;34m,\u001b[0m\u001b[0;34m\u001b[0m\u001b[0m\n\u001b[0;32m--> 136\u001b[0;31m                                dstFracField=dst_frac_field)\n\u001b[0m\u001b[1;32m    137\u001b[0m         \u001b[0;32melse\u001b[0m\u001b[0;34m:\u001b[0m\u001b[0;34m\u001b[0m\u001b[0m\n\u001b[1;32m    138\u001b[0m             self._routehandle = ESMP_FieldRegridStore(srcfield, dstfield,\n",
      "\u001b[0;32m~/anaconda3/envs/xesmf/lib/python3.6/site-packages/ESMF/util/decorators.py\u001b[0m in \u001b[0;36mnew_func\u001b[0;34m(*args, **kwargs)\u001b[0m\n\u001b[1;32m     50\u001b[0m             \u001b[0mlineno\u001b[0m\u001b[0;34m=\u001b[0m\u001b[0mfunc\u001b[0m\u001b[0;34m.\u001b[0m\u001b[0m__code__\u001b[0m\u001b[0;34m.\u001b[0m\u001b[0mco_firstlineno\u001b[0m \u001b[0;34m+\u001b[0m \u001b[0;36m1\u001b[0m\u001b[0;34m,\u001b[0m\u001b[0;34m\u001b[0m\u001b[0m\n\u001b[1;32m     51\u001b[0m         )\n\u001b[0;32m---> 52\u001b[0;31m         \u001b[0;32mreturn\u001b[0m \u001b[0mfunc\u001b[0m\u001b[0;34m(\u001b[0m\u001b[0;34m*\u001b[0m\u001b[0margs\u001b[0m\u001b[0;34m,\u001b[0m \u001b[0;34m**\u001b[0m\u001b[0mkwargs\u001b[0m\u001b[0;34m)\u001b[0m\u001b[0;34m\u001b[0m\u001b[0m\n\u001b[0m\u001b[1;32m     53\u001b[0m     \u001b[0;32mreturn\u001b[0m \u001b[0mnew_func\u001b[0m\u001b[0;34m\u001b[0m\u001b[0m\n\u001b[1;32m     54\u001b[0m \u001b[0;34m\u001b[0m\u001b[0m\n",
      "\u001b[0;32m~/anaconda3/envs/xesmf/lib/python3.6/site-packages/ESMF/interface/cbindings.py\u001b[0m in \u001b[0;36mESMP_FieldRegridStoreFile\u001b[0;34m(srcField, dstField, filename, srcMaskValues, dstMaskValues, regridmethod, polemethod, regridPoleNPnts, lineType, normType, unmappedaction, ignoreDegenerate, createRH, srcFracField, dstFracField)\u001b[0m\n\u001b[1;32m   2043\u001b[0m     \u001b[0;32mif\u001b[0m \u001b[0mrc\u001b[0m \u001b[0;34m!=\u001b[0m \u001b[0mconstants\u001b[0m\u001b[0;34m.\u001b[0m\u001b[0m_ESMP_SUCCESS\u001b[0m\u001b[0;34m:\u001b[0m\u001b[0;34m\u001b[0m\u001b[0m\n\u001b[1;32m   2044\u001b[0m         raise ValueError('ESMC_FieldRegridStoreFile() failed with rc = '+str(rc)+\n\u001b[0;32m-> 2045\u001b[0;31m                         '.    '+constants._errmsg)\n\u001b[0m\u001b[1;32m   2046\u001b[0m     \u001b[0;32mreturn\u001b[0m \u001b[0mroutehandle\u001b[0m\u001b[0;34m\u001b[0m\u001b[0m\n\u001b[1;32m   2047\u001b[0m \u001b[0;34m\u001b[0m\u001b[0m\n",
      "\u001b[0;31mValueError\u001b[0m: ESMC_FieldRegridStoreFile() failed with rc = 506.    Please check the log files (named \"*ESMF_LogFile\")."
     ]
    }
   ],
   "source": [
    "weights_flag = False # Flag to set up weights have been created\n",
    "\n",
    "for year in np.arange(1980, 2014, 1):\n",
    "    \n",
    "    # Loop over each ensemble member\n",
    "    ds_list = []\n",
    "    for e in np.arange(1,13,1):\n",
    "        ensm_name = 'r'+str(e)+'i1p1'\n",
    "        cfiles = os.path.join(data_dir, '*sic*'+ensm_name+'_'+str(year)+'*.nc')\n",
    "        ds_list.append(esio.open_1_member(cfiles, e))\n",
    "    ds_all = xr.concat(ds_list, dim='ensemble')\n",
    "\n",
    "    # Fix GFDL grid\n",
    "    # Files comes with incorrect lat/lon at poles. Use correct separte file to update coords\n",
    "    ds_all.rename({'lat':'nj', 'lon':'ni'}, inplace=True); # Rename wrong-lat/lon to indices\n",
    "    ds_all.coords['nj'] = gfdl_grid.nj\n",
    "    ds_all.coords['ni'] = gfdl_grid.ni\n",
    "    ds_all.coords['lat'] = gfdl_grid.lat\n",
    "    ds_all.coords['lon'] = gfdl_grid.lon\n",
    "    ds_all.coords['lat_b'] = gfdl_grid.lat_b\n",
    "    ds_all.coords['lon_b'] = gfdl_grid.lon_b\n",
    "    \n",
    "    ds_all.to_netcdf(os.path.join(test_dir,'ds_in_small.nc'))\n",
    "    obs_grid.to_netcdf(os.path.join(test_dir,'ds_target.nc'))\n",
    "    \n",
    "    # Calculate regridding matrix\n",
    "    regridder = xe.Regridder(ds_all, obs_grid, method, periodic=False, reuse_weights=weights_flag)\n",
    "    weights_flag = True # Set true for following loops\n",
    "    \n",
    "    # Average over all sea ice categories \n",
    "    sic = ds_all.sic.sum(dim='ct', skipna=False)\n",
    "    \n",
    "    # Regrid\n",
    "    sic_out = regridder(sic)\n",
    "\n",
    "    # Add dropped coords\n",
    "    sic_out['fore_time'] = ds_all.fore_time\n",
    "\n",
    "    # # Save regridded to netcdf file\n",
    "    f_out = os.path.join(data_out, 'GFDL_FLORB01_'+str(year)+'_Stereo.nc')\n",
    "    sic_out.to_netcdf(f_out)\n",
    "    sic_out = None # Memory clean up\n",
    "    print('Saved ',f_out)"
   ]
  },
  {
   "cell_type": "code",
   "execution_count": null,
   "metadata": {},
   "outputs": [],
   "source": [
    "# ds_in = xr.open_dataset('ds_in.nc').sum(dim='ct').isel(ensemble=0, init_time=0, fore_time_i=0)\n",
    "# ds_in.to_netcdf('ds_in_small.nc')"
   ]
  },
  {
   "cell_type": "code",
   "execution_count": null,
   "metadata": {},
   "outputs": [],
   "source": []
  },
  {
   "cell_type": "code",
   "execution_count": null,
   "metadata": {},
   "outputs": [],
   "source": []
  },
  {
   "cell_type": "code",
   "execution_count": null,
   "metadata": {},
   "outputs": [],
   "source": []
  },
  {
   "cell_type": "code",
   "execution_count": null,
   "metadata": {},
   "outputs": [],
   "source": [
    "# Clean up\n",
    "regridder.clean_weight_file()  # clean-up"
   ]
  },
  {
   "cell_type": "code",
   "execution_count": null,
   "metadata": {},
   "outputs": [],
   "source": []
  },
  {
   "cell_type": "markdown",
   "metadata": {},
   "source": [
    "# Plotting"
   ]
  },
  {
   "cell_type": "code",
   "execution_count": null,
   "metadata": {},
   "outputs": [],
   "source": [
    "# # Set up plotting info\n",
    "# cmap_sic = matplotlib.colors.ListedColormap(sns.color_palette(\"Blues\", 10))\n",
    "# cmap_sic.set_bad(color = 'lightgrey')\n",
    "\n",
    "# # Plot original projection\n",
    "# plt.figure(figsize=(20,10))\n",
    "# ax1 = plt.axes(projection=ccrs.PlateCarree())\n",
    "# # ds_p = sic.mean(dim='init_time').mean(dim='fore_time').mean(dim='ensemble')\n",
    "# ds_p = sic.isel(init_time=0).isel(fore_time_i=6).mean(dim='ensemble')\n",
    "# ds_p.plot.pcolormesh(ax=ax1, x='lon', y='lat', \n",
    "#                                  vmin=0, vmax=1,\n",
    "#                                  cmap=matplotlib.colors.ListedColormap(sns.color_palette(\"Blues\", 10)));\n",
    "# ax1.set_extent([-180, 180, -90, 90], crs=ccrs.PlateCarree())\n",
    "# gl = ax1.gridlines(crs=ccrs.PlateCarree(), linestyle='-')\n",
    "# gl.xlabels_bottom = True\n",
    "# gl.ylabels_left = True\n",
    "# gl.xformatter = LONGITUDE_FORMATTER\n",
    "# gl.yformatter = LATITUDE_FORMATTER\n",
    "# ax1.coastlines(linewidth=0.75, color='black', resolution='50m');\n",
    "\n",
    "# # Plot SIC on target projection\n",
    "# plt.figure(figsize=(10,8));\n",
    "# ax1 = plt.axes(projection=ccrs.NorthPolarStereo(central_longitude=0))\n",
    "# # ds_p2 = sic_out.mean(dim='init_time').mean(dim='fore_time').mean(dim='ensemble')\n",
    "# ds_p2 = sic_out.isel(init_time=0).isel(fore_time_i=6).mean(dim='ensemble')\n",
    "# ds_p2.plot.pcolormesh(ax=ax1, x='lon', y='lat', \n",
    "#                                      transform=ccrs.PlateCarree(),\n",
    "#                                      cmap=cmap_sic)\n",
    "# # Add coastlines and meridians/parallels \n",
    "# ax1.coastlines(linewidth=0.75, color='black', resolution='50m')\n",
    "# ax1.gridlines(crs=ccrs.PlateCarree(), linestyle='-')\n",
    "# ax1.set_extent([-180, 180, 50, 90], crs=ccrs.PlateCarree())\n",
    "# plt.tight_layout()"
   ]
  },
  {
   "cell_type": "code",
   "execution_count": null,
   "metadata": {},
   "outputs": [],
   "source": []
  }
 ],
 "metadata": {
  "kernelspec": {
   "display_name": "Python 3",
   "language": "python",
   "name": "python3"
  },
  "language_info": {
   "codemirror_mode": {
    "name": "ipython",
    "version": 3
   },
   "file_extension": ".py",
   "mimetype": "text/x-python",
   "name": "python",
   "nbconvert_exporter": "python",
   "pygments_lexer": "ipython3",
   "version": "3.6.4"
  }
 },
 "nbformat": 4,
 "nbformat_minor": 2
}
