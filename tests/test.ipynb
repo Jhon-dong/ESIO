{
 "cells": [
  {
   "cell_type": "code",
   "execution_count": null,
   "metadata": {},
   "outputs": [],
   "source": []
  },
  {
   "cell_type": "code",
   "execution_count": 7,
   "metadata": {},
   "outputs": [
    {
     "name": "stdout",
     "output_type": "stream",
     "text": [
      "The autoreload extension is already loaded. To reload it, use:\n",
      "  %reload_ext autoreload\n"
     ]
    }
   ],
   "source": [
    "%load_ext autoreload\n",
    "%autoreload\n",
    "from esio import EsioData as ed\n",
    "from esio import ice_plot\n",
    "from esio import import_data\n",
    "from esio import metrics\n",
    "\n",
    "import xarray as xr\n",
    "import numpy as np\n",
    "import datetime\n",
    "\n",
    "E = ed.EsioData.load()\n",
    "\n",
    "\n",
    "# Make test model SIP data\n",
    "da_sip = xr.DataArray(np.ones((1,1,1,3)), \n",
    "                      dims=('x','y','valid_time','model'), \n",
    "                      coords={'valid_time':[datetime.datetime(2018,1,1)]})\n",
    "\n",
    "# Make observed sea ice presence data\n",
    "da_obs = xr.DataArray(np.ones((1,1,1)), \n",
    "                      dims=('x','y','valid_time'), \n",
    "                      coords={'valid_time':[datetime.datetime(2018,1,1)]})\n",
    "\n",
    "\n",
    "# Case Model says SIP=1 and Obs=1, BSS = 0\n",
    "BSS = metrics._BSS(mod=da_sip.isel(model=0), \n",
    "                              obs=da_obs, \n",
    "                              time_dim='valid_time')\n",
    "\n",
    "assert BSS == 0"
   ]
  },
  {
   "cell_type": "code",
   "execution_count": 8,
   "metadata": {},
   "outputs": [
    {
     "data": {
      "text/plain": [
       "<xarray.DataArray (x: 1, y: 1)>\n",
       "array([[0.]])\n",
       "Dimensions without coordinates: x, y"
      ]
     },
     "execution_count": 8,
     "metadata": {},
     "output_type": "execute_result"
    }
   ],
   "source": [
    "BSS"
   ]
  },
  {
   "cell_type": "code",
   "execution_count": null,
   "metadata": {},
   "outputs": [],
   "source": []
  }
 ],
 "metadata": {
  "kernelspec": {
   "display_name": "3.6.4 esio",
   "language": "python",
   "name": "esio"
  },
  "language_info": {
   "codemirror_mode": {
    "name": "ipython",
    "version": 3
   },
   "file_extension": ".py",
   "mimetype": "text/x-python",
   "name": "python",
   "nbconvert_exporter": "python",
   "pygments_lexer": "ipython3",
   "version": "3.6.4"
  }
 },
 "nbformat": 4,
 "nbformat_minor": 2
}
