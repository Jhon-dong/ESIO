{
 "cells": [
  {
   "cell_type": "code",
   "execution_count": null,
   "metadata": {},
   "outputs": [],
   "source": [
    "'''\n",
    "\n",
    "This code is part of the SIPN2 project focused on improving sub-seasonal to seasonal predictions of Arctic Sea Ice. \n",
    "If you use this code for a publication or presentation, please cite the reference in the README.md on the\n",
    "main page (https://github.com/NicWayand/ESIO). \n",
    "\n",
    "Questions or comments should be addressed to nicway@uw.edu\n",
    "\n",
    "Copyright (c) 2018 Nic Wayand\n",
    "\n",
    "GNU General Public License v3.0\n",
    "\n",
    "\n",
    "'''\n",
    "\n",
    "'''\n",
    "Plot exetent/area from observations and models (past and future)\n",
    "'''\n",
    "\n",
    "%matplotlib inline\n",
    "%load_ext autoreload\n",
    "%autoreload\n",
    "import matplotlib\n",
    "matplotlib.use('Agg')\n",
    "import matplotlib.pyplot as plt, mpld3\n",
    "from collections import OrderedDict\n",
    "import itertools\n",
    "import numpy as np\n",
    "import numpy.ma as ma\n",
    "import pandas as pd\n",
    "import struct\n",
    "import os\n",
    "import xarray as xr\n",
    "import glob\n",
    "import datetime\n",
    "import cartopy.crs as ccrs\n",
    "from cartopy.mpl.gridliner import LONGITUDE_FORMATTER, LATITUDE_FORMATTER\n",
    "import seaborn as sns\n",
    "np.seterr(divide='ignore', invalid='ignore')\n",
    "\n",
    "import esio\n",
    "import esiodata as ed\n",
    "\n",
    "# General plotting settings\n",
    "sns.set_style('whitegrid')\n",
    "sns.set_context(\"talk\", font_scale=1.5, rc={\"lines.linewidth\": 2.5})"
   ]
  },
  {
   "cell_type": "code",
   "execution_count": null,
   "metadata": {},
   "outputs": [],
   "source": []
  },
  {
   "cell_type": "code",
   "execution_count": null,
   "metadata": {},
   "outputs": [],
   "source": [
    "# Plotting Info\n",
    "runType = 'forecast'\n",
    "variables = ['sic'] #, 'hi'\n",
    "metric1 = 'extent'"
   ]
  },
  {
   "cell_type": "code",
   "execution_count": null,
   "metadata": {},
   "outputs": [],
   "source": [
    "# Initialization times to plot\n",
    "cd = datetime.datetime.now()\n",
    "cd = datetime.datetime(cd.year, cd.month, cd.day) # Assumes hours 00, min 00\n",
    "SD = cd - datetime.timedelta(days=90)\n",
    "ED = cd + datetime.timedelta(days=365)"
   ]
  },
  {
   "cell_type": "code",
   "execution_count": null,
   "metadata": {},
   "outputs": [],
   "source": [
    "# Info about models runs\n",
    "# icePredicted = {'gfdlsipn':True, 'piomas':True, 'yopp':True, 'bom':False, 'cma':True, 'ecmwf':True, \n",
    "#               'hcmr':False, 'isaccnr':False, 'jma':False, 'metreofr':True, 'ukmo':True, 'eccc':False, \n",
    "#               'kma':True, 'ncep':True, 'ukmetofficesipn':True, 'ecmwfsipn':True}\n",
    "# biasCorrected = "
   ]
  },
  {
   "cell_type": "code",
   "execution_count": null,
   "metadata": {},
   "outputs": [],
   "source": [
    "\n"
   ]
  },
  {
   "cell_type": "code",
   "execution_count": null,
   "metadata": {},
   "outputs": [],
   "source": []
  },
  {
   "cell_type": "code",
   "execution_count": null,
   "metadata": {},
   "outputs": [],
   "source": [
    "#############################################################\n",
    "# Load in Data\n",
    "#############################################################\n",
    "E = ed.esiodata.load()"
   ]
  },
  {
   "cell_type": "code",
   "execution_count": null,
   "metadata": {},
   "outputs": [],
   "source": []
  },
  {
   "cell_type": "code",
   "execution_count": null,
   "metadata": {},
   "outputs": [],
   "source": [
    "# Load obs\n",
    "import timeit\n",
    "start_time = timeit.default_timer()\n",
    "ds_obs = xr.open_mfdataset(E.obs['NSIDC_0081']['sipn_nc']+'/*.nc', concat_dim='time', autoclose=True)#,\n",
    "print(timeit.default_timer() - start_time)"
   ]
  },
  {
   "cell_type": "code",
   "execution_count": null,
   "metadata": {},
   "outputs": [],
   "source": [
    "# Load in regional data\n",
    "# Note minor -0.000004 degree differences in latitude\n",
    "ds_region = xr.open_dataset(os.path.join(E.grid_dir, 'sio_2016_mask_Update.nc'))"
   ]
  },
  {
   "cell_type": "code",
   "execution_count": null,
   "metadata": {},
   "outputs": [],
   "source": []
  },
  {
   "cell_type": "code",
   "execution_count": null,
   "metadata": {},
   "outputs": [],
   "source": []
  },
  {
   "cell_type": "code",
   "execution_count": null,
   "metadata": {},
   "outputs": [],
   "source": [
    "cdate = datetime.datetime.now()\n"
   ]
  },
  {
   "cell_type": "markdown",
   "metadata": {},
   "source": [
    "# Plot Raw extents and only models that predict sea ice"
   ]
  },
  {
   "cell_type": "code",
   "execution_count": null,
   "metadata": {},
   "outputs": [],
   "source": [
    "# cmap_c = itertools.cycle(sns.color_palette(\"Paired\", len(E.model.keys()) ))\n",
    "# linecycler = itertools.cycle([\"-\",\"--\",\"-.\",\":\",\"--\"])\n",
    "for cvar in variables:\n",
    "    \n",
    "    fig_dir = os.path.join(E.fig_dir, 'model', 'all_model', cvar, \"regional_timeseries\")\n",
    "    if not os.path.exists(fig_dir):\n",
    "        os.makedirs(fig_dir)\n",
    "\n",
    "    # For each region\n",
    "    for cR in ds_region.ocean_regions.values:    \n",
    "        cR_name = ds_region.region_names.sel(nregions=cR).item(0)\n",
    "        print(cR_name)\n",
    "\n",
    "        # New Plot\n",
    "        f = plt.figure(figsize=(15,10))\n",
    "        ax1 = plt.subplot(1, 1, 1) # Observations\n",
    "\n",
    "        for (i, cmod) in enumerate(E.model.keys()):\n",
    "#         for (i, cmod) in enumerate(['usnavyncep','usnavysipn']):\n",
    "\n",
    "            if not E.icePredicted[cmod]:\n",
    "                continue\n",
    "            print(cmod)\n",
    "            # Load in Model\n",
    "            model_forecast = os.path.join(E.model[cmod][runType]['sipn_nc'], '*.nc')\n",
    "\n",
    "            # Check we have files \n",
    "            files = glob.glob(model_forecast)\n",
    "            if not files:\n",
    "                #print(\"Skipping model\", cmod, \"no forecast files found.\")\n",
    "                continue # Skip this model # \n",
    "            ds_model = xr.open_mfdataset(model_forecast, \n",
    "                                         chunks={'ensemble': 1, 'fore_time': 1, 'init_time': 1, 'nj': 304, 'ni': 448}, \n",
    "                                         concat_dim='init_time')\n",
    "            ds_model.rename({'nj':'x', 'ni':'y'}, inplace=True)\n",
    "    #         print(ds_model)\n",
    "\n",
    "            # Select var of interest (if available)\n",
    "            if cvar in ds_model.variables:\n",
    "                ds_model = ds_model[cvar]\n",
    "            else:\n",
    "                continue\n",
    "\n",
    "            # Select init of interest\n",
    "            ds_model = ds_model.where(ds_model.init_time>=np.datetime64(SD), drop=True)\n",
    "            \n",
    "#             # Take mean of ensemble\n",
    "#             ds_model = ds_model.mean(dim='ensemble')\n",
    "\n",
    "            # Select region\n",
    "            # Lat and Long feilds have round off differences, so set to same here\n",
    "            ds_model['lat'] = ds_region.lat\n",
    "            ds_model['lon'] = ds_region.lon\n",
    "            ds_model = ds_model.where(ds_region.mask==cR)\n",
    "\n",
    "    #         Reduce to extent or area\n",
    "            if metric1 == 'extent':\n",
    "                ds_model = ((ds_model >= 0.15).astype('int') * ds_region.area).sum(dim='x').sum(dim='y') /(10**6)\n",
    "#                 ds_model = esio.calc_extent(ds_model, ds_region)\n",
    "            else:\n",
    "                raise ValueError('Not implemented')\n",
    "\n",
    "            # Get model plotting specs\n",
    "            cc = E.model_color[cmod]\n",
    "            cl = E.model_linestyle[cmod]\n",
    "\n",
    "            # Plot Model\n",
    "            if i == 1: # Control only one initiailzation label in legend\n",
    "                no_init_label = False\n",
    "            else:\n",
    "                no_init_label = True\n",
    "            import timeit\n",
    "            start_time = timeit.default_timer()\n",
    "            \n",
    "            esio.plot_reforecast(ds=ds_model, axin=ax1, \n",
    "                                 labelin=E.model[cmod]['model_label'],\n",
    "                                 color=cc, marker=None,\n",
    "                                 linestyle=cl,\n",
    "                                 no_init_label=no_init_label)\n",
    "            print( (timeit.default_timer() - start_time), ' seconds.' )\n",
    "\n",
    "            # Memeory clean up\n",
    "            ds_model = None\n",
    "\n",
    "        # Plot observations\n",
    "        print('Plotting observations')\n",
    "        ds_obs_reg = ds_obs.sic.where(ds_obs.time>=np.datetime64(SD), drop=True)\n",
    "        ds_obs_reg = ds_obs_reg.where(ds_region.mask==cR)\n",
    "        ds_obs_reg = ((ds_obs_reg >= 0.15).astype('int') * ds_region.area).sum(dim='x').sum(dim='y')/(10**6)\n",
    "        ds_obs_reg.plot(ax=ax1, label=str(cdate.year)+' Observed', color='m', linewidth=8)\n",
    "        ax1.set_ylabel('Sea Ice Extent\\n [Millions of square km]')\n",
    "        cxlims = ax1.get_xlim()\n",
    "        \n",
    "\n",
    "    #     # 1980-2010 Historical Interquartile Range\n",
    "    #     plt.fill_between(ds_per_mean.time.values, ds_per_mean + ds_per_std, \n",
    "    #                  ds_per_mean - ds_per_std, alpha=0.35, label='1980-2010\\nInterquartile Range', color='m')\n",
    "        ax1.set_xlim(cxlims) # fix x limits\n",
    "        cylims = ax1.get_ylim()\n",
    "\n",
    "        # Plot current date line\n",
    "        ax1.plot([cd, cd], [cylims[0], cylims[1]], color='k', linestyle='--')\n",
    "        \n",
    "        ax1.set_title(cR_name)\n",
    "\n",
    "        # Add legend (static)\n",
    "        handles, labels = ax1.get_legend_handles_labels()\n",
    "        ax1.legend(handles[::-1], labels[::-1], loc='lower right',bbox_to_anchor=(1.35, 0))\n",
    "\n",
    "        f.autofmt_xdate()\n",
    "        ax1.set_ylim(cylims)\n",
    "        plt.subplots_adjust(right=.8)\n",
    "\n",
    "        # Save to file\n",
    "        base_name_out = 'Region_'+cR_name.replace(\" \", \"_\")+'_'+metric1+'_'+runType+'_raw_predicted'\n",
    "        f_out = os.path.join(fig_dir, base_name_out+'.png')\n",
    "        f.savefig(f_out,bbox_inches='tight',dpi=200)\n",
    "        mpld3.save_html(f, os.path.join(fig_dir, base_name_out+'.html'))\n",
    "\n",
    "        # Mem clean up\n",
    "        ds_model = None\n",
    "        ds_obs_reg = None\n",
    "        f = None"
   ]
  },
  {
   "cell_type": "code",
   "execution_count": null,
   "metadata": {},
   "outputs": [],
   "source": []
  },
  {
   "cell_type": "code",
   "execution_count": null,
   "metadata": {},
   "outputs": [],
   "source": []
  },
  {
   "cell_type": "code",
   "execution_count": null,
   "metadata": {},
   "outputs": [],
   "source": []
  }
 ],
 "metadata": {
  "kernelspec": {
   "display_name": "3.6.4 esio",
   "language": "python",
   "name": "esio"
  },
  "language_info": {
   "codemirror_mode": {
    "name": "ipython",
    "version": 3
   },
   "file_extension": ".py",
   "mimetype": "text/x-python",
   "name": "python",
   "nbconvert_exporter": "python",
   "pygments_lexer": "ipython3",
   "version": "3.6.4"
  }
 },
 "nbformat": 4,
 "nbformat_minor": 2
}
