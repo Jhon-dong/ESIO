{
 "cells": [
  {
   "cell_type": "code",
   "execution_count": null,
   "metadata": {},
   "outputs": [],
   "source": [
    "import numpy as np\n",
    "import numpy.ma as ma\n",
    "import os\n",
    "import xarray as xr\n",
    "import glob\n",
    "import loadobservations as lo\n",
    "import esio\n",
    "import esiodata as ed\n",
    "\n",
    "# Dirs\n",
    "E = ed.esiodata.load()\n",
    "data_dir = E.obs_dir\n",
    "\n",
    "# Load in regional data\n",
    "# Note minor -0.000004 degree differences in latitude\n",
    "ds_region = xr.open_dataset(os.path.join(E.grid_dir, 'sio_2016_mask.nc'))\n",
    "ds_region.set_coords(['lat','lon'], inplace=True);\n",
    "ds_region.rename({'nx':'x', 'ny':'y'}, inplace=True);\n",
    "\n",
    "# Products to import\n",
    "product_list = ['NSIDC_0081', 'NSIDC_0051' , 'NSIDC_0079']\n",
    "\n",
    "# Loop through each product\n",
    "for c_product in product_list:\n",
    "\n",
    "    c_data_dir = os.path.join(data_dir, c_product, 'native', '*.bin')\n",
    "    all_files = sorted(glob.glob(c_data_dir))\n",
    "    out_dir = os.path.join(data_dir, c_product, 'sipn_nc')\n",
    "\n",
    "    if not os.path.exists(out_dir):\n",
    "        os.makedirs(out_dir)\n",
    "\n",
    "    # Load in \n",
    "    ds_sic = lo.load_NSIDC(all_files=all_files, product=c_product)\n",
    "\n",
    "    # Add lat and lon dimensions\n",
    "    ds_lat_lon = esio.get_stero_N_grid(grid_dir=E.grid_dir)\n",
    "    ds_sic.coords['lat'] = ds_lat_lon.lat\n",
    "    ds_sic.coords['lon'] = ds_lat_lon.lon\n",
    "    \n",
    "    # Stereo projected units (m)\n",
    "    dx = dy = 25000 \n",
    "    xm = np.arange(-3850000, +3750000, +dx)\n",
    "    ym = np.arange(+5850000, -5350000, -dy)\n",
    "    ds_sic.coords['xm'] = xr.DataArray(xm, dims=('x'))\n",
    "    ds_sic.coords['ym'] = xr.DataArray(ym, dims=('y'))    \n",
    "    \n",
    "    # Calculate common values (panArctic extent/area)\n",
    "    ds_sic['extent'] = ((ds_sic.sic>=0.15).astype('int') * ds_region.area).sum(dim='x').sum(dim='y')/(10**6)\n",
    "    ds_sic['extent'] = ds_sic['extent'] + (ds_sic.hole_mask.astype('int') * ds_region.area).sum(dim='x').sum(dim='y')/(10**6) # Add hole\n",
    "\n",
    "    ds_sic['area'] = (ds_sic.sic * ds_region.area).sum(dim='x').sum(dim='y')/(10**6) # No pole hole\n",
    "\n",
    "    \n",
    "    # Save to netcdf file\n",
    "    out_nc = c_product+'.nc'\n",
    "    ds_sic.to_netcdf(os.path.join(out_dir,out_nc))\n",
    "    print(\"Saved \",out_nc)\n",
    "    print(ds_sic)\n",
    "    ds_sic = None"
   ]
  },
  {
   "cell_type": "code",
   "execution_count": null,
   "metadata": {},
   "outputs": [],
   "source": []
  },
  {
   "cell_type": "code",
   "execution_count": null,
   "metadata": {},
   "outputs": [],
   "source": []
  }
 ],
 "metadata": {
  "kernelspec": {
   "display_name": "3.6.4 esio",
   "language": "python",
   "name": "esio"
  },
  "language_info": {
   "codemirror_mode": {
    "name": "ipython",
    "version": 3
   },
   "file_extension": ".py",
   "mimetype": "text/x-python",
   "name": "python",
   "nbconvert_exporter": "python",
   "pygments_lexer": "ipython3",
   "version": "3.6.4"
  }
 },
 "nbformat": 4,
 "nbformat_minor": 2
}
