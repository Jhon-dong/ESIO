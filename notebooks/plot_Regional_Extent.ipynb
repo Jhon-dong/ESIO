{
 "cells": [
  {
   "cell_type": "code",
   "execution_count": 1,
   "metadata": {},
   "outputs": [
    {
     "name": "stderr",
     "output_type": "stream",
     "text": [
      "/home/disk/sipn/nicway/anaconda3/envs/esio/lib/python3.6/site-packages/ipykernel_launcher.py:24: UserWarning: \n",
      "This call to matplotlib.use() has no effect because the backend has already\n",
      "been chosen; matplotlib.use() must be called *before* pylab, matplotlib.pyplot,\n",
      "or matplotlib.backends is imported for the first time.\n",
      "\n",
      "The backend was *originally* set to 'module://ipykernel.pylab.backend_inline' by the following code:\n",
      "  File \"/home/disk/sipn/nicway/anaconda3/envs/esio/lib/python3.6/runpy.py\", line 193, in _run_module_as_main\n",
      "    \"__main__\", mod_spec)\n",
      "  File \"/home/disk/sipn/nicway/anaconda3/envs/esio/lib/python3.6/runpy.py\", line 85, in _run_code\n",
      "    exec(code, run_globals)\n",
      "  File \"/home/disk/sipn/nicway/anaconda3/envs/esio/lib/python3.6/site-packages/ipykernel_launcher.py\", line 16, in <module>\n",
      "    app.launch_new_instance()\n",
      "  File \"/home/disk/sipn/nicway/anaconda3/envs/esio/lib/python3.6/site-packages/traitlets/config/application.py\", line 658, in launch_instance\n",
      "    app.start()\n",
      "  File \"/home/disk/sipn/nicway/anaconda3/envs/esio/lib/python3.6/site-packages/ipykernel/kernelapp.py\", line 486, in start\n",
      "    self.io_loop.start()\n",
      "  File \"/home/disk/sipn/nicway/anaconda3/envs/esio/lib/python3.6/site-packages/tornado/platform/asyncio.py\", line 127, in start\n",
      "    self.asyncio_loop.run_forever()\n",
      "  File \"/home/disk/sipn/nicway/anaconda3/envs/esio/lib/python3.6/asyncio/base_events.py\", line 421, in run_forever\n",
      "    self._run_once()\n",
      "  File \"/home/disk/sipn/nicway/anaconda3/envs/esio/lib/python3.6/asyncio/base_events.py\", line 1431, in _run_once\n",
      "    handle._run()\n",
      "  File \"/home/disk/sipn/nicway/anaconda3/envs/esio/lib/python3.6/asyncio/events.py\", line 145, in _run\n",
      "    self._callback(*self._args)\n",
      "  File \"/home/disk/sipn/nicway/anaconda3/envs/esio/lib/python3.6/site-packages/tornado/platform/asyncio.py\", line 117, in _handle_events\n",
      "    handler_func(fileobj, events)\n",
      "  File \"/home/disk/sipn/nicway/anaconda3/envs/esio/lib/python3.6/site-packages/tornado/stack_context.py\", line 276, in null_wrapper\n",
      "    return fn(*args, **kwargs)\n",
      "  File \"/home/disk/sipn/nicway/anaconda3/envs/esio/lib/python3.6/site-packages/zmq/eventloop/zmqstream.py\", line 450, in _handle_events\n",
      "    self._handle_recv()\n",
      "  File \"/home/disk/sipn/nicway/anaconda3/envs/esio/lib/python3.6/site-packages/zmq/eventloop/zmqstream.py\", line 480, in _handle_recv\n",
      "    self._run_callback(callback, msg)\n",
      "  File \"/home/disk/sipn/nicway/anaconda3/envs/esio/lib/python3.6/site-packages/zmq/eventloop/zmqstream.py\", line 432, in _run_callback\n",
      "    callback(*args, **kwargs)\n",
      "  File \"/home/disk/sipn/nicway/anaconda3/envs/esio/lib/python3.6/site-packages/tornado/stack_context.py\", line 276, in null_wrapper\n",
      "    return fn(*args, **kwargs)\n",
      "  File \"/home/disk/sipn/nicway/anaconda3/envs/esio/lib/python3.6/site-packages/ipykernel/kernelbase.py\", line 283, in dispatcher\n",
      "    return self.dispatch_shell(stream, msg)\n",
      "  File \"/home/disk/sipn/nicway/anaconda3/envs/esio/lib/python3.6/site-packages/ipykernel/kernelbase.py\", line 233, in dispatch_shell\n",
      "    handler(stream, idents, msg)\n",
      "  File \"/home/disk/sipn/nicway/anaconda3/envs/esio/lib/python3.6/site-packages/ipykernel/kernelbase.py\", line 399, in execute_request\n",
      "    user_expressions, allow_stdin)\n",
      "  File \"/home/disk/sipn/nicway/anaconda3/envs/esio/lib/python3.6/site-packages/ipykernel/ipkernel.py\", line 208, in do_execute\n",
      "    res = shell.run_cell(code, store_history=store_history, silent=silent)\n",
      "  File \"/home/disk/sipn/nicway/anaconda3/envs/esio/lib/python3.6/site-packages/ipykernel/zmqshell.py\", line 537, in run_cell\n",
      "    return super(ZMQInteractiveShell, self).run_cell(*args, **kwargs)\n",
      "  File \"/home/disk/sipn/nicway/anaconda3/envs/esio/lib/python3.6/site-packages/IPython/core/interactiveshell.py\", line 2728, in run_cell\n",
      "    interactivity=interactivity, compiler=compiler, result=result)\n",
      "  File \"/home/disk/sipn/nicway/anaconda3/envs/esio/lib/python3.6/site-packages/IPython/core/interactiveshell.py\", line 2850, in run_ast_nodes\n",
      "    if self.run_code(code, result):\n",
      "  File \"/home/disk/sipn/nicway/anaconda3/envs/esio/lib/python3.6/site-packages/IPython/core/interactiveshell.py\", line 2910, in run_code\n",
      "    exec(code_obj, self.user_global_ns, self.user_ns)\n",
      "  File \"<ipython-input-1-080534ff7d46>\", line 20, in <module>\n",
      "    get_ipython().run_line_magic('matplotlib', 'inline')\n",
      "  File \"/home/disk/sipn/nicway/anaconda3/envs/esio/lib/python3.6/site-packages/IPython/core/interactiveshell.py\", line 2095, in run_line_magic\n",
      "    result = fn(*args,**kwargs)\n",
      "  File \"<decorator-gen-107>\", line 2, in matplotlib\n",
      "  File \"/home/disk/sipn/nicway/anaconda3/envs/esio/lib/python3.6/site-packages/IPython/core/magic.py\", line 187, in <lambda>\n",
      "    call = lambda f, *a, **k: f(*a, **k)\n",
      "  File \"/home/disk/sipn/nicway/anaconda3/envs/esio/lib/python3.6/site-packages/IPython/core/magics/pylab.py\", line 99, in matplotlib\n",
      "    gui, backend = self.shell.enable_matplotlib(args.gui)\n",
      "  File \"/home/disk/sipn/nicway/anaconda3/envs/esio/lib/python3.6/site-packages/IPython/core/interactiveshell.py\", line 2978, in enable_matplotlib\n",
      "    pt.activate_matplotlib(backend)\n",
      "  File \"/home/disk/sipn/nicway/anaconda3/envs/esio/lib/python3.6/site-packages/IPython/core/pylabtools.py\", line 308, in activate_matplotlib\n",
      "    matplotlib.pyplot.switch_backend(backend)\n",
      "  File \"/home/disk/sipn/nicway/anaconda3/envs/esio/lib/python3.6/site-packages/matplotlib/pyplot.py\", line 231, in switch_backend\n",
      "    matplotlib.use(newbackend, warn=False, force=True)\n",
      "  File \"/home/disk/sipn/nicway/anaconda3/envs/esio/lib/python3.6/site-packages/matplotlib/__init__.py\", line 1410, in use\n",
      "    reload(sys.modules['matplotlib.backends'])\n",
      "  File \"/home/disk/sipn/nicway/anaconda3/envs/esio/lib/python3.6/importlib/__init__.py\", line 166, in reload\n",
      "    _bootstrap._exec(spec, module)\n",
      "  File \"/home/disk/sipn/nicway/anaconda3/envs/esio/lib/python3.6/site-packages/matplotlib/backends/__init__.py\", line 16, in <module>\n",
      "    line for line in traceback.format_stack()\n",
      "\n",
      "\n"
     ]
    }
   ],
   "source": [
    "'''\n",
    "\n",
    "This code is part of the SIPN2 project focused on improving sub-seasonal to seasonal predictions of Arctic Sea Ice. \n",
    "If you use this code for a publication or presentation, please cite the reference in the README.md on the\n",
    "main page (https://github.com/NicWayand/ESIO). \n",
    "\n",
    "Questions or comments should be addressed to nicway@uw.edu\n",
    "\n",
    "Copyright (c) 2018 Nic Wayand\n",
    "\n",
    "GNU General Public License v3.0\n",
    "\n",
    "\n",
    "'''\n",
    "\n",
    "'''\n",
    "Plot exetent/area from observations and models (past and future)\n",
    "'''\n",
    "\n",
    "%matplotlib inline\n",
    "%load_ext autoreload\n",
    "%autoreload\n",
    "import matplotlib\n",
    "matplotlib.use('Agg')\n",
    "import matplotlib.pyplot as plt, mpld3\n",
    "from collections import OrderedDict\n",
    "import itertools\n",
    "import numpy as np\n",
    "import numpy.ma as ma\n",
    "import pandas as pd\n",
    "import struct\n",
    "import os\n",
    "import xarray as xr\n",
    "import glob\n",
    "import datetime\n",
    "import cartopy.crs as ccrs\n",
    "from cartopy.mpl.gridliner import LONGITUDE_FORMATTER, LATITUDE_FORMATTER\n",
    "import seaborn as sns\n",
    "np.seterr(divide='ignore', invalid='ignore')\n",
    "\n",
    "import esio\n",
    "import esiodata as ed\n",
    "\n",
    "# General plotting settings\n",
    "sns.set_style('whitegrid')\n",
    "sns.set_context(\"talk\", font_scale=1.5, rc={\"lines.linewidth\": 2.5})"
   ]
  },
  {
   "cell_type": "code",
   "execution_count": null,
   "metadata": {},
   "outputs": [],
   "source": []
  },
  {
   "cell_type": "code",
   "execution_count": 2,
   "metadata": {},
   "outputs": [],
   "source": [
    "# Plotting Info\n",
    "runType = 'forecast'\n",
    "variables = ['sic'] #, 'hi'\n",
    "metric1 = 'extent'"
   ]
  },
  {
   "cell_type": "code",
   "execution_count": 3,
   "metadata": {},
   "outputs": [],
   "source": [
    "# Initialization times to plot\n",
    "cd = datetime.datetime.now()\n",
    "cd = datetime.datetime(cd.year, cd.month, cd.day) # Assumes hours 00, min 00\n",
    "SD = cd - datetime.timedelta(days=90)\n",
    "ED = cd + datetime.timedelta(days=365)"
   ]
  },
  {
   "cell_type": "code",
   "execution_count": 4,
   "metadata": {},
   "outputs": [],
   "source": [
    "# Info about models runs\n",
    "# icePredicted = {'gfdlsipn':True, 'piomas':True, 'yopp':True, 'bom':False, 'cma':True, 'ecmwf':True, \n",
    "#               'hcmr':False, 'isaccnr':False, 'jma':False, 'metreofr':True, 'ukmo':True, 'eccc':False, \n",
    "#               'kma':True, 'ncep':True, 'ukmetofficesipn':True, 'ecmwfsipn':True}\n",
    "# biasCorrected = "
   ]
  },
  {
   "cell_type": "code",
   "execution_count": null,
   "metadata": {},
   "outputs": [],
   "source": [
    "\n"
   ]
  },
  {
   "cell_type": "code",
   "execution_count": null,
   "metadata": {},
   "outputs": [],
   "source": []
  },
  {
   "cell_type": "code",
   "execution_count": 5,
   "metadata": {},
   "outputs": [],
   "source": [
    "#############################################################\n",
    "# Load in Data\n",
    "#############################################################\n",
    "E = ed.esiodata.load()"
   ]
  },
  {
   "cell_type": "code",
   "execution_count": null,
   "metadata": {},
   "outputs": [],
   "source": []
  },
  {
   "cell_type": "code",
   "execution_count": 6,
   "metadata": {},
   "outputs": [
    {
     "name": "stdout",
     "output_type": "stream",
     "text": [
      "359.32155907002743\n"
     ]
    }
   ],
   "source": [
    "# Load obs\n",
    "import timeit\n",
    "start_time = timeit.default_timer()\n",
    "ds_obs = xr.open_mfdataset(E.obs['NSIDC_0081']['sipn_nc']+'/*.nc', concat_dim='time', autoclose=True)#,\n",
    "print(timeit.default_timer() - start_time)"
   ]
  },
  {
   "cell_type": "code",
   "execution_count": 7,
   "metadata": {},
   "outputs": [],
   "source": [
    "# Load in regional data\n",
    "# Note minor -0.000004 degree differences in latitude\n",
    "ds_region = xr.open_dataset(os.path.join(E.grid_dir, 'sio_2016_mask_Update.nc'))"
   ]
  },
  {
   "cell_type": "code",
   "execution_count": null,
   "metadata": {},
   "outputs": [],
   "source": []
  },
  {
   "cell_type": "code",
   "execution_count": null,
   "metadata": {},
   "outputs": [],
   "source": []
  },
  {
   "cell_type": "code",
   "execution_count": 8,
   "metadata": {},
   "outputs": [],
   "source": [
    "cdate = datetime.datetime.now()\n"
   ]
  },
  {
   "cell_type": "markdown",
   "metadata": {},
   "source": [
    "# Plot Raw extents and only models that predict sea ice"
   ]
  },
  {
   "cell_type": "code",
   "execution_count": null,
   "metadata": {},
   "outputs": [
    {
     "name": "stdout",
     "output_type": "stream",
     "text": [
      "Sea of Okhotsk\n",
      "gfdlsipn\n",
      "0.5188901571091264  seconds.\n",
      "piomas\n",
      "yopp\n",
      "3.9506670760456473  seconds.\n",
      "ecmwf\n",
      "0.4846092719817534  seconds.\n",
      "metreofr\n",
      "0.2953200440388173  seconds.\n",
      "ukmo\n",
      "2.32838369498495  seconds.\n",
      "kma\n",
      "1.9445275149773806  seconds.\n",
      "ncep\n",
      "1.7342488910071552  seconds.\n",
      "ukmetofficesipn\n",
      "23.73649344604928  seconds.\n",
      "ecmwfsipn\n",
      "0.04270824801642448  seconds.\n",
      "usnavysipn\n",
      "usnavyncep\n",
      "rasmesrl\n",
      "Plotting observations\n"
     ]
    },
    {
     "name": "stderr",
     "output_type": "stream",
     "text": [
      "/home/disk/sipn/nicway/anaconda3/envs/esio/lib/python3.6/site-packages/dask/local.py:271: RuntimeWarning: invalid value encountered in greater_equal\n",
      "  return func(*args2)\n"
     ]
    },
    {
     "name": "stdout",
     "output_type": "stream",
     "text": [
      "Bering\n",
      "gfdlsipn\n",
      "1.0836132609983906  seconds.\n",
      "piomas\n",
      "yopp\n",
      "4.24702912196517  seconds.\n",
      "ecmwf\n",
      "0.448215747019276  seconds.\n",
      "metreofr\n",
      "0.3505533110583201  seconds.\n",
      "ukmo\n",
      "1.5548852509818971  seconds.\n",
      "kma\n",
      "1.3444653360638767  seconds.\n",
      "ncep\n",
      "1.8093252578983083  seconds.\n",
      "ukmetofficesipn\n",
      "16.613297051982954  seconds.\n",
      "ecmwfsipn\n",
      "0.03638583596330136  seconds.\n",
      "usnavysipn\n",
      "usnavyncep\n",
      "rasmesrl\n",
      "Plotting observations\n"
     ]
    },
    {
     "name": "stderr",
     "output_type": "stream",
     "text": [
      "/home/disk/sipn/nicway/anaconda3/envs/esio/lib/python3.6/site-packages/dask/local.py:271: RuntimeWarning: invalid value encountered in greater_equal\n",
      "  return func(*args2)\n"
     ]
    },
    {
     "name": "stdout",
     "output_type": "stream",
     "text": [
      "Hudson Bay\n",
      "gfdlsipn\n",
      "0.9387366459704936  seconds.\n",
      "piomas\n",
      "yopp\n",
      "4.440516603062861  seconds.\n",
      "ecmwf\n",
      "0.6652791569940746  seconds.\n",
      "metreofr\n",
      "0.3145267160143703  seconds.\n",
      "ukmo\n",
      "1.4327553869225085  seconds.\n",
      "kma\n",
      "1.3983578640036285  seconds.\n",
      "ncep\n",
      "1.7561545389471576  seconds.\n",
      "ukmetofficesipn\n",
      "18.468308867071755  seconds.\n",
      "ecmwfsipn\n",
      "0.04801979300100356  seconds.\n",
      "usnavysipn\n",
      "usnavyncep\n",
      "rasmesrl\n",
      "Plotting observations\n"
     ]
    },
    {
     "name": "stderr",
     "output_type": "stream",
     "text": [
      "/home/disk/sipn/nicway/anaconda3/envs/esio/lib/python3.6/site-packages/dask/local.py:271: RuntimeWarning: invalid value encountered in greater_equal\n",
      "  return func(*args2)\n"
     ]
    },
    {
     "name": "stdout",
     "output_type": "stream",
     "text": [
      "St John\n",
      "gfdlsipn\n",
      "1.005663093063049  seconds.\n",
      "piomas\n",
      "yopp\n",
      "3.629662538995035  seconds.\n",
      "ecmwf\n",
      "0.3657974189845845  seconds.\n",
      "metreofr\n",
      "0.190745091997087  seconds.\n",
      "ukmo\n",
      "2.5864621410146356  seconds.\n",
      "kma\n",
      "1.5270646690623835  seconds.\n",
      "ncep\n",
      "0.7626802279846743  seconds.\n",
      "ukmetofficesipn\n",
      "14.07212620403152  seconds.\n",
      "ecmwfsipn\n",
      "0.1338102340232581  seconds.\n",
      "usnavysipn\n",
      "usnavyncep\n",
      "rasmesrl\n",
      "Plotting observations\n"
     ]
    },
    {
     "name": "stderr",
     "output_type": "stream",
     "text": [
      "/home/disk/sipn/nicway/anaconda3/envs/esio/lib/python3.6/site-packages/dask/local.py:271: RuntimeWarning: invalid value encountered in greater_equal\n",
      "  return func(*args2)\n"
     ]
    },
    {
     "name": "stdout",
     "output_type": "stream",
     "text": [
      "Baffin Bay\n",
      "gfdlsipn\n",
      "1.041054219007492  seconds.\n",
      "piomas\n",
      "yopp\n",
      "3.4030142230913043  seconds.\n",
      "ecmwf\n",
      "0.40336393006145954  seconds.\n",
      "metreofr\n",
      "0.3866637530736625  seconds.\n",
      "ukmo\n",
      "1.931584630976431  seconds.\n",
      "kma\n",
      "2.2321392060257494  seconds.\n",
      "ncep\n",
      "1.798822219017893  seconds.\n",
      "ukmetofficesipn\n",
      "15.694233307964168  seconds.\n",
      "ecmwfsipn\n",
      "0.04346153396181762  seconds.\n",
      "usnavysipn\n",
      "usnavyncep\n",
      "rasmesrl\n",
      "Plotting observations\n"
     ]
    },
    {
     "name": "stderr",
     "output_type": "stream",
     "text": [
      "/home/disk/sipn/nicway/anaconda3/envs/esio/lib/python3.6/site-packages/dask/local.py:271: RuntimeWarning: invalid value encountered in greater_equal\n",
      "  return func(*args2)\n"
     ]
    },
    {
     "name": "stdout",
     "output_type": "stream",
     "text": [
      "East Greenland Sea\n",
      "gfdlsipn\n",
      "1.2174922139383852  seconds.\n",
      "piomas\n",
      "yopp\n",
      "4.1015011760173365  seconds.\n",
      "ecmwf\n",
      "0.4899074850836769  seconds.\n",
      "metreofr\n",
      "0.24436245299875736  seconds.\n",
      "ukmo\n",
      "2.0557039469713345  seconds.\n",
      "kma\n",
      "1.6612375320401043  seconds.\n",
      "ncep\n",
      "1.9848219780251384  seconds.\n",
      "ukmetofficesipn\n",
      "16.650585880037397  seconds.\n",
      "ecmwfsipn\n",
      "0.04028146399650723  seconds.\n",
      "usnavysipn\n",
      "usnavyncep\n",
      "rasmesrl\n",
      "Plotting observations\n"
     ]
    },
    {
     "name": "stderr",
     "output_type": "stream",
     "text": [
      "/home/disk/sipn/nicway/anaconda3/envs/esio/lib/python3.6/site-packages/dask/local.py:271: RuntimeWarning: invalid value encountered in greater_equal\n",
      "  return func(*args2)\n"
     ]
    },
    {
     "name": "stdout",
     "output_type": "stream",
     "text": [
      "Barents Sea\n",
      "gfdlsipn\n",
      "0.9328151559457183  seconds.\n",
      "piomas\n",
      "yopp\n",
      "4.380376118002459  seconds.\n",
      "ecmwf\n",
      "0.5920196280349046  seconds.\n",
      "metreofr\n",
      "0.24372225208207965  seconds.\n",
      "ukmo\n",
      "2.125636684941128  seconds.\n",
      "kma\n",
      "2.128200525068678  seconds.\n",
      "ncep\n",
      "1.9594423910602927  seconds.\n",
      "ukmetofficesipn\n",
      "18.617337843053974  seconds.\n",
      "ecmwfsipn\n",
      "0.04205803794320673  seconds.\n",
      "usnavysipn\n",
      "usnavyncep\n",
      "rasmesrl\n",
      "Plotting observations\n"
     ]
    },
    {
     "name": "stderr",
     "output_type": "stream",
     "text": [
      "/home/disk/sipn/nicway/anaconda3/envs/esio/lib/python3.6/site-packages/dask/local.py:271: RuntimeWarning: invalid value encountered in greater_equal\n",
      "  return func(*args2)\n"
     ]
    },
    {
     "name": "stdout",
     "output_type": "stream",
     "text": [
      "Kara Sea\n",
      "gfdlsipn\n",
      "0.9046166050247848  seconds.\n",
      "piomas\n",
      "yopp\n",
      "3.7773898009909317  seconds.\n",
      "ecmwf\n",
      "0.4356178720481694  seconds.\n",
      "metreofr\n",
      "0.2013385200407356  seconds.\n",
      "ukmo\n",
      "1.4995444710366428  seconds.\n",
      "kma\n",
      "1.6974733689567074  seconds.\n",
      "ncep\n",
      "2.290404931991361  seconds.\n",
      "ukmetofficesipn\n",
      "21.317039872985333  seconds.\n",
      "ecmwfsipn\n",
      "0.036882821936160326  seconds.\n",
      "usnavysipn\n",
      "usnavyncep\n",
      "rasmesrl\n",
      "Plotting observations\n"
     ]
    },
    {
     "name": "stderr",
     "output_type": "stream",
     "text": [
      "/home/disk/sipn/nicway/anaconda3/envs/esio/lib/python3.6/site-packages/dask/local.py:271: RuntimeWarning: invalid value encountered in greater_equal\n",
      "  return func(*args2)\n"
     ]
    },
    {
     "name": "stdout",
     "output_type": "stream",
     "text": [
      "Laptev Sea\n",
      "gfdlsipn\n",
      "0.9048831160180271  seconds.\n",
      "piomas\n",
      "yopp\n",
      "4.384073858964257  seconds.\n",
      "ecmwf\n",
      "0.5563818279188126  seconds.\n",
      "metreofr\n",
      "0.2068435150431469  seconds.\n",
      "ukmo\n",
      "1.708692211075686  seconds.\n",
      "kma\n",
      "1.916648579062894  seconds.\n",
      "ncep\n",
      "1.746703619020991  seconds.\n",
      "ukmetofficesipn\n",
      "24.218152868910693  seconds.\n",
      "ecmwfsipn\n",
      "0.040091139962896705  seconds.\n",
      "usnavysipn\n",
      "usnavyncep\n",
      "rasmesrl\n",
      "Plotting observations\n"
     ]
    },
    {
     "name": "stderr",
     "output_type": "stream",
     "text": [
      "/home/disk/sipn/nicway/anaconda3/envs/esio/lib/python3.6/site-packages/dask/local.py:271: RuntimeWarning: invalid value encountered in greater_equal\n",
      "  return func(*args2)\n"
     ]
    },
    {
     "name": "stdout",
     "output_type": "stream",
     "text": [
      "East Siberian Sea\n",
      "gfdlsipn\n",
      "0.4199924840359017  seconds.\n",
      "piomas\n",
      "yopp\n",
      "1.8680061539635062  seconds.\n",
      "ecmwf\n",
      "0.6497935230145231  seconds.\n",
      "metreofr\n",
      "0.3842886519851163  seconds.\n",
      "ukmo\n",
      "2.202723833033815  seconds.\n",
      "kma\n",
      "3.7088332480052486  seconds.\n",
      "ncep\n",
      "1.4791429280303419  seconds.\n",
      "ukmetofficesipn\n",
      "31.011361976037733  seconds.\n",
      "ecmwfsipn\n",
      "0.05367011309135705  seconds.\n",
      "usnavysipn\n",
      "usnavyncep\n",
      "rasmesrl\n",
      "Plotting observations\n"
     ]
    },
    {
     "name": "stderr",
     "output_type": "stream",
     "text": [
      "/home/disk/sipn/nicway/anaconda3/envs/esio/lib/python3.6/site-packages/dask/local.py:271: RuntimeWarning: invalid value encountered in greater_equal\n",
      "  return func(*args2)\n"
     ]
    },
    {
     "name": "stdout",
     "output_type": "stream",
     "text": [
      "Chukchi Sea\n",
      "gfdlsipn\n",
      "0.4527151150396094  seconds.\n",
      "piomas\n",
      "yopp\n",
      "1.7249484889907762  seconds.\n",
      "ecmwf\n",
      "0.21819368505384773  seconds.\n",
      "metreofr\n",
      "0.11972308706026524  seconds.\n",
      "ukmo\n",
      "0.8335885109845549  seconds.\n",
      "kma\n",
      "0.8432570330332965  seconds.\n",
      "ncep\n",
      "1.1988467540359125  seconds.\n",
      "ukmetofficesipn\n"
     ]
    }
   ],
   "source": [
    "# cmap_c = itertools.cycle(sns.color_palette(\"Paired\", len(E.model.keys()) ))\n",
    "# linecycler = itertools.cycle([\"-\",\"--\",\"-.\",\":\",\"--\"])\n",
    "for cvar in variables:\n",
    "    \n",
    "    fig_dir = os.path.join(E.fig_dir, 'model', 'all_model', cvar, \"regional_timeseries\")\n",
    "    if not os.path.exists(fig_dir):\n",
    "        os.makedirs(fig_dir)\n",
    "\n",
    "    # For each region\n",
    "    for cR in ds_region.ocean_regions.values:    \n",
    "        cR_name = ds_region.region_names.sel(nregions=cR).item(0)\n",
    "        print(cR_name)\n",
    "\n",
    "        # New Plot\n",
    "        f = plt.figure(figsize=(15,10))\n",
    "        ax1 = plt.subplot(1, 1, 1) # Observations\n",
    "\n",
    "        for (i, cmod) in enumerate(E.model.keys()):\n",
    "#         for (i, cmod) in enumerate(['usnavyncep','usnavysipn']):\n",
    "\n",
    "            if not E.icePredicted[cmod]:\n",
    "                continue\n",
    "            print(cmod)\n",
    "            # Load in Model\n",
    "            model_forecast = os.path.join(E.model[cmod][runType]['sipn_nc_agg'], '*.nc')\n",
    "\n",
    "            # Check we have files \n",
    "            files = glob.glob(model_forecast)\n",
    "            if not files:\n",
    "                #print(\"Skipping model\", cmod, \"no forecast files found.\")\n",
    "                continue # Skip this model\n",
    "            ds_model = xr.open_mfdataset(model_forecast, concat_dim='init_time')\n",
    "\n",
    "            # Get Extent\n",
    "            ds_model = ds_model.Extent\n",
    "\n",
    "            # Select init of interest\n",
    "            ds_model = ds_model.where(ds_model.init_time>=np.datetime64(SD), drop=True)\n",
    "            \n",
    "#             # Take mean of ensemble\n",
    "#             ds_model = ds_model.mean(dim='ensemble')\n",
    "\n",
    "            # Select region\n",
    "            ds_model = ds_model.sel(nregions=cR)\n",
    "\n",
    "            # Get model plotting specs\n",
    "            cc = E.model_color[cmod]\n",
    "            cl = E.model_linestyle[cmod]\n",
    "\n",
    "            # Plot Model\n",
    "            if i == 1: # Control only one initiailzation label in legend\n",
    "                no_init_label = False\n",
    "            else:\n",
    "                no_init_label = True\n",
    "            import timeit\n",
    "            start_time = timeit.default_timer()\n",
    "            \n",
    "            esio.plot_reforecast(ds=ds_model, axin=ax1, \n",
    "                                 labelin=E.model[cmod]['model_label'],\n",
    "                                 color=cc, marker=None,\n",
    "                                 linestyle=cl,\n",
    "                                 no_init_label=no_init_label)\n",
    "            print( (timeit.default_timer() - start_time), ' seconds.' )\n",
    "\n",
    "            # Memeory clean up\n",
    "            ds_model = None\n",
    "\n",
    "        # Plot observations\n",
    "        print('Plotting observations')\n",
    "        ds_obs_reg = ds_obs.sic.where(ds_obs.time>=np.datetime64(SD), drop=True)\n",
    "        ds_obs_reg = ds_obs_reg.where(ds_region.mask==cR)\n",
    "        ds_obs_reg = ((ds_obs_reg >= 0.15).astype('int') * ds_region.area).sum(dim='x').sum(dim='y')/(10**6)\n",
    "        ds_obs_reg.plot(ax=ax1, label=str(cdate.year)+' Observed', color='m', linewidth=8)\n",
    "        ax1.set_ylabel('Sea Ice Extent\\n [Millions of square km]')\n",
    "        cxlims = ax1.get_xlim()\n",
    "        \n",
    "\n",
    "    #     # 1980-2010 Historical Interquartile Range\n",
    "    #     plt.fill_between(ds_per_mean.time.values, ds_per_mean + ds_per_std, \n",
    "    #                  ds_per_mean - ds_per_std, alpha=0.35, label='1980-2010\\nInterquartile Range', color='m')\n",
    "        ax1.set_xlim(cxlims) # fix x limits\n",
    "        cylims = ax1.get_ylim()\n",
    "\n",
    "        # Plot current date line\n",
    "        ax1.plot([cd, cd], [cylims[0], cylims[1]], color='k', linestyle='--')\n",
    "        \n",
    "        ax1.set_title(cR_name)\n",
    "\n",
    "        # Add legend (static)\n",
    "        handles, labels = ax1.get_legend_handles_labels()\n",
    "        ax1.legend(handles[::-1], labels[::-1], loc='lower right',bbox_to_anchor=(1.35, 0))\n",
    "\n",
    "        f.autofmt_xdate()\n",
    "        ax1.set_ylim(cylims)\n",
    "        plt.subplots_adjust(right=.8)\n",
    "\n",
    "        # Save to file\n",
    "        base_name_out = 'Region_'+cR_name.replace(\" \", \"_\")+'_'+metric1+'_'+runType+'_raw_predicted'\n",
    "        f_out = os.path.join(fig_dir, base_name_out+'.png')\n",
    "        f.savefig(f_out,bbox_inches='tight',dpi=200)\n",
    "        mpld3.save_html(f, os.path.join(fig_dir, base_name_out+'.html'))\n",
    "\n",
    "        # Mem clean up\n",
    "        ds_model = None\n",
    "        ds_obs_reg = None\n",
    "        f = None"
   ]
  },
  {
   "cell_type": "code",
   "execution_count": null,
   "metadata": {},
   "outputs": [],
   "source": []
  },
  {
   "cell_type": "code",
   "execution_count": null,
   "metadata": {},
   "outputs": [],
   "source": []
  },
  {
   "cell_type": "code",
   "execution_count": null,
   "metadata": {},
   "outputs": [],
   "source": []
  }
 ],
 "metadata": {
  "kernelspec": {
   "display_name": "3.6.4 esio",
   "language": "python",
   "name": "esio"
  },
  "language_info": {
   "codemirror_mode": {
    "name": "ipython",
    "version": 3
   },
   "file_extension": ".py",
   "mimetype": "text/x-python",
   "name": "python",
   "nbconvert_exporter": "python",
   "pygments_lexer": "ipython3",
   "version": "3.6.4"
  }
 },
 "nbformat": 4,
 "nbformat_minor": 2
}
