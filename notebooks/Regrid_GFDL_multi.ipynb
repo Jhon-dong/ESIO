{
 "cells": [
  {
   "cell_type": "markdown",
   "metadata": {},
   "source": [
    "# GFDL FLOR Historical\n",
    "\n",
    "## Loads in all monthly forecasts of sea ice extent\n",
    "## Regrids to polar stereographic,\n",
    "## Saves to a netcdf file"
   ]
  },
  {
   "cell_type": "code",
   "execution_count": null,
   "metadata": {},
   "outputs": [],
   "source": [
    "%matplotlib inline\n",
    "import matplotlib\n",
    "import matplotlib.pyplot as plt\n",
    "import cartopy.crs as ccrs\n",
    "from cartopy.mpl.gridliner import LONGITUDE_FORMATTER, LATITUDE_FORMATTER\n",
    "import numpy as np\n",
    "import xarray as xr\n",
    "import xesmf as xe\n",
    "import os\n",
    "import glob\n",
    "import seaborn as sns"
   ]
  },
  {
   "cell_type": "code",
   "execution_count": null,
   "metadata": {},
   "outputs": [],
   "source": [
    "# General plotting settings\n",
    "sns.set_style('whitegrid')\n",
    "sns.set_context(\"talk\", font_scale=1.5, rc={\"lines.linewidth\": 2.5})"
   ]
  },
  {
   "cell_type": "code",
   "execution_count": null,
   "metadata": {},
   "outputs": [],
   "source": [
    "# Data dir\n",
    "data_dir = r'/home/disk/sipn/nicway/data/model/nmme/GFDL_FLORB01/hist/nomads.gfdl.noaa.gov'\n",
    "data_out = r'/home/disk/sipn/nicway/data/model/nmme/GFDL_FLORB01/hist/stereo'"
   ]
  },
  {
   "cell_type": "code",
   "execution_count": null,
   "metadata": {},
   "outputs": [],
   "source": [
    "def preprocess_time(x):\n",
    "    ''' Convert time to initialization and foreast lead time (to fit into orthoganal matrices)'''\n",
    "    # Get initialization time\n",
    "    x.coords['init_time'] = xr.decode_cf(x).isel(time=0).time.values;\n",
    "    #     x.coords['init_time'].attributes\n",
    "    # Get forecast time in days from initilization\n",
    "    x.coords['time'] = np.arange(1,13,1)*30 - 15 # x.time.values.astype('timedelta64[D]').astype(int)\n",
    "    # Rename and decode\n",
    "    return x.rename({'time':'fore_time'}, inplace=True)"
   ]
  },
  {
   "cell_type": "code",
   "execution_count": null,
   "metadata": {},
   "outputs": [],
   "source": [
    "# Open a single ensemble member\n",
    "def open_1_ensemble(cfiles, e):\n",
    "    ds = xr.open_mfdataset(cfiles, concat_dim='init_time', decode_times=False, \n",
    "                           preprocess=lambda x: preprocess_time(x),\n",
    "                           autoclose=True)\n",
    "    ds.coords['ensemble'] = e\n",
    "    return ds"
   ]
  },
  {
   "cell_type": "code",
   "execution_count": null,
   "metadata": {},
   "outputs": [],
   "source": [
    "# Open all ensemble members as a dataset\n",
    "ds_list = []\n",
    "for e in np.arange(1,13,1):\n",
    "    ensm_name = 'r'+str(e)+'i1p1'\n",
    "    cfiles = os.path.join(data_dir, '*sic*'+ensm_name+'*.nc')\n",
    "    ds_list.append(open_1_ensemble(cfiles, e))\n",
    "ds_all = xr.concat(ds_list, dim='ensemble')"
   ]
  },
  {
   "cell_type": "code",
   "execution_count": null,
   "metadata": {},
   "outputs": [],
   "source": [
    "ds_list = None"
   ]
  },
  {
   "cell_type": "code",
   "execution_count": null,
   "metadata": {},
   "outputs": [],
   "source": [
    "# Average over all sea ice categories \n",
    "sic = ds_all.sic.sum(dim='ct', skipna=False)"
   ]
  },
  {
   "cell_type": "code",
   "execution_count": null,
   "metadata": {},
   "outputs": [],
   "source": [
    "# Get info about target grid\n",
    "flat = r'/home/disk/sipn/nicway/data/grids/psn25lats_v3.dat'\n",
    "flon = r'/home/disk/sipn/nicway/data/grids/psn25lons_v3.dat'\n",
    "NY=304; \n",
    "NX=448;\n",
    "\n",
    "def readBinFile(f, nx, ny):\n",
    "    with open(f, 'rb') as fid:\n",
    "        data_array = np.fromfile(f, np.int32)*1e-5\n",
    "    return data_array.reshape((nx,ny))"
   ]
  },
  {
   "cell_type": "code",
   "execution_count": null,
   "metadata": {},
   "outputs": [],
   "source": [
    "lat = readBinFile(flat, NX, NY).T\n",
    "lon = readBinFile(flon, NX, NY).T\n",
    "ds_out = xr.Dataset({'lat': (['x', 'y'],  lat), 'lon': (['x', 'y'], lon)})\n",
    "ds_out"
   ]
  },
  {
   "cell_type": "code",
   "execution_count": null,
   "metadata": {},
   "outputs": [],
   "source": []
  },
  {
   "cell_type": "code",
   "execution_count": null,
   "metadata": {},
   "outputs": [],
   "source": [
    "# Plot target lat and lon\n",
    "# ds_out.lon.plot.pcolormesh()"
   ]
  },
  {
   "cell_type": "code",
   "execution_count": null,
   "metadata": {},
   "outputs": [],
   "source": [
    "# ds_out.lat.plot.pcolormesh()"
   ]
  },
  {
   "cell_type": "code",
   "execution_count": null,
   "metadata": {},
   "outputs": [],
   "source": [
    "# Calculate regridding matrix\n",
    "regridder = xe.Regridder(sic, ds_out, 'bilinear', periodic=True)\n",
    "# Regrid\n",
    "sic_out = regridder(sic)\n",
    "# sic_out"
   ]
  },
  {
   "cell_type": "code",
   "execution_count": null,
   "metadata": {},
   "outputs": [],
   "source": [
    "sic_out.dims"
   ]
  },
  {
   "cell_type": "code",
   "execution_count": null,
   "metadata": {},
   "outputs": [],
   "source": [
    "# Define naive_fast that searches for the nearest WRF grid cell center\n",
    "def naive_fast(latvar,lonvar,lat0,lon0):\n",
    "    # Read latitude and longitude from file into numpy arrays\n",
    "    latvals = latvar[:]\n",
    "    lonvals = lonvar[:]\n",
    "    dist_sq = (latvals-lat0)**2 + (lonvals-lon0)**2\n",
    "    minindex_flattened = dist_sq.argmin()  # 1D index of min element\n",
    "    iy_min,ix_min = np.unravel_index(minindex_flattened, latvals.shape)\n",
    "    return iy_min,ix_min"
   ]
  },
  {
   "cell_type": "code",
   "execution_count": null,
   "metadata": {},
   "outputs": [],
   "source": [
    "# Set up plotting info\n",
    "cmap_sic = matplotlib.colors.ListedColormap(sns.color_palette(\"Blues\", 10))\n",
    "cmap_sic.set_bad(color = 'lightgrey')"
   ]
  },
  {
   "cell_type": "code",
   "execution_count": null,
   "metadata": {},
   "outputs": [],
   "source": [
    "# Plot original projection\n",
    "plt.figure(figsize=(20,10))\n",
    "ax1 = plt.axes(projection=ccrs.PlateCarree())\n",
    "# ds_p = sic.mean(dim='init_time').mean(dim='fore_time').mean(dim='ensemble')\n",
    "ds_p = sic.isel(init_time=0).isel(fore_time=6).mean(dim='ensemble')\n",
    "ds_p.plot.pcolormesh(ax=ax1, x='lon', y='lat', \n",
    "                                 vmin=0, vmax=1,\n",
    "                                 cmap=matplotlib.colors.ListedColormap(sns.color_palette(\"Blues\", 10)));\n",
    "ax1.set_extent([-180, 180, -90, 90], crs=ccrs.PlateCarree())\n",
    "gl = ax1.gridlines(crs=ccrs.PlateCarree(), linestyle='-')\n",
    "gl.xlabels_bottom = True\n",
    "gl.ylabels_left = True\n",
    "gl.xformatter = LONGITUDE_FORMATTER\n",
    "gl.yformatter = LATITUDE_FORMATTER\n",
    "ax1.coastlines(linewidth=0.75, color='black', resolution='50m');"
   ]
  },
  {
   "cell_type": "code",
   "execution_count": null,
   "metadata": {},
   "outputs": [],
   "source": [
    "# Plot SIC on target projection\n",
    "plt.figure(figsize=(10,8));\n",
    "ax1 = plt.axes(projection=ccrs.NorthPolarStereo(central_longitude=0))\n",
    "# ds_p2 = sic_out.mean(dim='init_time').mean(dim='fore_time').mean(dim='ensemble')\n",
    "ds_p2 = sic_out.isel(init_time=0).isel(fore_time=6).mean(dim='ensemble')\n",
    "ds_p2.plot.pcolormesh(ax=ax1, x='lon', y='lat', \n",
    "                                     transform=ccrs.PlateCarree(),\n",
    "                                     cmap=cmap_sic)\n",
    "# Add coastlines and meridians/parallels \n",
    "ax1.coastlines(linewidth=0.75, color='black', resolution='50m')\n",
    "ax1.gridlines(crs=ccrs.PlateCarree(), linestyle='-')\n",
    "ax1.set_extent([-180, 180, 50, 90], crs=ccrs.PlateCarree())\n",
    "plt.tight_layout()"
   ]
  },
  {
   "cell_type": "code",
   "execution_count": null,
   "metadata": {},
   "outputs": [],
   "source": [
    "# # Save regridded to netcdf file\n",
    "f_out = os.path.join(data_out, 'GFDL_FLORB01_Stereo.nc')\n",
    "sic_out.to_netcdf(f_out)"
   ]
  },
  {
   "cell_type": "code",
   "execution_count": null,
   "metadata": {},
   "outputs": [],
   "source": [
    "# Clean up\n",
    "regridder.clean_weight_file()  # clean-up"
   ]
  }
 ],
 "metadata": {
  "kernelspec": {
   "display_name": "Python 3",
   "language": "python",
   "name": "python3"
  },
  "language_info": {
   "codemirror_mode": {
    "name": "ipython",
    "version": 3
   },
   "file_extension": ".py",
   "mimetype": "text/x-python",
   "name": "python",
   "nbconvert_exporter": "python",
   "pygments_lexer": "ipython3",
   "version": "3.6.4"
  }
 },
 "nbformat": 4,
 "nbformat_minor": 2
}
