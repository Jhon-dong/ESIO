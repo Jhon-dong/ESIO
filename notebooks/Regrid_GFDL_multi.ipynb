{
 "cells": [
  {
   "cell_type": "markdown",
   "metadata": {},
   "source": [
    "# GFDL FLOR Historical\n",
    "\n",
    "## Loads in all monthly forecasts of sea ice extent\n",
    "## Regrids to polar stereographic,\n",
    "## Saves to a netcdf file"
   ]
  },
  {
   "cell_type": "code",
   "execution_count": null,
   "metadata": {},
   "outputs": [],
   "source": [
    "# Standard Imports\n",
    "%matplotlib inline\n",
    "%load_ext autoreload\n",
    "%autoreload\n",
    "import matplotlib\n",
    "import matplotlib.pyplot as plt\n",
    "import cartopy.crs as ccrs\n",
    "from cartopy.mpl.gridliner import LONGITUDE_FORMATTER, LATITUDE_FORMATTER\n",
    "import numpy as np\n",
    "import xarray as xr\n",
    "import xesmf as xe\n",
    "import os\n",
    "import glob\n",
    "import seaborn as sns\n",
    "import warnings\n",
    "warnings.simplefilter(action='ignore', category=FutureWarning)\n",
    "\n",
    "# ESIO Imports\n",
    "import esio"
   ]
  },
  {
   "cell_type": "code",
   "execution_count": null,
   "metadata": {},
   "outputs": [],
   "source": [
    "# General plotting settings\n",
    "sns.set_style('whitegrid')\n",
    "sns.set_context(\"talk\", font_scale=1.5, rc={\"lines.linewidth\": 2.5})"
   ]
  },
  {
   "cell_type": "code",
   "execution_count": null,
   "metadata": {},
   "outputs": [],
   "source": [
    "# Data dir\n",
    "data_dir = r'/home/disk/sipn/nicway/data/model/nmme/reforecast/native'\n",
    "data_out = r'/home/disk/sipn/nicway/data/model/nmme/reforecast/sipn_nc'\n",
    "gfdl_grid_file = r'/home/disk/sipn/nicway/data/grids/GFDLFLOR_gridinfo.nc' # Correct GFDL grid info\n",
    "stero_grid_file = r'/home/disk/sipn/nicway/data/grids/stereo_gridinfo.nc'"
   ]
  },
  {
   "cell_type": "code",
   "execution_count": null,
   "metadata": {},
   "outputs": [],
   "source": [
    "test_dir = r'/home/disk/sipn/nicway/public_html/data'"
   ]
  },
  {
   "cell_type": "code",
   "execution_count": null,
   "metadata": {},
   "outputs": [],
   "source": [
    "gfdl_grid = esio.load_grid_info(gfdl_grid_file, model='GFDL')\n",
    "gfdl_grid.dims\n",
    "# Shift latitude to be from 0 to 360\n",
    "# gfdl_grid['lon'] = gfdl_grid.lon + 280\n",
    "# gfdl_grid['lon_b'] = gfdl_grid.lon_b + 280"
   ]
  },
  {
   "cell_type": "code",
   "execution_count": null,
   "metadata": {},
   "outputs": [],
   "source": [
    "# Plot the input Grid\n",
    "%matplotlib notebook\n",
    "plt.figure(figsize=(10,8));\n",
    "ax1 = plt.axes(projection=ccrs.PlateCarree())\n",
    "ax1.scatter(gfdl_grid['lon_b'], gfdl_grid['lat_b'], s=6, c='r', transform=ccrs.PlateCarree())  # plot grid locations\n",
    "ax1.scatter(gfdl_grid['lon'], gfdl_grid['lat'], s=3, c='b', transform=ccrs.PlateCarree())  # plot grid locations\n",
    "plt.xlabel('lon')\n",
    "plt.ylabel('lat')"
   ]
  },
  {
   "cell_type": "code",
   "execution_count": null,
   "metadata": {},
   "outputs": [],
   "source": [
    "# Plot the input Grid\n",
    "%matplotlib notebook\n",
    "plt.figure(figsize=(10,8));\n",
    "ax1 = plt.axes(projection=ccrs.NorthPolarStereo(central_longitude=0))\n",
    "ax1.scatter(gfdl_grid['lon_b'], gfdl_grid['lat_b'], s=6, c='r', transform=ccrs.PlateCarree())  # plot grid locations\n",
    "ax1.scatter(gfdl_grid['lon'], gfdl_grid['lat'], s=3, c='b', transform=ccrs.PlateCarree())  # plot grid locations\n",
    "plt.xlabel('lon')\n",
    "plt.ylabel('lat')"
   ]
  },
  {
   "cell_type": "code",
   "execution_count": null,
   "metadata": {},
   "outputs": [],
   "source": [
    "obs_grid = esio.load_grid_info(stero_grid_file, model='NSIDC')\n",
    "# Ensure latitude is within bounds (-90 to 90)\n",
    "# Have to do this because grid file has 90.000001\n",
    "obs_grid['lat_b'] = obs_grid.lat_b.where(obs_grid.lat_b < 90, other = 90)"
   ]
  },
  {
   "cell_type": "code",
   "execution_count": null,
   "metadata": {},
   "outputs": [],
   "source": [
    "# plt.scatter(obs_grid.lon.values, obs_grid.lat.values)\n",
    "# plt.scatter(obs_grid.lon_b.values, obs_grid.lat_b.values)\n",
    "# # plt.xlim([-2, 2])\n",
    "# # plt.ylim([75, 82])"
   ]
  },
  {
   "cell_type": "code",
   "execution_count": null,
   "metadata": {},
   "outputs": [],
   "source": [
    "# Regridding Options\n",
    "method='conservative' # ['bilinear', 'conservative', 'nearest_s2d', 'nearest_d2s', 'patch']"
   ]
  },
  {
   "cell_type": "code",
   "execution_count": null,
   "metadata": {},
   "outputs": [],
   "source": []
  },
  {
   "cell_type": "code",
   "execution_count": null,
   "metadata": {},
   "outputs": [],
   "source": [
    "weights_flag = False # Flag to set up weights have been created\n",
    "\n",
    "for year in np.arange(1980, 2014, 1):\n",
    "    \n",
    "    # Loop over each ensemble member\n",
    "    ds_list = []\n",
    "    for e in np.arange(1,13,1):\n",
    "        ensm_name = 'r'+str(e)+'i1p1'\n",
    "        cfiles = os.path.join(data_dir, '*sic*'+ensm_name+'_'+str(year)+'*.nc')\n",
    "        ds_list.append(esio.open_1_member(cfiles, e))\n",
    "    ds_all = xr.concat(ds_list, dim='ensemble')\n",
    "\n",
    "    # Fix GFDL grid\n",
    "    # Files comes with incorrect lat/lon at poles. Use correct separte file to update coords\n",
    "    ds_all.rename({'lat':'nj', 'lon':'ni'}, inplace=True); # Rename wrong-lat/lon to indices\n",
    "    ds_all.coords['nj'] = gfdl_grid.nj\n",
    "    ds_all.coords['ni'] = gfdl_grid.ni\n",
    "    ds_all.coords['lat'] = gfdl_grid.lat\n",
    "    ds_all.coords['lon'] = gfdl_grid.lon\n",
    "    ds_all.coords['lat_b'] = gfdl_grid.lat_b\n",
    "    ds_all.coords['lon_b'] = gfdl_grid.lon_b\n",
    "    \n",
    "#     ds_all.to_netcdf(os.path.join(test_dir,'ds_in_small.nc'))\n",
    "#     obs_grid.to_netcdf(os.path.join(test_dir,'ds_target.nc'))\n",
    "#     print('saved')\n",
    "    \n",
    "    # Calculate regridding matrix\n",
    "    regridder = xe.Regridder(ds_all, obs_grid, method, periodic=False, reuse_weights=weights_flag)\n",
    "    weights_flag = True # Set true for following loops\n",
    "    \n",
    "    # Average over all sea ice categories \n",
    "    sic = ds_all.sic.sum(dim='ct', skipna=False)\n",
    "    \n",
    "    # Regrid\n",
    "    sic_out = regridder(sic)\n",
    "\n",
    "    # Add dropped coords\n",
    "    sic_out['fore_time'] = ds_all.fore_time\n",
    "\n",
    "    # # Save regridded to netcdf file\n",
    "    f_out = os.path.join(data_out, 'GFDL_FLORB01_'+str(year)+'_Stereo.nc')\n",
    "    sic_out.to_netcdf(f_out)\n",
    "    sic_out = None # Memory clean up\n",
    "    print('Saved ',f_out)"
   ]
  },
  {
   "cell_type": "code",
   "execution_count": null,
   "metadata": {},
   "outputs": [],
   "source": [
    "# ds_in = xr.open_dataset('ds_in.nc').sum(dim='ct').isel(ensemble=0, init_time=0, fore_time_i=0)\n",
    "# ds_in.to_netcdf('ds_in_small.nc')"
   ]
  },
  {
   "cell_type": "code",
   "execution_count": null,
   "metadata": {},
   "outputs": [],
   "source": []
  },
  {
   "cell_type": "code",
   "execution_count": null,
   "metadata": {},
   "outputs": [],
   "source": []
  },
  {
   "cell_type": "code",
   "execution_count": null,
   "metadata": {},
   "outputs": [],
   "source": []
  },
  {
   "cell_type": "code",
   "execution_count": null,
   "metadata": {},
   "outputs": [],
   "source": [
    "# Clean up\n",
    "regridder.clean_weight_file()  # clean-up"
   ]
  },
  {
   "cell_type": "code",
   "execution_count": null,
   "metadata": {},
   "outputs": [],
   "source": []
  },
  {
   "cell_type": "markdown",
   "metadata": {},
   "source": [
    "# Plotting"
   ]
  },
  {
   "cell_type": "code",
   "execution_count": null,
   "metadata": {},
   "outputs": [],
   "source": [
    "# # Set up plotting info\n",
    "# cmap_sic = matplotlib.colors.ListedColormap(sns.color_palette(\"Blues\", 10))\n",
    "# cmap_sic.set_bad(color = 'lightgrey')\n",
    "\n",
    "# # Plot original projection\n",
    "# plt.figure(figsize=(20,10))\n",
    "# ax1 = plt.axes(projection=ccrs.PlateCarree())\n",
    "# # ds_p = sic.mean(dim='init_time').mean(dim='fore_time').mean(dim='ensemble')\n",
    "# ds_p = sic.isel(init_time=0).isel(fore_time_i=6).mean(dim='ensemble')\n",
    "# ds_p.plot.pcolormesh(ax=ax1, x='lon', y='lat', \n",
    "#                                  vmin=0, vmax=1,\n",
    "#                                  cmap=matplotlib.colors.ListedColormap(sns.color_palette(\"Blues\", 10)));\n",
    "# ax1.set_extent([-180, 180, -90, 90], crs=ccrs.PlateCarree())\n",
    "# gl = ax1.gridlines(crs=ccrs.PlateCarree(), linestyle='-')\n",
    "# gl.xlabels_bottom = True\n",
    "# gl.ylabels_left = True\n",
    "# gl.xformatter = LONGITUDE_FORMATTER\n",
    "# gl.yformatter = LATITUDE_FORMATTER\n",
    "# ax1.coastlines(linewidth=0.75, color='black', resolution='50m');\n",
    "\n",
    "# # Plot SIC on target projection\n",
    "# plt.figure(figsize=(10,8));\n",
    "# ax1 = plt.axes(projection=ccrs.NorthPolarStereo(central_longitude=0))\n",
    "# # ds_p2 = sic_out.mean(dim='init_time').mean(dim='fore_time').mean(dim='ensemble')\n",
    "# ds_p2 = sic_out.isel(init_time=0).isel(fore_time_i=6).mean(dim='ensemble')\n",
    "# ds_p2.plot.pcolormesh(ax=ax1, x='lon', y='lat', \n",
    "#                                      transform=ccrs.PlateCarree(),\n",
    "#                                      cmap=cmap_sic)\n",
    "# # Add coastlines and meridians/parallels \n",
    "# ax1.coastlines(linewidth=0.75, color='black', resolution='50m')\n",
    "# ax1.gridlines(crs=ccrs.PlateCarree(), linestyle='-')\n",
    "# ax1.set_extent([-180, 180, 50, 90], crs=ccrs.PlateCarree())\n",
    "# plt.tight_layout()"
   ]
  },
  {
   "cell_type": "code",
   "execution_count": null,
   "metadata": {},
   "outputs": [],
   "source": []
  }
 ],
 "metadata": {
  "kernelspec": {
   "display_name": "Python 3",
   "language": "python",
   "name": "python3"
  },
  "language_info": {
   "codemirror_mode": {
    "name": "ipython",
    "version": 3
   },
   "file_extension": ".py",
   "mimetype": "text/x-python",
   "name": "python",
   "nbconvert_exporter": "python",
   "pygments_lexer": "ipython3",
   "version": "3.6.4"
  }
 },
 "nbformat": 4,
 "nbformat_minor": 2
}
